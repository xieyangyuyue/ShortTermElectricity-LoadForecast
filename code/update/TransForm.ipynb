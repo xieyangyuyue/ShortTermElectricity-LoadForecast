{
 "cells": [
  {
   "cell_type": "markdown",
   "id": "24233a4c",
   "metadata": {},
   "source": [
    " 电力负荷预测 - Transformer模型"
   ]
  },
  {
   "cell_type": "markdown",
   "id": "4fa57801",
   "metadata": {},
   "source": [
    "本笔记本使用Transformer模型进行短期电力负荷预测"
   ]
  },
  {
   "cell_type": "markdown",
   "id": "045752f4",
   "metadata": {},
   "source": [
    "导入必要的库"
   ]
  },
  {
   "cell_type": "code",
   "execution_count": null,
   "id": "a6661208",
   "metadata": {
    "vscode": {
     "languageId": "plaintext"
    }
   },
   "outputs": [],
   "source": [
    "import numpy as np\n",
    "import pandas as pd\n",
    "import matplotlib.pyplot as plt\n",
    "import torch\n",
    "import torch.nn as nn\n",
    "import torch.optim as optim\n",
    "from torch.utils.data import Dataset, DataLoader\n",
    "from sklearn.preprocessing import StandardScaler, MinMaxScaler\n",
    "from sklearn.metrics import mean_squared_error, mean_absolute_error, r2_score\n",
    "from prettytable import PrettyTable\n",
    "import math\n",
    "import os\n",
    "from tqdm import tqdm  # 用于显示训练进度"
   ]
  },
  {
   "cell_type": "markdown",
   "id": "09155304",
   "metadata": {},
   "source": [
    "设置随机种子以确保结果可复现"
   ]
  },
  {
   "cell_type": "code",
   "execution_count": null,
   "id": "1cdd5b44",
   "metadata": {
    "vscode": {
     "languageId": "plaintext"
    }
   },
   "outputs": [],
   "source": [
    "torch.manual_seed(42)\n",
    "np.random.seed(42)"
   ]
  },
  {
   "cell_type": "markdown",
   "id": "4658f773",
   "metadata": {},
   "source": [
    "检测GPU可用性"
   ]
  },
  {
   "cell_type": "code",
   "execution_count": null,
   "id": "e0e1fc78",
   "metadata": {
    "vscode": {
     "languageId": "plaintext"
    }
   },
   "outputs": [],
   "source": [
    "device = torch.device(\"cuda\" if torch.cuda.is_available() else \"cpu\")\n",
    "print(f\"使用设备: {device}\")\n",
    "if torch.cuda.is_available():\n",
    "    print(f\"GPU名称: {torch.cuda.get_device_name(0)}\")"
   ]
  },
  {
   "cell_type": "markdown",
   "id": "9d579d42",
   "metadata": {},
   "source": [
    "### 1. 辅助函数定义"
   ]
  },
  {
   "cell_type": "markdown",
   "id": "62d26671",
   "metadata": {},
   "source": [
    "定义MAPE计算函数"
   ]
  },
  {
   "cell_type": "code",
   "execution_count": null,
   "id": "6f12ff61",
   "metadata": {
    "vscode": {
     "languageId": "plaintext"
    }
   },
   "outputs": [],
   "source": [
    "def mape(y_true, y_pred):\n",
    "    # 处理接近零的值，避免除零错误\n",
    "    epsilon = 1e-10\n",
    "    return np.mean(np.abs((y_true - y_pred) / (y_true + epsilon))) * 100"
   ]
  },
  {
   "cell_type": "markdown",
   "id": "5073a95b",
   "metadata": {},
   "source": [
    "### 2. 模型组件定义"
   ]
  },
  {
   "cell_type": "markdown",
   "id": "623b6d34",
   "metadata": {},
   "source": [
    " 定义位置编码类"
   ]
  },
  {
   "cell_type": "code",
   "execution_count": null,
   "id": "5e3f5df7",
   "metadata": {
    "vscode": {
     "languageId": "plaintext"
    }
   },
   "outputs": [],
   "source": [
    "class PositionalEncoding(nn.Module):\n",
    "    def __init__(self, d_model, max_len=5000):\n",
    "        super(PositionalEncoding, self).__init__()\n",
    "        pe = torch.zeros(max_len, d_model)\n",
    "        position = torch.arange(0, max_len, dtype=torch.float).unsqueeze(1)\n",
    "        div_term = torch.exp(torch.arange(0, d_model, 2).float() * (-math.log(10000.0) / d_model))\n",
    "        pe[:, 0::2] = torch.sin(position * div_term)\n",
    "        pe[:, 1::2] = torch.cos(position * div_term)\n",
    "        self.register_buffer('pe', pe)\n",
    "        \n",
    "    def forward(self, x):\n",
    "        # x: [batch_size, seq_len, feature_dim]\n",
    "        return x + self.pe[:x.size(1), :].unsqueeze(0)"
   ]
  },
  {
   "cell_type": "markdown",
   "id": "a3556b98",
   "metadata": {},
   "source": [
    "定义Transformer编码器模型"
   ]
  },
  {
   "cell_type": "code",
   "execution_count": null,
   "id": "7e37409d",
   "metadata": {
    "vscode": {
     "languageId": "plaintext"
    }
   },
   "outputs": [],
   "source": [
    "class TransformerEncoderModel(nn.Module):\n",
    "    def __init__(self, input_dim, d_model, nhead, num_layers, dim_feedforward, output_dim, dropout=0.1):\n",
    "        super(TransformerEncoderModel, self).__init__()\n",
    "        self.input_embedding = nn.Linear(input_dim, d_model)\n",
    "        self.positional_encoding = PositionalEncoding(d_model)\n",
    "        \n",
    "        # 创建Transformer编码器层\n",
    "        encoder_layer = nn.TransformerEncoderLayer(\n",
    "            d_model=d_model,\n",
    "            nhead=nhead,\n",
    "            dim_feedforward=dim_feedforward,\n",
    "            dropout=dropout,\n",
    "            batch_first=True  # PyTorch 1.9+ 支持batch_first\n",
    "        )\n",
    "        \n",
    "        # 创建多层Transformer编码器\n",
    "        self.transformer_encoder = nn.TransformerEncoder(encoder_layer, num_layers=num_layers)\n",
    "        \n",
    "        # 输出层\n",
    "        self.decoder = nn.Sequential(\n",
    "            nn.Linear(d_model, d_model//2),\n",
    "            nn.ReLU(),\n",
    "            nn.Linear(d_model//2, output_dim)\n",
    "        )\n",
    "        \n",
    "        self.d_model = d_model\n",
    "        \n",
    "    def forward(self, x):\n",
    "        # x shape: [batch_size, seq_len, input_dim]\n",
    "        x = self.input_embedding(x)  # [batch_size, seq_len, d_model]\n",
    "        x = self.positional_encoding(x)  # 添加位置编码\n",
    "        x = self.transformer_encoder(x)  # [batch_size, seq_len, d_model]\n",
    "        \n",
    "        # 取序列最后一个时间步的输出作为预测结果\n",
    "        x = x[:, -1, :]  # [batch_size, d_model]\n",
    "        output = self.decoder(x)  # [batch_size, output_dim]\n",
    "        \n",
    "        return output"
   ]
  },
  {
   "cell_type": "markdown",
   "id": "c7ddcd5b",
   "metadata": {},
   "source": [
    "### 3. 数据加载和预处理"
   ]
  },
  {
   "cell_type": "markdown",
   "id": "ce477e33",
   "metadata": {},
   "source": [
    "定义负荷预测数据集类"
   ]
  },
  {
   "cell_type": "code",
   "execution_count": null,
   "id": "158fa553",
   "metadata": {
    "vscode": {
     "languageId": "plaintext"
    }
   },
   "outputs": [],
   "source": [
    "class LoadForecastDataset(Dataset):\n",
    "    def __init__(self, data, seq_len, pred_len):\n",
    "        self.seq_len = seq_len\n",
    "        self.pred_len = pred_len\n",
    "        self.data = data\n",
    "        self.length = len(data) - seq_len - pred_len + 1\n",
    "        \n",
    "    def __len__(self):\n",
    "        return self.length\n",
    "    \n",
    "    def __getitem__(self, idx):\n",
    "        # 输入序列\n",
    "        x = self.data[idx:idx+self.seq_len]\n",
    "        # 目标序列（负荷值）\n",
    "        y = self.data[idx+self.seq_len:idx+self.seq_len+self.pred_len, 0]  # 第一列是负荷值\n",
    "        \n",
    "        return x, y"
   ]
  },
  {
   "cell_type": "markdown",
   "id": "713b1af4",
   "metadata": {},
   "source": [
    "数据预处理函数"
   ]
  },
  {
   "cell_type": "code",
   "execution_count": null,
   "id": "8f02c884",
   "metadata": {
    "vscode": {
     "languageId": "plaintext"
    }
   },
   "outputs": [],
   "source": [
    "def preprocess_data(file_path, seq_len, pred_len):\n",
    "    # 读取数据\n",
    "    df = pd.read_csv(file_path)\n",
    "    \n",
    "    # 提取特征列和目标列\n",
    "    feature_cols = ['value', 'weather_status', 'temperature', 'humidity', 'wind_speed', \n",
    "                    'wind_direction_angle', 'pressure', 'visibility', 'precipitation', \n",
    "                    'light', 'holiday', 'minute', 'week', 'year']\n",
    "    \n",
    "    # 确保所有特征列都存在\n",
    "    for col in feature_cols:\n",
    "        if col not in df.columns:\n",
    "            raise ValueError(f\"列 {col} 不存在于数据集中\")\n",
    "    \n",
    "    # 提取数据\n",
    "    data = df[feature_cols].values\n",
    "    \n",
    "    # 数据标准化\n",
    "    scaler = MinMaxScaler()\n",
    "    data = scaler.fit_transform(data)\n",
    "    \n",
    "    # 创建数据集\n",
    "    dataset = LoadForecastDataset(data, seq_len, pred_len)\n",
    "    \n",
    "    return dataset, scaler\n"
   ]
  },
  {
   "cell_type": "markdown",
   "id": "a9846cd2",
   "metadata": {},
   "source": [
    "### 4. 训练和评估函数"
   ]
  },
  {
   "cell_type": "markdown",
   "id": "635e650f",
   "metadata": {},
   "source": [
    "训练函数"
   ]
  },
  {
   "cell_type": "code",
   "execution_count": null,
   "id": "0d4edb60",
   "metadata": {
    "vscode": {
     "languageId": "plaintext"
    }
   },
   "outputs": [],
   "source": [
    "def train_model(model, train_loader, criterion, optimizer, epochs, device):\n",
    "    model.train()\n",
    "    model.to(device)  # 将模型移至GPU\n",
    "    \n",
    "    train_losses = []\n",
    "    \n",
    "    for epoch in range(epochs):\n",
    "        epoch_loss = 0\n",
    "        progress_bar = tqdm(enumerate(train_loader), total=len(train_loader), desc=f'Epoch {epoch+1}/{epochs}')\n",
    "        \n",
    "        for i, (inputs, targets) in progress_bar:\n",
    "            # 将数据移至GPU\n",
    "            inputs = inputs.to(device).float()\n",
    "            targets = targets.to(device).float()\n",
    "            \n",
    "            # 前向传播\n",
    "            outputs = model(inputs)\n",
    "            loss = criterion(outputs, targets)\n",
    "            \n",
    "            # 反向传播和优化\n",
    "            optimizer.zero_grad()\n",
    "            loss.backward()\n",
    "            optimizer.step()\n",
    "            \n",
    "            epoch_loss += loss.item()\n",
    "            \n",
    "            # 更新进度条\n",
    "            progress_bar.set_postfix({'loss': loss.item()})\n",
    "        \n",
    "        avg_loss = epoch_loss / len(train_loader)\n",
    "        train_losses.append(avg_loss)\n",
    "        print(f'Epoch {epoch+1}/{epochs}, Average Loss: {avg_loss:.6f}')\n",
    "    \n",
    "    return train_losses"
   ]
  },
  {
   "cell_type": "markdown",
   "id": "ec825244",
   "metadata": {},
   "source": [
    "测试函数"
   ]
  },
  {
   "cell_type": "code",
   "execution_count": null,
   "id": "cf9a8eab",
   "metadata": {
    "vscode": {
     "languageId": "plaintext"
    }
   },
   "outputs": [],
   "source": [
    "def test_model(model, test_loader, device):\n",
    "    model.eval()\n",
    "    model.to(device)  # 确保模型在GPU上\n",
    "    \n",
    "    all_predictions = []\n",
    "    all_targets = []\n",
    "    \n",
    "    with torch.no_grad():\n",
    "        for inputs, targets in test_loader:\n",
    "            # 将数据移至GPU\n",
    "            inputs = inputs.to(device).float()\n",
    "            targets = targets.to(device).float()\n",
    "            \n",
    "            # 预测\n",
    "            outputs = model(inputs)\n",
    "            \n",
    "            # 将结果移回CPU并收集\n",
    "            all_predictions.append(outputs.cpu().numpy())\n",
    "            all_targets.append(targets.cpu().numpy())\n",
    "    \n",
    "    # 转换为numpy数组\n",
    "    predicted_data = np.concatenate(all_predictions)\n",
    "    Ytest = np.concatenate(all_targets)\n",
    "    \n",
    "    return predicted_data, Ytest\n"
   ]
  },
  {
   "cell_type": "markdown",
   "id": "63047587",
   "metadata": {},
   "source": [
    "评估模型"
   ]
  },
  {
   "cell_type": "code",
   "execution_count": null,
   "id": "fb79f080",
   "metadata": {
    "vscode": {
     "languageId": "plaintext"
    }
   },
   "outputs": [],
   "source": [
    "def evaluate_model(predicted_data, Ytest, n_out):\n",
    "    # 初始化存储各个评估指标的字典。\n",
    "    table = PrettyTable(['测试集指标', 'MSE', 'RMSE', 'MAE', 'MAPE', 'R2'])\n",
    "    mse_dic, rmse_dic, mae_dic, mape_dic, r2_dic = [], [], [], [], []\n",
    "    \n",
    "    for i in range(n_out):\n",
    "        # 遍历每一个预测步长。每一列代表一步预测，现在是在求每步预测的指标\n",
    "        actual = [float(row[i]) for row in Ytest]  # 一列列提取\n",
    "        # 从测试集中提取实际值。\n",
    "        predicted = [float(row[i]) for row in predicted_data]\n",
    "        # 从预测结果中提取预测值。\n",
    "        mse = mean_squared_error(actual, predicted)\n",
    "        # 计算均方误差（MSE）。\n",
    "        mse_dic.append(mse)\n",
    "        rmse = math.sqrt(mean_squared_error(actual, predicted))\n",
    "        # 计算均方根误差（RMSE）。\n",
    "        rmse_dic.append(rmse)\n",
    "        mae = mean_absolute_error(actual, predicted)\n",
    "        # 计算平均绝对误差（MAE）。\n",
    "        mae_dic.append(mae)\n",
    "        MApe = mape(np.array(actual), np.array(predicted))\n",
    "        # 计算平均绝对百分比误差（MAPE）。\n",
    "        mape_dic.append(MApe)\n",
    "        r2 = r2_score(actual, predicted)\n",
    "        # 计算R平方值（R2）。\n",
    "        r2_dic.append(r2)\n",
    "        \n",
    "        if n_out == 1:\n",
    "            strr = '预测结果指标：'\n",
    "        else:\n",
    "            strr = '第' + str(i + 1) + '步预测结果指标：'\n",
    "        \n",
    "        table.add_row([strr, mse, rmse, mae, f'{MApe:.2f}%', f'{r2 * 100:.2f}%'])\n",
    "    \n",
    "    return mse_dic, rmse_dic, mae_dic, mape_dic, r2_dic, table\n"
   ]
  },
  {
   "cell_type": "markdown",
   "id": "383d7f11",
   "metadata": {},
   "source": [
    "### 5. 可视化函数"
   ]
  },
  {
   "cell_type": "markdown",
   "id": "0a8cbf8b",
   "metadata": {},
   "source": [
    "视化预测结果"
   ]
  },
  {
   "cell_type": "code",
   "execution_count": null,
   "id": "8e10c24f",
   "metadata": {
    "vscode": {
     "languageId": "plaintext"
    }
   },
   "outputs": [],
   "source": [
    "def visualize_predictions(predicted_data, Ytest, scaler, n_out, feature_idx=0):\n",
    "    # 为了可视化，我们只展示第一个预测步长的结果\n",
    "    plt.figure(figsize=(12, 6))\n",
    "    \n",
    "    # 还原预测值和实际值的原始尺度\n",
    "    # 创建一个与原始数据相同形状的数组\n",
    "    pred_shape = (len(predicted_data), scaler.n_features_in_)\n",
    "    test_shape = (len(Ytest), scaler.n_features_in_)\n",
    "    \n",
    "    pred_data_scaled = np.zeros(pred_shape)\n",
    "    test_data_scaled = np.zeros(test_shape)\n",
    "    \n",
    "    # 将预测值和实际值放入对应位置\n",
    "    pred_data_scaled[:, feature_idx] = predicted_data[:, 0]\n",
    "    test_data_scaled[:, feature_idx] = Ytest[:, 0]\n",
    "    \n",
    "    # 使用scaler逆变换\n",
    "    pred_data_original = scaler.inverse_transform(pred_data_scaled)[:, feature_idx]\n",
    "    test_data_original = scaler.inverse_transform(test_data_scaled)[:, feature_idx]\n",
    "    \n",
    "    plt.plot(test_data_original, label='真实值', color='black')\n",
    "    plt.plot(pred_data_original, label='预测值', color='purple', linestyle='--')\n",
    "    plt.title('负荷预测结果对比')\n",
    "    plt.xlabel('时间')\n",
    "    plt.ylabel('负荷值')\n",
    "    plt.legend()\n",
    "    plt.grid(True)\n",
    "    plt.tight_layout()\n",
    "    \n",
    "    # 保存图像\n",
    "    if not os.path.exists('results'):\n",
    "        os.makedirs('results')\n",
    "    plt.savefig('results/load_forecast_results.png')\n",
    "    plt.show()\n",
    "    \n",
    "    # 绘制多步预测结果\n",
    "    if n_out > 1:\n",
    "        plt.figure(figsize=(15, 10))\n",
    "        for i in range(min(n_out, 4)):  # 最多显示4个预测步长\n",
    "            plt.subplot(2, 2, i+1)\n",
    "            \n",
    "            # 还原预测值\n",
    "            pred_data_scaled = np.zeros(pred_shape)\n",
    "            pred_data_scaled[:, feature_idx] = predicted_data[:, i]\n",
    "            pred_data_original = scaler.inverse_transform(pred_data_scaled)[:, feature_idx]\n",
    "            \n",
    "            plt.plot(test_data_original, label='真实值', color='black')\n",
    "            plt.plot(pred_data_original, label=f'预测步长 {i+1}', color=f'C{i}')\n",
    "            plt.title(f'第 {i+1} 步负荷预测结果')\n",
    "            plt.xlabel('时间')\n",
    "            plt.ylabel('负荷值')\n",
    "            plt.legend()\n",
    "            plt.grid(True)\n",
    "        \n",
    "        plt.tight_layout()\n",
    "        plt.savefig('results/multi_step_forecast_results.png')\n",
    "        plt.show()"
   ]
  },
  {
   "cell_type": "markdown",
   "id": "8271cec1",
   "metadata": {},
   "source": [
    "### 6. 主执行流程"
   ]
  },
  {
   "cell_type": "markdown",
   "id": "ea20aa25",
   "metadata": {},
   "source": [
    " 参数设置"
   ]
  },
  {
   "cell_type": "code",
   "execution_count": null,
   "id": "76a2ea39",
   "metadata": {
    "vscode": {
     "languageId": "plaintext"
    }
   },
   "outputs": [],
   "source": [
    "file_path = r'../../code/new_data.csv'  # 请替换为实际数据文件路径\n",
    "seq_len = 48  # 输入序列长度（小时）\n",
    "pred_len = 24  # 预测序列长度（小时）\n",
    "batch_size = 64\n",
    "epochs = 100\n",
    "learning_rate = 0.001"
   ]
  },
  {
   "cell_type": "markdown",
   "id": "8daa9d2f",
   "metadata": {},
   "source": [
    "模型参数"
   ]
  },
  {
   "cell_type": "code",
   "execution_count": null,
   "id": "2a571f15",
   "metadata": {
    "vscode": {
     "languageId": "plaintext"
    }
   },
   "outputs": [],
   "source": [
    "input_dim = 14  # 输入特征维度\n",
    "d_model = 64  # Transformer模型维度\n",
    "nhead = 4  # 注意力头数\n",
    "num_layers = 2  # Transformer层数\n",
    "dim_feedforward = 128  # 前馈网络维度\n",
    "output_dim = pred_len  # 输出维度（预测步长）"
   ]
  },
  {
   "cell_type": "markdown",
   "id": "5990f46a",
   "metadata": {},
   "source": [
    "数据预处理"
   ]
  },
  {
   "cell_type": "code",
   "execution_count": null,
   "id": "f87b939a",
   "metadata": {
    "vscode": {
     "languageId": "plaintext"
    }
   },
   "outputs": [],
   "source": [
    "print(\"开始数据预处理...\")\n",
    "dataset, scaler = preprocess_data(file_path, seq_len, pred_len)"
   ]
  },
  {
   "cell_type": "markdown",
   "id": "7939ee60",
   "metadata": {},
   "source": [
    "划分训练集和测试集"
   ]
  },
  {
   "cell_type": "code",
   "execution_count": null,
   "id": "da7eaecf",
   "metadata": {
    "vscode": {
     "languageId": "plaintext"
    }
   },
   "outputs": [],
   "source": [
    "train_size = int(len(dataset) * 0.8)\n",
    "test_size = len(dataset) - train_size\n",
    "train_dataset, test_dataset = torch.utils.data.random_split(dataset, [train_size, test_size])"
   ]
  },
  {
   "cell_type": "markdown",
   "id": "def8baf7",
   "metadata": {},
   "source": [
    "创建数据加载器"
   ]
  },
  {
   "cell_type": "code",
   "execution_count": null,
   "id": "38fc45cc",
   "metadata": {
    "vscode": {
     "languageId": "plaintext"
    }
   },
   "outputs": [],
   "source": [
    "train_loader = DataLoader(train_dataset, batch_size=batch_size, shuffle=True)\n",
    "test_loader = DataLoader(test_dataset, batch_size=batch_size, shuffle=False)"
   ]
  },
  {
   "cell_type": "markdown",
   "id": "f54f3b42",
   "metadata": {},
   "source": [
    "初始化模型"
   ]
  },
  {
   "cell_type": "code",
   "execution_count": null,
   "id": "4b414740",
   "metadata": {
    "vscode": {
     "languageId": "plaintext"
    }
   },
   "outputs": [],
   "source": [
    "print(\"初始化模型...\")\n",
    "model = TransformerEncoderModel(\n",
    "    input_dim=input_dim,\n",
    "    d_model=d_model,\n",
    "    nhead=nhead,\n",
    "    num_layers=num_layers,\n",
    "    dim_feedforward=dim_feedforward,\n",
    "    output_dim=output_dim\n",
    ")"
   ]
  },
  {
   "cell_type": "markdown",
   "id": "9d100b99",
   "metadata": {},
   "source": [
    "定义损失函数和优化器"
   ]
  },
  {
   "cell_type": "code",
   "execution_count": null,
   "id": "0c782489",
   "metadata": {
    "vscode": {
     "languageId": "plaintext"
    }
   },
   "outputs": [],
   "source": [
    "criterion = nn.MSELoss()\n",
    "optimizer = optim.Adam(model.parameters(), lr=learning_rate)"
   ]
  },
  {
   "cell_type": "markdown",
   "id": "6541dae6",
   "metadata": {},
   "source": [
    "训练模型"
   ]
  },
  {
   "cell_type": "code",
   "execution_count": null,
   "id": "b966aaf8",
   "metadata": {
    "vscode": {
     "languageId": "plaintext"
    }
   },
   "outputs": [],
   "source": [
    "print(\"开始训练模型...\")\n",
    "train_losses = train_model(model, train_loader, criterion, optimizer, epochs, device)"
   ]
  },
  {
   "cell_type": "markdown",
   "id": "145a1ca3",
   "metadata": {},
   "source": [
    "测试模型"
   ]
  },
  {
   "cell_type": "code",
   "execution_count": null,
   "id": "40ee0d90",
   "metadata": {
    "vscode": {
     "languageId": "plaintext"
    }
   },
   "outputs": [],
   "source": [
    "print(\"开始测试模型...\")\n",
    "predicted_data, Ytest = test_model(model, test_loader, device)"
   ]
  },
  {
   "cell_type": "markdown",
   "id": "d398b5bc",
   "metadata": {},
   "source": [
    "评估模型"
   ]
  },
  {
   "cell_type": "code",
   "execution_count": null,
   "id": "73c85d74",
   "metadata": {
    "vscode": {
     "languageId": "plaintext"
    }
   },
   "outputs": [],
   "source": [
    "print(\"评估模型性能...\")\n",
    "mse_dic, rmse_dic, mae_dic, mape_dic, r2_dic, table = evaluate_model(predicted_data, Ytest, pred_len)\n"
   ]
  },
  {
   "cell_type": "code",
   "execution_count": null,
   "id": "ffbdd9f6",
   "metadata": {
    "vscode": {
     "languageId": "plaintext"
    }
   },
   "outputs": [],
   "source": [
    "# 打印评估结果\n",
    "print(table)"
   ]
  },
  {
   "cell_type": "code",
   "execution_count": null,
   "id": "60750ecb",
   "metadata": {
    "vscode": {
     "languageId": "plaintext"
    }
   },
   "outputs": [],
   "source": [
    "# 可视化预测结果\n",
    "visualize_predictions(predicted_data, Ytest, scaler, pred_len)"
   ]
  },
  {
   "cell_type": "code",
   "execution_count": null,
   "id": "952ebabd",
   "metadata": {
    "vscode": {
     "languageId": "plaintext"
    }
   },
   "outputs": [],
   "source": [
    "# 保存模型\n",
    "if not os.path.exists('models'):\n",
    "    os.makedirs('models')\n",
    "torch.save(model.state_dict(), 'models/transformer_load_forecast.pth')\n",
    "print(\"模型训练完成并保存！\")"
   ]
  },
  {
   "cell_type": "markdown",
   "id": "0484e880",
   "metadata": {},
   "source": [
    "### 7. 训练损失可视化"
   ]
  },
  {
   "cell_type": "code",
   "execution_count": null,
   "id": "597456fc",
   "metadata": {
    "vscode": {
     "languageId": "plaintext"
    }
   },
   "outputs": [],
   "source": [
    "# 绘制训练损失曲线\n",
    "plt.figure(figsize=(10, 5))\n",
    "plt.plot(train_losses, label='训练损失')\n",
    "plt.xlabel('Epoch')\n",
    "plt.ylabel('Loss')\n",
    "plt.title('训练损失变化')\n",
    "plt.legend()\n",
    "plt.grid(True)\n",
    "plt.savefig('results/training_loss.png')\n",
    "plt.show()"
   ]
  }
 ],
 "metadata": {
  "language_info": {
   "name": "python"
  }
 },
 "nbformat": 4,
 "nbformat_minor": 5
}

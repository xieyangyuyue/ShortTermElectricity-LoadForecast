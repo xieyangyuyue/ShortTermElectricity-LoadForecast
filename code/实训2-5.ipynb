{
 "cells": [
  {
   "cell_type": "code",
   "execution_count": 3,
   "id": "1ea5a8c3",
   "metadata": {
    "pycharm": {
     "name": "#%%\n"
    }
   },
   "outputs": [],
   "source": [
    "import copy\n",
    "import random\n",
    "import pandas as pd\n",
    "import numpy as np\n",
    "import matplotlib.pyplot as plt\n",
    "import seaborn as sns\n",
    "import torch\n",
    "from torch import nn\n",
    "from torch import optim\n",
    "from sklearn.preprocessing import MinMaxScaler\n",
    "# from pylab import mpl\n",
    "# mpl.rcParams['font.sans-serif'] = ['SimHei']"
   ]
  },
  {
   "cell_type": "markdown",
   "id": "8af6e606",
   "metadata": {
    "pycharm": {
     "name": "#%% md\n"
    }
   },
   "source": [
    "### 数据预处理"
   ]
  },
  {
   "cell_type": "markdown",
   "id": "ed37bba8",
   "metadata": {
    "pycharm": {
     "name": "#%% md\n"
    }
   },
   "source": [
    "将时间特征表示为当前一天内的分钟数、周几(周一用1表示，周二用2表示...)、是否为节假日（是用1表示，调休用0.5表示，其他用0表示）、年份（2021用1表示，2022用2表示，2023用3表示）。    \n",
    "2022年和2023年元宵节附近10来天电力负荷出现了很明显的下降，2021年在农历腊月十几电力负荷出现了明显的下降，持续时间和强度与2022和2023年年初类似，但却不是在元宵节期间，不知道为什么会明显下降。  \n",
    "一年中不同时间负荷的变化受所在地区气候的影响比较大，可以用气象信息包含，不再加入月份特征。  \n",
    "突发情况可由人工调节。  \n",
    "将分类特征用单个数值表示，比较简便，但可能对模型的性能造成影响。感觉比较好的是用one-hot(太稀疏)或embedding。  \n",
    "模型的预测结果作为参考，最终的预测还需要人工的参与、修正。"
   ]
  },
  {
   "cell_type": "code",
   "execution_count": 4,
   "id": "6e16020d",
   "metadata": {
    "pycharm": {
     "name": "#%%\n"
    }
   },
   "outputs": [],
   "source": [
    "data = pd.read_csv('../data/gfdf_with_cloud_1.csv')"
   ]
  },
  {
   "cell_type": "code",
   "execution_count": 5,
   "id": "6abca02f",
   "metadata": {
    "pycharm": {
     "name": "#%%\n"
    }
   },
   "outputs": [
    {
     "data": {
      "text/html": [
       "<div>\n",
       "<style scoped>\n",
       "    .dataframe tbody tr th:only-of-type {\n",
       "        vertical-align: middle;\n",
       "    }\n",
       "\n",
       "    .dataframe tbody tr th {\n",
       "        vertical-align: top;\n",
       "    }\n",
       "\n",
       "    .dataframe thead th {\n",
       "        text-align: right;\n",
       "    }\n",
       "</style>\n",
       "<table border=\"1\" class=\"dataframe\">\n",
       "  <thead>\n",
       "    <tr style=\"text-align: right;\">\n",
       "      <th></th>\n",
       "      <th>Unnamed: 0</th>\n",
       "      <th>time</th>\n",
       "      <th>value</th>\n",
       "      <th>weather_status</th>\n",
       "      <th>temperature</th>\n",
       "      <th>humidity</th>\n",
       "      <th>wind_speed</th>\n",
       "      <th>wind_level</th>\n",
       "      <th>wind_direction_angle</th>\n",
       "      <th>wind_direction</th>\n",
       "      <th>pressure</th>\n",
       "      <th>visibility</th>\n",
       "      <th>precipitation</th>\n",
       "      <th>light</th>\n",
       "      <th>holiday</th>\n",
       "    </tr>\n",
       "  </thead>\n",
       "  <tbody>\n",
       "    <tr>\n",
       "      <th>0</th>\n",
       "      <td>0</td>\n",
       "      <td>2021/1/1 0:00</td>\n",
       "      <td>3210.842464</td>\n",
       "      <td>1</td>\n",
       "      <td>'-8.6'</td>\n",
       "      <td>'41'</td>\n",
       "      <td>'0.5'</td>\n",
       "      <td>'0'</td>\n",
       "      <td>'359'</td>\n",
       "      <td>'鍖楅'</td>\n",
       "      <td>'977'</td>\n",
       "      <td>'9.7'</td>\n",
       "      <td>'0'</td>\n",
       "      <td>'0'</td>\n",
       "      <td>1.0</td>\n",
       "    </tr>\n",
       "    <tr>\n",
       "      <th>1</th>\n",
       "      <td>1</td>\n",
       "      <td>2021/1/1 0:15</td>\n",
       "      <td>3104.507008</td>\n",
       "      <td>1</td>\n",
       "      <td>'-8.88'</td>\n",
       "      <td>'43.00'</td>\n",
       "      <td>'0.5'</td>\n",
       "      <td>'0'</td>\n",
       "      <td>'359'</td>\n",
       "      <td>'鍖楅'</td>\n",
       "      <td>'977'</td>\n",
       "      <td>'9.7'</td>\n",
       "      <td>'0'</td>\n",
       "      <td>'0'</td>\n",
       "      <td>1.0</td>\n",
       "    </tr>\n",
       "    <tr>\n",
       "      <th>2</th>\n",
       "      <td>2</td>\n",
       "      <td>2021/1/1 0:30</td>\n",
       "      <td>3037.705984</td>\n",
       "      <td>1</td>\n",
       "      <td>'-9.16'</td>\n",
       "      <td>'45.00'</td>\n",
       "      <td>'0.5'</td>\n",
       "      <td>'0'</td>\n",
       "      <td>'359'</td>\n",
       "      <td>'鍖楅'</td>\n",
       "      <td>'977'</td>\n",
       "      <td>'9.7'</td>\n",
       "      <td>'0'</td>\n",
       "      <td>'0'</td>\n",
       "      <td>1.0</td>\n",
       "    </tr>\n",
       "    <tr>\n",
       "      <th>3</th>\n",
       "      <td>3</td>\n",
       "      <td>2021/1/1 0:45</td>\n",
       "      <td>2960.176288</td>\n",
       "      <td>1</td>\n",
       "      <td>'-9.44'</td>\n",
       "      <td>'47.00'</td>\n",
       "      <td>'0.5'</td>\n",
       "      <td>'0'</td>\n",
       "      <td>'359'</td>\n",
       "      <td>'鍖楅'</td>\n",
       "      <td>'977'</td>\n",
       "      <td>'9.7'</td>\n",
       "      <td>'0'</td>\n",
       "      <td>'0'</td>\n",
       "      <td>1.0</td>\n",
       "    </tr>\n",
       "    <tr>\n",
       "      <th>4</th>\n",
       "      <td>4</td>\n",
       "      <td>2021/1/1 1:00</td>\n",
       "      <td>2889.226528</td>\n",
       "      <td>3</td>\n",
       "      <td>'-9.7'</td>\n",
       "      <td>'49'</td>\n",
       "      <td>'0.7'</td>\n",
       "      <td>'0'</td>\n",
       "      <td>'335'</td>\n",
       "      <td>'瑗垮寳椋?</td>\n",
       "      <td>'976'</td>\n",
       "      <td>'8.6'</td>\n",
       "      <td>'0'</td>\n",
       "      <td>'0'</td>\n",
       "      <td>1.0</td>\n",
       "    </tr>\n",
       "    <tr>\n",
       "      <th>...</th>\n",
       "      <td>...</td>\n",
       "      <td>...</td>\n",
       "      <td>...</td>\n",
       "      <td>...</td>\n",
       "      <td>...</td>\n",
       "      <td>...</td>\n",
       "      <td>...</td>\n",
       "      <td>...</td>\n",
       "      <td>...</td>\n",
       "      <td>...</td>\n",
       "      <td>...</td>\n",
       "      <td>...</td>\n",
       "      <td>...</td>\n",
       "      <td>...</td>\n",
       "      <td>...</td>\n",
       "    </tr>\n",
       "    <tr>\n",
       "      <th>75547</th>\n",
       "      <td>75547</td>\n",
       "      <td>2023/2/26 22:45</td>\n",
       "      <td>5649.941920</td>\n",
       "      <td>1</td>\n",
       "      <td>'5.85'</td>\n",
       "      <td>'64.75'</td>\n",
       "      <td>'1.6'</td>\n",
       "      <td>'17'</td>\n",
       "      <td>'250'</td>\n",
       "      <td>'瑗块'</td>\n",
       "      <td>'976'</td>\n",
       "      <td>'5.2'</td>\n",
       "      <td>'0'</td>\n",
       "      <td>'0'</td>\n",
       "      <td>0.0</td>\n",
       "    </tr>\n",
       "    <tr>\n",
       "      <th>75548</th>\n",
       "      <td>75548</td>\n",
       "      <td>2023/2/26 23:00</td>\n",
       "      <td>5451.523744</td>\n",
       "      <td>1</td>\n",
       "      <td>'5.5'</td>\n",
       "      <td>'66'</td>\n",
       "      <td>'1'</td>\n",
       "      <td>'0'</td>\n",
       "      <td>'124'</td>\n",
       "      <td>'涓滃崡椋?</td>\n",
       "      <td>'976'</td>\n",
       "      <td>'4.6'</td>\n",
       "      <td>'0'</td>\n",
       "      <td>'0'</td>\n",
       "      <td>0.0</td>\n",
       "    </tr>\n",
       "    <tr>\n",
       "      <th>75549</th>\n",
       "      <td>75549</td>\n",
       "      <td>2023/2/26 23:15</td>\n",
       "      <td>5246.500000</td>\n",
       "      <td>1</td>\n",
       "      <td>'5.15'</td>\n",
       "      <td>'67.25'</td>\n",
       "      <td>'1'</td>\n",
       "      <td>'0'</td>\n",
       "      <td>'124'</td>\n",
       "      <td>'涓滃崡椋?</td>\n",
       "      <td>'976'</td>\n",
       "      <td>'4.6'</td>\n",
       "      <td>'0'</td>\n",
       "      <td>'0'</td>\n",
       "      <td>0.0</td>\n",
       "    </tr>\n",
       "    <tr>\n",
       "      <th>75550</th>\n",
       "      <td>75550</td>\n",
       "      <td>2023/2/26 23:30</td>\n",
       "      <td>5039.924704</td>\n",
       "      <td>1</td>\n",
       "      <td>'4.80'</td>\n",
       "      <td>'68.50'</td>\n",
       "      <td>'1'</td>\n",
       "      <td>'0'</td>\n",
       "      <td>'124'</td>\n",
       "      <td>'涓滃崡椋?</td>\n",
       "      <td>'976'</td>\n",
       "      <td>'4.6'</td>\n",
       "      <td>'0'</td>\n",
       "      <td>'0'</td>\n",
       "      <td>0.0</td>\n",
       "    </tr>\n",
       "    <tr>\n",
       "      <th>75551</th>\n",
       "      <td>75551</td>\n",
       "      <td>2023/2/26 23:45</td>\n",
       "      <td>4873.622464</td>\n",
       "      <td>1</td>\n",
       "      <td>'4.45'</td>\n",
       "      <td>'69.75'</td>\n",
       "      <td>'1'</td>\n",
       "      <td>'0'</td>\n",
       "      <td>'124'</td>\n",
       "      <td>'涓滃崡椋?</td>\n",
       "      <td>'976'</td>\n",
       "      <td>'4.6'</td>\n",
       "      <td>'0'</td>\n",
       "      <td>'0'</td>\n",
       "      <td>0.0</td>\n",
       "    </tr>\n",
       "  </tbody>\n",
       "</table>\n",
       "<p>75552 rows × 15 columns</p>\n",
       "</div>"
      ],
      "text/plain": [
       "       Unnamed: 0             time        value  weather_status temperature  \\\n",
       "0               0    2021/1/1 0:00  3210.842464               1      '-8.6'   \n",
       "1               1    2021/1/1 0:15  3104.507008               1     '-8.88'   \n",
       "2               2    2021/1/1 0:30  3037.705984               1     '-9.16'   \n",
       "3               3    2021/1/1 0:45  2960.176288               1     '-9.44'   \n",
       "4               4    2021/1/1 1:00  2889.226528               3      '-9.7'   \n",
       "...           ...              ...          ...             ...         ...   \n",
       "75547       75547  2023/2/26 22:45  5649.941920               1      '5.85'   \n",
       "75548       75548  2023/2/26 23:00  5451.523744               1       '5.5'   \n",
       "75549       75549  2023/2/26 23:15  5246.500000               1      '5.15'   \n",
       "75550       75550  2023/2/26 23:30  5039.924704               1      '4.80'   \n",
       "75551       75551  2023/2/26 23:45  4873.622464               1      '4.45'   \n",
       "\n",
       "      humidity wind_speed wind_level wind_direction_angle wind_direction  \\\n",
       "0         '41'      '0.5'        '0'                '359'          '鍖楅'   \n",
       "1      '43.00'      '0.5'        '0'                '359'          '鍖楅'   \n",
       "2      '45.00'      '0.5'        '0'                '359'          '鍖楅'   \n",
       "3      '47.00'      '0.5'        '0'                '359'          '鍖楅'   \n",
       "4         '49'      '0.7'        '0'                '335'         '瑗垮寳椋?   \n",
       "...        ...        ...        ...                  ...            ...   \n",
       "75547  '64.75'      '1.6'       '17'                '250'          '瑗块'   \n",
       "75548     '66'        '1'        '0'                '124'         '涓滃崡椋?   \n",
       "75549  '67.25'        '1'        '0'                '124'         '涓滃崡椋?   \n",
       "75550  '68.50'        '1'        '0'                '124'         '涓滃崡椋?   \n",
       "75551  '69.75'        '1'        '0'                '124'         '涓滃崡椋?   \n",
       "\n",
       "      pressure visibility precipitation light  holiday  \n",
       "0        '977'      '9.7'           '0'   '0'      1.0  \n",
       "1        '977'      '9.7'           '0'   '0'      1.0  \n",
       "2        '977'      '9.7'           '0'   '0'      1.0  \n",
       "3        '977'      '9.7'           '0'   '0'      1.0  \n",
       "4        '976'      '8.6'           '0'   '0'      1.0  \n",
       "...        ...        ...           ...   ...      ...  \n",
       "75547    '976'      '5.2'           '0'   '0'      0.0  \n",
       "75548    '976'      '4.6'           '0'   '0'      0.0  \n",
       "75549    '976'      '4.6'           '0'   '0'      0.0  \n",
       "75550    '976'      '4.6'           '0'   '0'      0.0  \n",
       "75551    '976'      '4.6'           '0'   '0'      0.0  \n",
       "\n",
       "[75552 rows x 15 columns]"
      ]
     },
     "execution_count": 5,
     "metadata": {},
     "output_type": "execute_result"
    }
   ],
   "source": [
    "data"
   ]
  },
  {
   "cell_type": "code",
   "execution_count": 6,
   "id": "50106272",
   "metadata": {
    "pycharm": {
     "name": "#%%\n"
    }
   },
   "outputs": [
    {
     "name": "stdout",
     "output_type": "stream",
     "text": [
      "<class 'pandas.core.frame.DataFrame'>\n",
      "RangeIndex: 75552 entries, 0 to 75551\n",
      "Data columns (total 15 columns):\n",
      " #   Column                Non-Null Count  Dtype  \n",
      "---  ------                --------------  -----  \n",
      " 0   Unnamed: 0            75552 non-null  int64  \n",
      " 1   time                  75552 non-null  object \n",
      " 2   value                 75552 non-null  float64\n",
      " 3   weather_status        75552 non-null  int64  \n",
      " 4   temperature           75552 non-null  object \n",
      " 5   humidity              75552 non-null  object \n",
      " 6   wind_speed            75552 non-null  object \n",
      " 7   wind_level            75552 non-null  object \n",
      " 8   wind_direction_angle  75552 non-null  object \n",
      " 9   wind_direction        75552 non-null  object \n",
      " 10  pressure              75552 non-null  object \n",
      " 11  visibility            75552 non-null  object \n",
      " 12  precipitation         75552 non-null  object \n",
      " 13  light                 75552 non-null  object \n",
      " 14  holiday               75552 non-null  float64\n",
      "dtypes: float64(2), int64(2), object(11)\n",
      "memory usage: 8.6+ MB\n"
     ]
    }
   ],
   "source": [
    "data.info()"
   ]
  },
  {
   "cell_type": "code",
   "execution_count": 7,
   "id": "93ea6d62",
   "metadata": {
    "pycharm": {
     "name": "#%%\n"
    }
   },
   "outputs": [
    {
     "data": {
      "text/plain": [
       "33565      134.39680\n",
       "60009      142.00000\n",
       "60011      142.00000\n",
       "60012      142.00000\n",
       "60013      142.00000\n",
       "            ...     \n",
       "55836    10089.16566\n",
       "55837    10089.32032\n",
       "59105    10092.06246\n",
       "59104    10095.52374\n",
       "55838    10113.88000\n",
       "Name: value, Length: 75552, dtype: float64"
      ]
     },
     "execution_count": 7,
     "metadata": {},
     "output_type": "execute_result"
    }
   ],
   "source": [
    "data['value'].sort_values()"
   ]
  },
  {
   "cell_type": "code",
   "execution_count": 8,
   "id": "c9e438ae",
   "metadata": {
    "pycharm": {
     "name": "#%%\n"
    }
   },
   "outputs": [
    {
     "data": {
      "text/plain": [
       "33565     134.396800\n",
       "60009     142.000000\n",
       "60011     142.000000\n",
       "60012     142.000000\n",
       "60013     142.000000\n",
       "60014     142.000000\n",
       "60015     142.000000\n",
       "60057     142.000000\n",
       "60010     142.000000\n",
       "2524     1142.851840\n",
       "2525     1147.319296\n",
       "2523     1151.860864\n",
       "2516     1153.393504\n",
       "2519     1153.741312\n",
       "2517     1155.662752\n",
       "2522     1156.089664\n",
       "2514     1156.364224\n",
       "2520     1156.569280\n",
       "2521     1156.853824\n",
       "2620     1157.596960\n",
       "Name: value, dtype: float64"
      ]
     },
     "execution_count": 8,
     "metadata": {},
     "output_type": "execute_result"
    }
   ],
   "source": [
    "data['value'].sort_values()[:20]"
   ]
  },
  {
   "cell_type": "code",
   "execution_count": 9,
   "id": "1ae186ab",
   "metadata": {
    "pycharm": {
     "name": "#%%\n"
    }
   },
   "outputs": [
    {
     "data": {
      "text/plain": [
       "53340     9410.317216\n",
       "60924     9410.851552\n",
       "56030     9411.538720\n",
       "57830     9411.738400\n",
       "57832     9411.755296\n",
       "             ...     \n",
       "55836    10089.165660\n",
       "55837    10089.320320\n",
       "59105    10092.062460\n",
       "59104    10095.523740\n",
       "55838    10113.880000\n",
       "Name: value, Length: 1000, dtype: float64"
      ]
     },
     "execution_count": 9,
     "metadata": {},
     "output_type": "execute_result"
    }
   ],
   "source": [
    "data['value'].sort_values()[-1000:]"
   ]
  },
  {
   "cell_type": "markdown",
   "id": "f8280272",
   "metadata": {
    "pycharm": {
     "name": "#%% md\n"
    }
   },
   "source": [
    "电力负荷的最大值没发现异常，最小值发现了异常"
   ]
  },
  {
   "cell_type": "markdown",
   "id": "b1a8ea7e",
   "metadata": {
    "pycharm": {
     "name": "#%% md\n"
    }
   },
   "source": [
    "电力负荷的数值存在9个100多的，为异常点，可能是发生了突发情况。为更好训练模型，需要对异常值进行处理。"
   ]
  },
  {
   "cell_type": "code",
   "execution_count": 10,
   "id": "c38cd46f",
   "metadata": {
    "pycharm": {
     "name": "#%%\n"
    }
   },
   "outputs": [
    {
     "data": {
      "image/png": "[encoded data removed]",
      "text/plain": [
       "<Figure size 2400x800 with 1 Axes>"
      ]
     },
     "metadata": {},
     "output_type": "display_data"
    }
   ],
   "source": [
    "plt.figure(figsize=(30, 10), dpi=80)\n",
    "\n",
    "X = np.linspace(1, 12, 10, endpoint=True)\n",
    "C = np.array(data['value'][33560: 33570])\n",
    "plt.plot(X, C, color='green')\n",
    "plt.show()"
   ]
  },
  {
   "cell_type": "markdown",
   "id": "4a63f95d",
   "metadata": {
    "pycharm": {
     "name": "#%% md\n"
    }
   },
   "source": [
    "对序号为33565这条数据，使用其前一个时刻和后一个时刻负荷的平均值代替其的负荷值"
   ]
  },
  {
   "cell_type": "code",
   "execution_count": 11,
   "id": "39eb9f82",
   "metadata": {
    "pycharm": {
     "name": "#%%\n"
    }
   },
   "outputs": [],
   "source": [
    "data.loc[33565, 'value'] = (data.loc[33564]['value'] + data.loc[33566]['value']) / 2"
   ]
  },
  {
   "cell_type": "code",
   "execution_count": 12,
   "id": "dbc393fa",
   "metadata": {
    "pycharm": {
     "name": "#%%\n"
    }
   },
   "outputs": [
    {
     "data": {
      "text/plain": [
       "6791.646016"
      ]
     },
     "execution_count": 12,
     "metadata": {},
     "output_type": "execute_result"
    }
   ],
   "source": [
    "data.loc[33565]['value']"
   ]
  },
  {
   "cell_type": "code",
   "execution_count": 13,
   "id": "86b04a24",
   "metadata": {
    "pycharm": {
     "name": "#%%\n"
    }
   },
   "outputs": [
    {
     "data": {
      "image/png": "[encoded data removed]",
      "text/plain": [
       "<Figure size 2400x800 with 1 Axes>"
      ]
     },
     "metadata": {},
     "output_type": "display_data"
    }
   ],
   "source": [
    "plt.figure(figsize=(30, 10), dpi=80)\n",
    "\n",
    "X = np.linspace(1, 14, 13, endpoint=True)\n",
    "C = np.array(data['value'][60006: 60019])\n",
    "plt.plot(X, C, color='green')\n",
    "plt.show()"
   ]
  },
  {
   "cell_type": "markdown",
   "id": "db1e3dca",
   "metadata": {
    "pycharm": {
     "name": "#%% md\n"
    }
   },
   "source": [
    "对序号为60009到60015这7条数据，使用序号为60008和60016数据的负荷的平均值代替他们的负荷值"
   ]
  },
  {
   "cell_type": "code",
   "execution_count": 14,
   "id": "999c45dc",
   "metadata": {
    "pycharm": {
     "name": "#%%\n"
    }
   },
   "outputs": [],
   "source": [
    "data.loc[60009: 60015, 'value'] = (data.loc[60008]['value'] + data.loc[60016]['value']) / 2"
   ]
  },
  {
   "cell_type": "code",
   "execution_count": 15,
   "id": "8a92d519",
   "metadata": {
    "pycharm": {
     "name": "#%%\n"
    }
   },
   "outputs": [
    {
     "data": {
      "image/png": "[encoded data removed]",
      "text/plain": [
       "<Figure size 2400x800 with 1 Axes>"
      ]
     },
     "metadata": {},
     "output_type": "display_data"
    }
   ],
   "source": [
    "plt.figure(figsize=(30, 10), dpi=80)\n",
    "\n",
    "X = np.linspace(1, 6, 5, endpoint=True)\n",
    "C = np.array(data['value'][60055: 60060])\n",
    "plt.plot(X, C, color='green')\n",
    "plt.show()"
   ]
  },
  {
   "cell_type": "markdown",
   "id": "7b1f7d0e",
   "metadata": {
    "pycharm": {
     "name": "#%% md\n"
    }
   },
   "source": [
    "对序号为60057这条数据，使用其前一个时刻和后一个时刻负荷的平均值代替其的负荷值"
   ]
  },
  {
   "cell_type": "code",
   "execution_count": 16,
   "id": "ef20994b",
   "metadata": {
    "pycharm": {
     "name": "#%%\n"
    }
   },
   "outputs": [],
   "source": [
    "data.loc[60057, 'value'] = (data.loc[60056]['value'] + data.loc[60058]['value']) / 2"
   ]
  },
  {
   "cell_type": "code",
   "execution_count": 17,
   "id": "45c34900",
   "metadata": {
    "pycharm": {
     "name": "#%%\n"
    }
   },
   "outputs": [
    {
     "data": {
      "text/plain": [
       "9473.481759999999"
      ]
     },
     "execution_count": 17,
     "metadata": {},
     "output_type": "execute_result"
    }
   ],
   "source": [
    "data.loc[60057, 'value']"
   ]
  },
  {
   "cell_type": "markdown",
   "id": "1ffaa538",
   "metadata": {
    "pycharm": {
     "name": "#%% md\n"
    }
   },
   "source": [
    "将时间分成年、月、日、分钟数，并将一天内的分钟数作为一个特征。"
   ]
  },
  {
   "cell_type": "code",
   "execution_count": 18,
   "id": "8c1d7898",
   "metadata": {
    "pycharm": {
     "name": "#%%\n"
    }
   },
   "outputs": [],
   "source": [
    "list1 = [i.split('/') for i in data['time']]\n",
    "list2 = [i[-1].split(' ') for i in list1]\n",
    "list3 = [i[-1].split(':') for i in list2]\n",
    "list4 = [int(i[0]) * 60 + int(i[1]) for i in list3]  # 分钟\n",
    "minute = np.array(list4).reshape(len(data), 1)"
   ]
  },
  {
   "cell_type": "markdown",
   "id": "03f376e6",
   "metadata": {
    "pycharm": {
     "name": "#%% md\n"
    }
   },
   "source": [
    "生成星期特征"
   ]
  },
  {
   "cell_type": "code",
   "execution_count": 19,
   "id": "d7d886bc",
   "metadata": {
    "pycharm": {
     "name": "#%%\n"
    }
   },
   "outputs": [
    {
     "name": "stdout",
     "output_type": "stream",
     "text": [
      "112.42857142857143\n",
      "3\n"
     ]
    }
   ],
   "source": [
    "# 2021-1-1为周五\n",
    "week = np.empty(len(data))\n",
    "print(len(data)/(96*7))  # 有余数\n",
    "print(len(data) % (96*7) // 96)  # 剩余的天数\n",
    "for i in range(len(data)//(96*7)):\n",
    "    m = i * 96 * 7\n",
    "    week[m:m+96] = 5\n",
    "    week[m+96: m+96*2] = 6\n",
    "    week[m+96*2: m+96*3] = 7\n",
    "    week[m+96*3: m+96*4] = 1\n",
    "    week[m+96*4: m+96*5] = 2\n",
    "    week[m+96*5: m+96*6] = 3\n",
    "    week[m+96*6: m+96*7] = 4\n",
    "week[m+96*7: m+96*8] = 5\n",
    "week[m+96*8: m+96*9] = 6\n",
    "week[m+96*9: m+96*10] = 7\n",
    "week = week.reshape(len(data), 1)"
   ]
  },
  {
   "cell_type": "code",
   "execution_count": 20,
   "id": "f3760adc",
   "metadata": {
    "pycharm": {
     "name": "#%%\n"
    }
   },
   "outputs": [
    {
     "data": {
      "text/plain": [
       "dtype('float64')"
      ]
     },
     "execution_count": 20,
     "metadata": {},
     "output_type": "execute_result"
    }
   ],
   "source": [
    "week.dtype"
   ]
  },
  {
   "cell_type": "markdown",
   "id": "b67fe3c4",
   "metadata": {
    "pycharm": {
     "name": "#%% md\n"
    }
   },
   "source": [
    "生成年份特征"
   ]
  },
  {
   "cell_type": "code",
   "execution_count": 21,
   "id": "635eb9e0",
   "metadata": {
    "pycharm": {
     "name": "#%%\n"
    }
   },
   "outputs": [],
   "source": [
    "year = np.empty(len(data))\n",
    "year[: 96*365] = 1\n",
    "year[96*365: 96*365*2] = 2\n",
    "year[96*365*2: ] = 3\n",
    "year = year.reshape(len(data), 1)"
   ]
  },
  {
   "cell_type": "code",
   "execution_count": 22,
   "id": "b4c7d706",
   "metadata": {
    "pycharm": {
     "name": "#%%\n"
    }
   },
   "outputs": [
    {
     "data": {
      "text/plain": [
       "dtype('float64')"
      ]
     },
     "execution_count": 22,
     "metadata": {},
     "output_type": "execute_result"
    }
   ],
   "source": [
    "year.dtype"
   ]
  },
  {
   "cell_type": "markdown",
   "id": "2a59b47f",
   "metadata": {
    "pycharm": {
     "name": "#%% md\n"
    }
   },
   "source": [
    "将新特征与原dataframe拼接起来，并删去多余的列"
   ]
  },
  {
   "cell_type": "code",
   "execution_count": 23,
   "id": "87563523",
   "metadata": {
    "pycharm": {
     "name": "#%%\n"
    }
   },
   "outputs": [],
   "source": [
    "array1 = np.concatenate((minute,week,year), axis=1)"
   ]
  },
  {
   "cell_type": "code",
   "execution_count": 24,
   "id": "fff57c69",
   "metadata": {
    "pycharm": {
     "name": "#%%\n"
    }
   },
   "outputs": [
    {
     "data": {
      "text/plain": [
       "(75552, 3)"
      ]
     },
     "execution_count": 24,
     "metadata": {},
     "output_type": "execute_result"
    }
   ],
   "source": [
    "array1.shape"
   ]
  },
  {
   "cell_type": "code",
   "execution_count": 25,
   "id": "2c9e59ca",
   "metadata": {
    "pycharm": {
     "name": "#%%\n"
    }
   },
   "outputs": [],
   "source": [
    "df_1 = pd.DataFrame(array1, columns=['minute', 'week', 'year'])"
   ]
  },
  {
   "cell_type": "code",
   "execution_count": 26,
   "id": "ce387e74",
   "metadata": {
    "pycharm": {
     "name": "#%%\n"
    }
   },
   "outputs": [],
   "source": [
    "new_data = pd.concat((data, df_1), axis=1).drop(['Unnamed: 0', 'wind_direction', 'time'], axis=1)"
   ]
  },
  {
   "cell_type": "code",
   "execution_count": 27,
   "id": "2318b0ee",
   "metadata": {
    "pycharm": {
     "name": "#%%\n"
    }
   },
   "outputs": [
    {
     "data": {
      "text/html": [
       "<div>\n",
       "<style scoped>\n",
       "    .dataframe tbody tr th:only-of-type {\n",
       "        vertical-align: middle;\n",
       "    }\n",
       "\n",
       "    .dataframe tbody tr th {\n",
       "        vertical-align: top;\n",
       "    }\n",
       "\n",
       "    .dataframe thead th {\n",
       "        text-align: right;\n",
       "    }\n",
       "</style>\n",
       "<table border=\"1\" class=\"dataframe\">\n",
       "  <thead>\n",
       "    <tr style=\"text-align: right;\">\n",
       "      <th></th>\n",
       "      <th>value</th>\n",
       "      <th>weather_status</th>\n",
       "      <th>temperature</th>\n",
       "      <th>humidity</th>\n",
       "      <th>wind_speed</th>\n",
       "      <th>wind_level</th>\n",
       "      <th>wind_direction_angle</th>\n",
       "      <th>pressure</th>\n",
       "      <th>visibility</th>\n",
       "      <th>precipitation</th>\n",
       "      <th>light</th>\n",
       "      <th>holiday</th>\n",
       "      <th>minute</th>\n",
       "      <th>week</th>\n",
       "      <th>year</th>\n",
       "    </tr>\n",
       "  </thead>\n",
       "  <tbody>\n",
       "    <tr>\n",
       "      <th>0</th>\n",
       "      <td>3210.842464</td>\n",
       "      <td>1</td>\n",
       "      <td>'-8.6'</td>\n",
       "      <td>'41'</td>\n",
       "      <td>'0.5'</td>\n",
       "      <td>'0'</td>\n",
       "      <td>'359'</td>\n",
       "      <td>'977'</td>\n",
       "      <td>'9.7'</td>\n",
       "      <td>'0'</td>\n",
       "      <td>'0'</td>\n",
       "      <td>1.0</td>\n",
       "      <td>0.0</td>\n",
       "      <td>5.0</td>\n",
       "      <td>1.0</td>\n",
       "    </tr>\n",
       "    <tr>\n",
       "      <th>1</th>\n",
       "      <td>3104.507008</td>\n",
       "      <td>1</td>\n",
       "      <td>'-8.88'</td>\n",
       "      <td>'43.00'</td>\n",
       "      <td>'0.5'</td>\n",
       "      <td>'0'</td>\n",
       "      <td>'359'</td>\n",
       "      <td>'977'</td>\n",
       "      <td>'9.7'</td>\n",
       "      <td>'0'</td>\n",
       "      <td>'0'</td>\n",
       "      <td>1.0</td>\n",
       "      <td>15.0</td>\n",
       "      <td>5.0</td>\n",
       "      <td>1.0</td>\n",
       "    </tr>\n",
       "    <tr>\n",
       "      <th>2</th>\n",
       "      <td>3037.705984</td>\n",
       "      <td>1</td>\n",
       "      <td>'-9.16'</td>\n",
       "      <td>'45.00'</td>\n",
       "      <td>'0.5'</td>\n",
       "      <td>'0'</td>\n",
       "      <td>'359'</td>\n",
       "      <td>'977'</td>\n",
       "      <td>'9.7'</td>\n",
       "      <td>'0'</td>\n",
       "      <td>'0'</td>\n",
       "      <td>1.0</td>\n",
       "      <td>30.0</td>\n",
       "      <td>5.0</td>\n",
       "      <td>1.0</td>\n",
       "    </tr>\n",
       "    <tr>\n",
       "      <th>3</th>\n",
       "      <td>2960.176288</td>\n",
       "      <td>1</td>\n",
       "      <td>'-9.44'</td>\n",
       "      <td>'47.00'</td>\n",
       "      <td>'0.5'</td>\n",
       "      <td>'0'</td>\n",
       "      <td>'359'</td>\n",
       "      <td>'977'</td>\n",
       "      <td>'9.7'</td>\n",
       "      <td>'0'</td>\n",
       "      <td>'0'</td>\n",
       "      <td>1.0</td>\n",
       "      <td>45.0</td>\n",
       "      <td>5.0</td>\n",
       "      <td>1.0</td>\n",
       "    </tr>\n",
       "    <tr>\n",
       "      <th>4</th>\n",
       "      <td>2889.226528</td>\n",
       "      <td>3</td>\n",
       "      <td>'-9.7'</td>\n",
       "      <td>'49'</td>\n",
       "      <td>'0.7'</td>\n",
       "      <td>'0'</td>\n",
       "      <td>'335'</td>\n",
       "      <td>'976'</td>\n",
       "      <td>'8.6'</td>\n",
       "      <td>'0'</td>\n",
       "      <td>'0'</td>\n",
       "      <td>1.0</td>\n",
       "      <td>60.0</td>\n",
       "      <td>5.0</td>\n",
       "      <td>1.0</td>\n",
       "    </tr>\n",
       "    <tr>\n",
       "      <th>...</th>\n",
       "      <td>...</td>\n",
       "      <td>...</td>\n",
       "      <td>...</td>\n",
       "      <td>...</td>\n",
       "      <td>...</td>\n",
       "      <td>...</td>\n",
       "      <td>...</td>\n",
       "      <td>...</td>\n",
       "      <td>...</td>\n",
       "      <td>...</td>\n",
       "      <td>...</td>\n",
       "      <td>...</td>\n",
       "      <td>...</td>\n",
       "      <td>...</td>\n",
       "      <td>...</td>\n",
       "    </tr>\n",
       "    <tr>\n",
       "      <th>75547</th>\n",
       "      <td>5649.941920</td>\n",
       "      <td>1</td>\n",
       "      <td>'5.85'</td>\n",
       "      <td>'64.75'</td>\n",
       "      <td>'1.6'</td>\n",
       "      <td>'17'</td>\n",
       "      <td>'250'</td>\n",
       "      <td>'976'</td>\n",
       "      <td>'5.2'</td>\n",
       "      <td>'0'</td>\n",
       "      <td>'0'</td>\n",
       "      <td>0.0</td>\n",
       "      <td>1365.0</td>\n",
       "      <td>7.0</td>\n",
       "      <td>3.0</td>\n",
       "    </tr>\n",
       "    <tr>\n",
       "      <th>75548</th>\n",
       "      <td>5451.523744</td>\n",
       "      <td>1</td>\n",
       "      <td>'5.5'</td>\n",
       "      <td>'66'</td>\n",
       "      <td>'1'</td>\n",
       "      <td>'0'</td>\n",
       "      <td>'124'</td>\n",
       "      <td>'976'</td>\n",
       "      <td>'4.6'</td>\n",
       "      <td>'0'</td>\n",
       "      <td>'0'</td>\n",
       "      <td>0.0</td>\n",
       "      <td>1380.0</td>\n",
       "      <td>7.0</td>\n",
       "      <td>3.0</td>\n",
       "    </tr>\n",
       "    <tr>\n",
       "      <th>75549</th>\n",
       "      <td>5246.500000</td>\n",
       "      <td>1</td>\n",
       "      <td>'5.15'</td>\n",
       "      <td>'67.25'</td>\n",
       "      <td>'1'</td>\n",
       "      <td>'0'</td>\n",
       "      <td>'124'</td>\n",
       "      <td>'976'</td>\n",
       "      <td>'4.6'</td>\n",
       "      <td>'0'</td>\n",
       "      <td>'0'</td>\n",
       "      <td>0.0</td>\n",
       "      <td>1395.0</td>\n",
       "      <td>7.0</td>\n",
       "      <td>3.0</td>\n",
       "    </tr>\n",
       "    <tr>\n",
       "      <th>75550</th>\n",
       "      <td>5039.924704</td>\n",
       "      <td>1</td>\n",
       "      <td>'4.80'</td>\n",
       "      <td>'68.50'</td>\n",
       "      <td>'1'</td>\n",
       "      <td>'0'</td>\n",
       "      <td>'124'</td>\n",
       "      <td>'976'</td>\n",
       "      <td>'4.6'</td>\n",
       "      <td>'0'</td>\n",
       "      <td>'0'</td>\n",
       "      <td>0.0</td>\n",
       "      <td>1410.0</td>\n",
       "      <td>7.0</td>\n",
       "      <td>3.0</td>\n",
       "    </tr>\n",
       "    <tr>\n",
       "      <th>75551</th>\n",
       "      <td>4873.622464</td>\n",
       "      <td>1</td>\n",
       "      <td>'4.45'</td>\n",
       "      <td>'69.75'</td>\n",
       "      <td>'1'</td>\n",
       "      <td>'0'</td>\n",
       "      <td>'124'</td>\n",
       "      <td>'976'</td>\n",
       "      <td>'4.6'</td>\n",
       "      <td>'0'</td>\n",
       "      <td>'0'</td>\n",
       "      <td>0.0</td>\n",
       "      <td>1425.0</td>\n",
       "      <td>7.0</td>\n",
       "      <td>3.0</td>\n",
       "    </tr>\n",
       "  </tbody>\n",
       "</table>\n",
       "<p>75552 rows × 15 columns</p>\n",
       "</div>"
      ],
      "text/plain": [
       "             value  weather_status temperature humidity wind_speed wind_level  \\\n",
       "0      3210.842464               1      '-8.6'     '41'      '0.5'        '0'   \n",
       "1      3104.507008               1     '-8.88'  '43.00'      '0.5'        '0'   \n",
       "2      3037.705984               1     '-9.16'  '45.00'      '0.5'        '0'   \n",
       "3      2960.176288               1     '-9.44'  '47.00'      '0.5'        '0'   \n",
       "4      2889.226528               3      '-9.7'     '49'      '0.7'        '0'   \n",
       "...            ...             ...         ...      ...        ...        ...   \n",
       "75547  5649.941920               1      '5.85'  '64.75'      '1.6'       '17'   \n",
       "75548  5451.523744               1       '5.5'     '66'        '1'        '0'   \n",
       "75549  5246.500000               1      '5.15'  '67.25'        '1'        '0'   \n",
       "75550  5039.924704               1      '4.80'  '68.50'        '1'        '0'   \n",
       "75551  4873.622464               1      '4.45'  '69.75'        '1'        '0'   \n",
       "\n",
       "      wind_direction_angle pressure visibility precipitation light  holiday  \\\n",
       "0                    '359'    '977'      '9.7'           '0'   '0'      1.0   \n",
       "1                    '359'    '977'      '9.7'           '0'   '0'      1.0   \n",
       "2                    '359'    '977'      '9.7'           '0'   '0'      1.0   \n",
       "3                    '359'    '977'      '9.7'           '0'   '0'      1.0   \n",
       "4                    '335'    '976'      '8.6'           '0'   '0'      1.0   \n",
       "...                    ...      ...        ...           ...   ...      ...   \n",
       "75547                '250'    '976'      '5.2'           '0'   '0'      0.0   \n",
       "75548                '124'    '976'      '4.6'           '0'   '0'      0.0   \n",
       "75549                '124'    '976'      '4.6'           '0'   '0'      0.0   \n",
       "75550                '124'    '976'      '4.6'           '0'   '0'      0.0   \n",
       "75551                '124'    '976'      '4.6'           '0'   '0'      0.0   \n",
       "\n",
       "       minute  week  year  \n",
       "0         0.0   5.0   1.0  \n",
       "1        15.0   5.0   1.0  \n",
       "2        30.0   5.0   1.0  \n",
       "3        45.0   5.0   1.0  \n",
       "4        60.0   5.0   1.0  \n",
       "...       ...   ...   ...  \n",
       "75547  1365.0   7.0   3.0  \n",
       "75548  1380.0   7.0   3.0  \n",
       "75549  1395.0   7.0   3.0  \n",
       "75550  1410.0   7.0   3.0  \n",
       "75551  1425.0   7.0   3.0  \n",
       "\n",
       "[75552 rows x 15 columns]"
      ]
     },
     "execution_count": 27,
     "metadata": {},
     "output_type": "execute_result"
    }
   ],
   "source": [
    "new_data"
   ]
  },
  {
   "cell_type": "code",
   "execution_count": 28,
   "id": "6cf8f1ba",
   "metadata": {
    "pycharm": {
     "name": "#%%\n"
    }
   },
   "outputs": [
    {
     "name": "stdout",
     "output_type": "stream",
     "text": [
      "<class 'pandas.core.frame.DataFrame'>\n",
      "RangeIndex: 75552 entries, 0 to 75551\n",
      "Data columns (total 15 columns):\n",
      " #   Column                Non-Null Count  Dtype  \n",
      "---  ------                --------------  -----  \n",
      " 0   value                 75552 non-null  float64\n",
      " 1   weather_status        75552 non-null  int64  \n",
      " 2   temperature           75552 non-null  object \n",
      " 3   humidity              75552 non-null  object \n",
      " 4   wind_speed            75552 non-null  object \n",
      " 5   wind_level            75552 non-null  object \n",
      " 6   wind_direction_angle  75552 non-null  object \n",
      " 7   pressure              75552 non-null  object \n",
      " 8   visibility            75552 non-null  object \n",
      " 9   precipitation         75552 non-null  object \n",
      " 10  light                 75552 non-null  object \n",
      " 11  holiday               75552 non-null  float64\n",
      " 12  minute                75552 non-null  float64\n",
      " 13  week                  75552 non-null  float64\n",
      " 14  year                  75552 non-null  float64\n",
      "dtypes: float64(5), int64(1), object(9)\n",
      "memory usage: 8.6+ MB\n"
     ]
    }
   ],
   "source": [
    "new_data.info()"
   ]
  },
  {
   "cell_type": "markdown",
   "id": "75c249f2",
   "metadata": {
    "pycharm": {
     "name": "#%% md\n"
    }
   },
   "source": [
    "将object类型数据两边的引号去掉，然后转为数值类型"
   ]
  },
  {
   "cell_type": "code",
   "execution_count": 29,
   "id": "905bb383",
   "metadata": {
    "pycharm": {
     "name": "#%%\n"
    }
   },
   "outputs": [],
   "source": [
    "df_2 = new_data[['temperature', 'humidity', 'wind_speed', 'wind_level', 'wind_direction_angle', 'pressure', 'visibility', 'precipitation', 'light']]"
   ]
  },
  {
   "cell_type": "code",
   "execution_count": 30,
   "id": "47caeece",
   "metadata": {
    "pycharm": {
     "name": "#%%\n"
    }
   },
   "outputs": [
    {
     "data": {
      "text/html": [
       "<div>\n",
       "<style scoped>\n",
       "    .dataframe tbody tr th:only-of-type {\n",
       "        vertical-align: middle;\n",
       "    }\n",
       "\n",
       "    .dataframe tbody tr th {\n",
       "        vertical-align: top;\n",
       "    }\n",
       "\n",
       "    .dataframe thead th {\n",
       "        text-align: right;\n",
       "    }\n",
       "</style>\n",
       "<table border=\"1\" class=\"dataframe\">\n",
       "  <thead>\n",
       "    <tr style=\"text-align: right;\">\n",
       "      <th></th>\n",
       "      <th>temperature</th>\n",
       "      <th>humidity</th>\n",
       "      <th>wind_speed</th>\n",
       "      <th>wind_level</th>\n",
       "      <th>wind_direction_angle</th>\n",
       "      <th>pressure</th>\n",
       "      <th>visibility</th>\n",
       "      <th>precipitation</th>\n",
       "      <th>light</th>\n",
       "    </tr>\n",
       "  </thead>\n",
       "  <tbody>\n",
       "    <tr>\n",
       "      <th>0</th>\n",
       "      <td>'-8.6'</td>\n",
       "      <td>'41'</td>\n",
       "      <td>'0.5'</td>\n",
       "      <td>'0'</td>\n",
       "      <td>'359'</td>\n",
       "      <td>'977'</td>\n",
       "      <td>'9.7'</td>\n",
       "      <td>'0'</td>\n",
       "      <td>'0'</td>\n",
       "    </tr>\n",
       "    <tr>\n",
       "      <th>1</th>\n",
       "      <td>'-8.88'</td>\n",
       "      <td>'43.00'</td>\n",
       "      <td>'0.5'</td>\n",
       "      <td>'0'</td>\n",
       "      <td>'359'</td>\n",
       "      <td>'977'</td>\n",
       "      <td>'9.7'</td>\n",
       "      <td>'0'</td>\n",
       "      <td>'0'</td>\n",
       "    </tr>\n",
       "    <tr>\n",
       "      <th>2</th>\n",
       "      <td>'-9.16'</td>\n",
       "      <td>'45.00'</td>\n",
       "      <td>'0.5'</td>\n",
       "      <td>'0'</td>\n",
       "      <td>'359'</td>\n",
       "      <td>'977'</td>\n",
       "      <td>'9.7'</td>\n",
       "      <td>'0'</td>\n",
       "      <td>'0'</td>\n",
       "    </tr>\n",
       "    <tr>\n",
       "      <th>3</th>\n",
       "      <td>'-9.44'</td>\n",
       "      <td>'47.00'</td>\n",
       "      <td>'0.5'</td>\n",
       "      <td>'0'</td>\n",
       "      <td>'359'</td>\n",
       "      <td>'977'</td>\n",
       "      <td>'9.7'</td>\n",
       "      <td>'0'</td>\n",
       "      <td>'0'</td>\n",
       "    </tr>\n",
       "    <tr>\n",
       "      <th>4</th>\n",
       "      <td>'-9.7'</td>\n",
       "      <td>'49'</td>\n",
       "      <td>'0.7'</td>\n",
       "      <td>'0'</td>\n",
       "      <td>'335'</td>\n",
       "      <td>'976'</td>\n",
       "      <td>'8.6'</td>\n",
       "      <td>'0'</td>\n",
       "      <td>'0'</td>\n",
       "    </tr>\n",
       "    <tr>\n",
       "      <th>...</th>\n",
       "      <td>...</td>\n",
       "      <td>...</td>\n",
       "      <td>...</td>\n",
       "      <td>...</td>\n",
       "      <td>...</td>\n",
       "      <td>...</td>\n",
       "      <td>...</td>\n",
       "      <td>...</td>\n",
       "      <td>...</td>\n",
       "    </tr>\n",
       "    <tr>\n",
       "      <th>75547</th>\n",
       "      <td>'5.85'</td>\n",
       "      <td>'64.75'</td>\n",
       "      <td>'1.6'</td>\n",
       "      <td>'17'</td>\n",
       "      <td>'250'</td>\n",
       "      <td>'976'</td>\n",
       "      <td>'5.2'</td>\n",
       "      <td>'0'</td>\n",
       "      <td>'0'</td>\n",
       "    </tr>\n",
       "    <tr>\n",
       "      <th>75548</th>\n",
       "      <td>'5.5'</td>\n",
       "      <td>'66'</td>\n",
       "      <td>'1'</td>\n",
       "      <td>'0'</td>\n",
       "      <td>'124'</td>\n",
       "      <td>'976'</td>\n",
       "      <td>'4.6'</td>\n",
       "      <td>'0'</td>\n",
       "      <td>'0'</td>\n",
       "    </tr>\n",
       "    <tr>\n",
       "      <th>75549</th>\n",
       "      <td>'5.15'</td>\n",
       "      <td>'67.25'</td>\n",
       "      <td>'1'</td>\n",
       "      <td>'0'</td>\n",
       "      <td>'124'</td>\n",
       "      <td>'976'</td>\n",
       "      <td>'4.6'</td>\n",
       "      <td>'0'</td>\n",
       "      <td>'0'</td>\n",
       "    </tr>\n",
       "    <tr>\n",
       "      <th>75550</th>\n",
       "      <td>'4.80'</td>\n",
       "      <td>'68.50'</td>\n",
       "      <td>'1'</td>\n",
       "      <td>'0'</td>\n",
       "      <td>'124'</td>\n",
       "      <td>'976'</td>\n",
       "      <td>'4.6'</td>\n",
       "      <td>'0'</td>\n",
       "      <td>'0'</td>\n",
       "    </tr>\n",
       "    <tr>\n",
       "      <th>75551</th>\n",
       "      <td>'4.45'</td>\n",
       "      <td>'69.75'</td>\n",
       "      <td>'1'</td>\n",
       "      <td>'0'</td>\n",
       "      <td>'124'</td>\n",
       "      <td>'976'</td>\n",
       "      <td>'4.6'</td>\n",
       "      <td>'0'</td>\n",
       "      <td>'0'</td>\n",
       "    </tr>\n",
       "  </tbody>\n",
       "</table>\n",
       "<p>75552 rows × 9 columns</p>\n",
       "</div>"
      ],
      "text/plain": [
       "      temperature humidity wind_speed wind_level wind_direction_angle  \\\n",
       "0          '-8.6'     '41'      '0.5'        '0'                '359'   \n",
       "1         '-8.88'  '43.00'      '0.5'        '0'                '359'   \n",
       "2         '-9.16'  '45.00'      '0.5'        '0'                '359'   \n",
       "3         '-9.44'  '47.00'      '0.5'        '0'                '359'   \n",
       "4          '-9.7'     '49'      '0.7'        '0'                '335'   \n",
       "...           ...      ...        ...        ...                  ...   \n",
       "75547      '5.85'  '64.75'      '1.6'       '17'                '250'   \n",
       "75548       '5.5'     '66'        '1'        '0'                '124'   \n",
       "75549      '5.15'  '67.25'        '1'        '0'                '124'   \n",
       "75550      '4.80'  '68.50'        '1'        '0'                '124'   \n",
       "75551      '4.45'  '69.75'        '1'        '0'                '124'   \n",
       "\n",
       "      pressure visibility precipitation light  \n",
       "0        '977'      '9.7'           '0'   '0'  \n",
       "1        '977'      '9.7'           '0'   '0'  \n",
       "2        '977'      '9.7'           '0'   '0'  \n",
       "3        '977'      '9.7'           '0'   '0'  \n",
       "4        '976'      '8.6'           '0'   '0'  \n",
       "...        ...        ...           ...   ...  \n",
       "75547    '976'      '5.2'           '0'   '0'  \n",
       "75548    '976'      '4.6'           '0'   '0'  \n",
       "75549    '976'      '4.6'           '0'   '0'  \n",
       "75550    '976'      '4.6'           '0'   '0'  \n",
       "75551    '976'      '4.6'           '0'   '0'  \n",
       "\n",
       "[75552 rows x 9 columns]"
      ]
     },
     "execution_count": 30,
     "metadata": {},
     "output_type": "execute_result"
    }
   ],
   "source": [
    "df_2"
   ]
  },
  {
   "cell_type": "code",
   "execution_count": 31,
   "id": "b95e88c1",
   "metadata": {
    "pycharm": {
     "name": "#%%\n"
    }
   },
   "outputs": [],
   "source": [
    "array2 = np.array(df_2)"
   ]
  },
  {
   "cell_type": "code",
   "execution_count": 32,
   "id": "c7b1f523",
   "metadata": {
    "pycharm": {
     "name": "#%%\n"
    }
   },
   "outputs": [],
   "source": [
    "for i in range(9):\n",
    "    a = [j[1: -1] for j in array2[:, i]]\n",
    "    a = pd.to_numeric(a)  # 也可使用float()\n",
    "    array2[:, i] = a"
   ]
  },
  {
   "cell_type": "code",
   "execution_count": 33,
   "id": "97c40b24",
   "metadata": {
    "pycharm": {
     "name": "#%%\n"
    }
   },
   "outputs": [],
   "source": [
    "array2 = array2.astype(dtype=np.float32)"
   ]
  },
  {
   "cell_type": "markdown",
   "id": "8ba41889",
   "metadata": {
    "pycharm": {
     "name": "#%% md\n"
    }
   },
   "source": [
    "新的dataframe"
   ]
  },
  {
   "cell_type": "code",
   "execution_count": 34,
   "id": "4d3bebe0",
   "metadata": {
    "pycharm": {
     "name": "#%%\n"
    }
   },
   "outputs": [],
   "source": [
    "new_data[['temperature', 'humidity', 'wind_speed', 'wind_level', 'wind_direction_angle', 'pressure', 'visibility', 'precipitation', 'light']] = array2"
   ]
  },
  {
   "cell_type": "code",
   "execution_count": 35,
   "id": "c4dd2e19",
   "metadata": {
    "pycharm": {
     "name": "#%%\n"
    }
   },
   "outputs": [
    {
     "name": "stdout",
     "output_type": "stream",
     "text": [
      "<class 'pandas.core.frame.DataFrame'>\n",
      "RangeIndex: 75552 entries, 0 to 75551\n",
      "Data columns (total 15 columns):\n",
      " #   Column                Non-Null Count  Dtype  \n",
      "---  ------                --------------  -----  \n",
      " 0   value                 75552 non-null  float64\n",
      " 1   weather_status        75552 non-null  int64  \n",
      " 2   temperature           75552 non-null  float32\n",
      " 3   humidity              75552 non-null  float32\n",
      " 4   wind_speed            75552 non-null  float32\n",
      " 5   wind_level            75552 non-null  float32\n",
      " 6   wind_direction_angle  75552 non-null  float32\n",
      " 7   pressure              75552 non-null  float32\n",
      " 8   visibility            75552 non-null  float32\n",
      " 9   precipitation         75552 non-null  float32\n",
      " 10  light                 75552 non-null  float32\n",
      " 11  holiday               75552 non-null  float64\n",
      " 12  minute                75552 non-null  float64\n",
      " 13  week                  75552 non-null  float64\n",
      " 14  year                  75552 non-null  float64\n",
      "dtypes: float32(9), float64(5), int64(1)\n",
      "memory usage: 6.1 MB\n"
     ]
    }
   ],
   "source": [
    "new_data.info()"
   ]
  },
  {
   "cell_type": "code",
   "execution_count": 36,
   "id": "09f424a5",
   "metadata": {
    "pycharm": {
     "name": "#%%\n"
    }
   },
   "outputs": [],
   "source": [
    "new_data = new_data.astype(np.float32)"
   ]
  },
  {
   "cell_type": "code",
   "execution_count": 37,
   "id": "1278c796",
   "metadata": {
    "pycharm": {
     "name": "#%%\n"
    }
   },
   "outputs": [
    {
     "name": "stdout",
     "output_type": "stream",
     "text": [
      "<class 'pandas.core.frame.DataFrame'>\n",
      "RangeIndex: 75552 entries, 0 to 75551\n",
      "Data columns (total 15 columns):\n",
      " #   Column                Non-Null Count  Dtype  \n",
      "---  ------                --------------  -----  \n",
      " 0   value                 75552 non-null  float32\n",
      " 1   weather_status        75552 non-null  float32\n",
      " 2   temperature           75552 non-null  float32\n",
      " 3   humidity              75552 non-null  float32\n",
      " 4   wind_speed            75552 non-null  float32\n",
      " 5   wind_level            75552 non-null  float32\n",
      " 6   wind_direction_angle  75552 non-null  float32\n",
      " 7   pressure              75552 non-null  float32\n",
      " 8   visibility            75552 non-null  float32\n",
      " 9   precipitation         75552 non-null  float32\n",
      " 10  light                 75552 non-null  float32\n",
      " 11  holiday               75552 non-null  float32\n",
      " 12  minute                75552 non-null  float32\n",
      " 13  week                  75552 non-null  float32\n",
      " 14  year                  75552 non-null  float32\n",
      "dtypes: float32(15)\n",
      "memory usage: 4.3 MB\n"
     ]
    }
   ],
   "source": [
    "new_data.info()"
   ]
  },
  {
   "cell_type": "markdown",
   "id": "5bc1cf9a",
   "metadata": {
    "pycharm": {
     "name": "#%% md\n"
    }
   },
   "source": [
    "查看气象特征的数值分布，看看有没有异常值"
   ]
  },
  {
   "cell_type": "code",
   "execution_count": 38,
   "id": "80518f9b",
   "metadata": {
    "pycharm": {
     "name": "#%%\n"
    }
   },
   "outputs": [
    {
     "data": {
      "text/plain": [
       "0         1.0\n",
       "40732     1.0\n",
       "40733     1.0\n",
       "40734     1.0\n",
       "40735     1.0\n",
       "         ... \n",
       "7113     23.0\n",
       "7112     23.0\n",
       "7111     23.0\n",
       "7119     23.0\n",
       "7115     23.0\n",
       "Name: weather_status, Length: 75552, dtype: float32"
      ]
     },
     "execution_count": 38,
     "metadata": {},
     "output_type": "execute_result"
    }
   ],
   "source": [
    "new_data['weather_status'].sort_values()  # 天气状态"
   ]
  },
  {
   "cell_type": "code",
   "execution_count": 39,
   "id": "074c22ae",
   "metadata": {
    "pycharm": {
     "name": "#%%\n"
    }
   },
   "outputs": [
    {
     "data": {
      "text/plain": [
       "weather_status\n",
       "1.0     35216\n",
       "2.0     15152\n",
       "3.0     14548\n",
       "11.0     3272\n",
       "7.0      2776\n",
       "19.0     2292\n",
       "21.0      808\n",
       "16.0      556\n",
       "20.0      436\n",
       "8.0       256\n",
       "12.0      136\n",
       "22.0       44\n",
       "9.0        36\n",
       "23.0       20\n",
       "15.0        4\n",
       "Name: count, dtype: int64"
      ]
     },
     "execution_count": 39,
     "metadata": {},
     "output_type": "execute_result"
    }
   ],
   "source": [
    "new_data['weather_status'].value_counts()  # 天气状态"
   ]
  },
  {
   "cell_type": "code",
   "execution_count": 40,
   "id": "a6cb01fd",
   "metadata": {
    "pycharm": {
     "name": "#%%\n"
    }
   },
   "outputs": [
    {
     "data": {
      "text/plain": [
       "604     -14.600000\n",
       "605     -14.570000\n",
       "603     -14.540000\n",
       "606     -14.540000\n",
       "607     -14.510000\n",
       "           ...    \n",
       "51811    40.759998\n",
       "51810    40.840000\n",
       "51807    40.849998\n",
       "51809    40.919998\n",
       "51808    41.000000\n",
       "Name: temperature, Length: 75552, dtype: float32"
      ]
     },
     "execution_count": 40,
     "metadata": {},
     "output_type": "execute_result"
    }
   ],
   "source": [
    "new_data['temperature'].sort_values()  # 温度"
   ]
  },
  {
   "cell_type": "code",
   "execution_count": 41,
   "id": "9179bfc1",
   "metadata": {
    "pycharm": {
     "name": "#%%\n"
    }
   },
   "outputs": [
    {
     "data": {
      "text/plain": [
       "12099      6.0\n",
       "12100      6.0\n",
       "12092      6.0\n",
       "12098      6.0\n",
       "12097      6.0\n",
       "         ...  \n",
       "53594    100.0\n",
       "53883    100.0\n",
       "53882    100.0\n",
       "54265    100.0\n",
       "53472    100.0\n",
       "Name: humidity, Length: 75552, dtype: float32"
      ]
     },
     "execution_count": 41,
     "metadata": {},
     "output_type": "execute_result"
    }
   ],
   "source": [
    "new_data['humidity'].sort_values()  # 湿度"
   ]
  },
  {
   "cell_type": "code",
   "execution_count": 42,
   "id": "423c5f2d",
   "metadata": {
    "pycharm": {
     "name": "#%%\n"
    }
   },
   "outputs": [
    {
     "data": {
      "text/plain": [
       "31805     0.0\n",
       "69607     0.0\n",
       "69606     0.0\n",
       "69605     0.0\n",
       "69604     0.0\n",
       "         ... \n",
       "589       9.2\n",
       "592      13.3\n",
       "595      13.3\n",
       "594      13.3\n",
       "593      13.3\n",
       "Name: wind_speed, Length: 75552, dtype: float32"
      ]
     },
     "execution_count": 42,
     "metadata": {},
     "output_type": "execute_result"
    }
   ],
   "source": [
    "new_data['wind_speed'].sort_values()  # 风速"
   ]
  },
  {
   "cell_type": "code",
   "execution_count": 43,
   "id": "e33a10d5",
   "metadata": {
    "pycharm": {
     "name": "#%%\n"
    }
   },
   "outputs": [
    {
     "data": {
      "text/plain": [
       "0         0.0\n",
       "36415     0.0\n",
       "36414     0.0\n",
       "36413     0.0\n",
       "36412     0.0\n",
       "         ... \n",
       "28779    17.0\n",
       "28784    17.0\n",
       "28785    17.0\n",
       "28787    17.0\n",
       "37775    17.0\n",
       "Name: wind_level, Length: 75552, dtype: float32"
      ]
     },
     "execution_count": 43,
     "metadata": {},
     "output_type": "execute_result"
    }
   ],
   "source": [
    "new_data['wind_level'].sort_values()  # 风力等级"
   ]
  },
  {
   "cell_type": "code",
   "execution_count": 44,
   "id": "265b6a60",
   "metadata": {
    "pycharm": {
     "name": "#%%\n"
    }
   },
   "outputs": [
    {
     "data": {
      "text/plain": [
       "wind_level\n",
       "17.0    29791\n",
       "0.0     23249\n",
       "1.0     22296\n",
       "2.0       212\n",
       "3.0         4\n",
       "Name: count, dtype: int64"
      ]
     },
     "execution_count": 44,
     "metadata": {},
     "output_type": "execute_result"
    }
   ],
   "source": [
    "new_data['wind_level'].value_counts()  # 风力等级"
   ]
  },
  {
   "cell_type": "code",
   "execution_count": 45,
   "id": "e14144fe",
   "metadata": {
    "pycharm": {
     "name": "#%%\n"
    }
   },
   "outputs": [
    {
     "data": {
      "text/plain": [
       "29254      0.0\n",
       "25912      0.0\n",
       "25913      0.0\n",
       "25914      0.0\n",
       "25915      0.0\n",
       "         ...  \n",
       "56958    360.0\n",
       "56959    360.0\n",
       "59947    360.0\n",
       "39196    360.0\n",
       "59055    360.0\n",
       "Name: wind_direction_angle, Length: 75552, dtype: float32"
      ]
     },
     "execution_count": 45,
     "metadata": {},
     "output_type": "execute_result"
    }
   ],
   "source": [
    "new_data['wind_direction_angle'].sort_values()  # 风向角"
   ]
  },
  {
   "cell_type": "code",
   "execution_count": 46,
   "id": "9cf95560",
   "metadata": {
    "pycharm": {
     "name": "#%%\n"
    }
   },
   "outputs": [
    {
     "data": {
      "text/plain": [
       "43011     857.0\n",
       "43010     857.0\n",
       "43009     857.0\n",
       "43008     857.0\n",
       "42995     861.0\n",
       "          ...  \n",
       "42999    1008.0\n",
       "44308    1018.0\n",
       "44309    1018.0\n",
       "44310    1018.0\n",
       "44311    1018.0\n",
       "Name: pressure, Length: 75552, dtype: float32"
      ]
     },
     "execution_count": 46,
     "metadata": {},
     "output_type": "execute_result"
    }
   ],
   "source": [
    "new_data['pressure'].sort_values()  # 压力"
   ]
  },
  {
   "cell_type": "code",
   "execution_count": 47,
   "id": "9dd52af3",
   "metadata": {
    "pycharm": {
     "name": "#%%\n"
    }
   },
   "outputs": [
    {
     "data": {
      "text/plain": [
       "26222     0.1\n",
       "26223     0.1\n",
       "26229     0.1\n",
       "26221     0.1\n",
       "26231     0.1\n",
       "         ... \n",
       "16553    30.0\n",
       "16552    30.0\n",
       "16551    30.0\n",
       "16560    30.0\n",
       "58950    30.0\n",
       "Name: visibility, Length: 75552, dtype: float32"
      ]
     },
     "execution_count": 47,
     "metadata": {},
     "output_type": "execute_result"
    }
   ],
   "source": [
    "new_data['visibility'].sort_values()  # 可见度"
   ]
  },
  {
   "cell_type": "code",
   "execution_count": 48,
   "id": "11a66c30",
   "metadata": {
    "pycharm": {
     "name": "#%%\n"
    }
   },
   "outputs": [
    {
     "data": {
      "text/plain": [
       "visibility\n",
       "30.0    9720\n",
       "6.4     1992\n",
       "14.4    1492\n",
       "12.2     588\n",
       "5.4      512\n",
       "        ... \n",
       "0.6       16\n",
       "0.4       16\n",
       "0.3       12\n",
       "0.1        8\n",
       "0.5        4\n",
       "Name: count, Length: 299, dtype: int64"
      ]
     },
     "execution_count": 48,
     "metadata": {},
     "output_type": "execute_result"
    }
   ],
   "source": [
    "new_data['visibility'].value_counts()  # 可见度"
   ]
  },
  {
   "cell_type": "code",
   "execution_count": 49,
   "id": "76f23d41",
   "metadata": {
    "pycharm": {
     "name": "#%%\n"
    }
   },
   "outputs": [
    {
     "data": {
      "text/plain": [
       "0         0.000000\n",
       "49750     0.000000\n",
       "49749     0.000000\n",
       "49748     0.000000\n",
       "49747     0.000000\n",
       "           ...    \n",
       "53875    15.200000\n",
       "53870    34.599998\n",
       "53869    34.599998\n",
       "53868    34.599998\n",
       "53871    34.599998\n",
       "Name: precipitation, Length: 75552, dtype: float32"
      ]
     },
     "execution_count": 49,
     "metadata": {},
     "output_type": "execute_result"
    }
   ],
   "source": [
    "new_data['precipitation'].sort_values()  # 降水"
   ]
  },
  {
   "cell_type": "code",
   "execution_count": 50,
   "id": "27fb2bd4",
   "metadata": {
    "pycharm": {
     "name": "#%%\n"
    }
   },
   "outputs": [
    {
     "data": {
      "text/plain": [
       "0          0.000000\n",
       "40226      0.000000\n",
       "40227      0.000000\n",
       "40228      0.000000\n",
       "40229      0.000000\n",
       "            ...    \n",
       "14163    998.409973\n",
       "49392    999.203369\n",
       "49394    999.203369\n",
       "49395    999.203369\n",
       "49393    999.203369\n",
       "Name: light, Length: 75552, dtype: float32"
      ]
     },
     "execution_count": 50,
     "metadata": {},
     "output_type": "execute_result"
    }
   ],
   "source": [
    "new_data['light'].sort_values()  # 光照强度"
   ]
  },
  {
   "cell_type": "markdown",
   "id": "7f250363",
   "metadata": {
    "pycharm": {
     "name": "#%% md\n"
    }
   },
   "source": [
    "气象数据未发现异常值。"
   ]
  },
  {
   "cell_type": "markdown",
   "id": "ee2f05d3",
   "metadata": {
    "pycharm": {
     "name": "#%% md\n"
    }
   },
   "source": [
    "风速和风力等级重复了，并且这个数据集里风力等级只有0，1，2，3，17这5种取值，所以删去风力等级(wind_level)列。"
   ]
  },
  {
   "cell_type": "code",
   "execution_count": 51,
   "id": "ecadb44b",
   "metadata": {
    "pycharm": {
     "name": "#%%\n"
    }
   },
   "outputs": [],
   "source": [
    "new_data = new_data.drop('wind_level', axis=1)"
   ]
  },
  {
   "cell_type": "code",
   "execution_count": 52,
   "id": "a95929e2",
   "metadata": {
    "pycharm": {
     "name": "#%%\n"
    }
   },
   "outputs": [
    {
     "name": "stdout",
     "output_type": "stream",
     "text": [
      "<class 'pandas.core.frame.DataFrame'>\n",
      "RangeIndex: 75552 entries, 0 to 75551\n",
      "Data columns (total 14 columns):\n",
      " #   Column                Non-Null Count  Dtype  \n",
      "---  ------                --------------  -----  \n",
      " 0   value                 75552 non-null  float32\n",
      " 1   weather_status        75552 non-null  float32\n",
      " 2   temperature           75552 non-null  float32\n",
      " 3   humidity              75552 non-null  float32\n",
      " 4   wind_speed            75552 non-null  float32\n",
      " 5   wind_direction_angle  75552 non-null  float32\n",
      " 6   pressure              75552 non-null  float32\n",
      " 7   visibility            75552 non-null  float32\n",
      " 8   precipitation         75552 non-null  float32\n",
      " 9   light                 75552 non-null  float32\n",
      " 10  holiday               75552 non-null  float32\n",
      " 11  minute                75552 non-null  float32\n",
      " 12  week                  75552 non-null  float32\n",
      " 13  year                  75552 non-null  float32\n",
      "dtypes: float32(14)\n",
      "memory usage: 4.0 MB\n"
     ]
    }
   ],
   "source": [
    "new_data.info()"
   ]
  },
  {
   "cell_type": "markdown",
   "id": "199aa901",
   "metadata": {
    "pycharm": {
     "name": "#%% md\n"
    }
   },
   "source": [
    "将new_data保存起来"
   ]
  },
  {
   "cell_type": "code",
   "execution_count": 53,
   "id": "1606edf6",
   "metadata": {
    "pycharm": {
     "name": "#%%\n"
    }
   },
   "outputs": [],
   "source": [
    "new_data.to_csv('new_data.csv')"
   ]
  },
  {
   "cell_type": "markdown",
   "id": "405f60bf",
   "metadata": {
    "pycharm": {
     "name": "#%% md\n"
    }
   },
   "source": [
    "划分训练集和测试集，2021年和2022年的数据作为训练集，2023年的数据作为测试集"
   ]
  },
  {
   "cell_type": "code",
   "execution_count": 54,
   "id": "83468651",
   "metadata": {
    "pycharm": {
     "name": "#%%\n"
    }
   },
   "outputs": [],
   "source": [
    "# 可以之后再将2021、2022的数据和2023的部分数据作为训练"
   ]
  },
  {
   "cell_type": "code",
   "execution_count": 55,
   "id": "3d404be9",
   "metadata": {
    "pycharm": {
     "name": "#%%\n"
    }
   },
   "outputs": [],
   "source": [
    "train = new_data.loc[:70079]\n",
    "test = new_data.loc[70080:]"
   ]
  },
  {
   "cell_type": "code",
   "execution_count": 56,
   "id": "c1a4883d",
   "metadata": {
    "pycharm": {
     "name": "#%%\n"
    }
   },
   "outputs": [
    {
     "name": "stdout",
     "output_type": "stream",
     "text": [
      "70080\n",
      "5472\n"
     ]
    }
   ],
   "source": [
    "print(len(train))\n",
    "print(len(test))"
   ]
  },
  {
   "cell_type": "markdown",
   "id": "0c19029c",
   "metadata": {
    "pycharm": {
     "name": "#%% md\n"
    }
   },
   "source": [
    "对训练集数据归一化"
   ]
  },
  {
   "cell_type": "code",
   "execution_count": 57,
   "id": "22e15b29",
   "metadata": {
    "pycharm": {
     "name": "#%%\n"
    }
   },
   "outputs": [],
   "source": [
    "scaler = MinMaxScaler()\n",
    "scaler = scaler.fit(train)  # fit，在这里本质是生成min(x)和max(x)\n",
    "train_result = scaler.transform(train)  # 结果为ndarray类型"
   ]
  },
  {
   "cell_type": "code",
   "execution_count": 58,
   "id": "73fa08a6",
   "metadata": {
    "pycharm": {
     "name": "#%%\n"
    }
   },
   "outputs": [
    {
     "data": {
      "text/html": [
       "<style>#sk-container-id-1 {\n",
       "  /* Definition of color scheme common for light and dark mode */\n",
       "  --sklearn-color-text: #000;\n",
       "  --sklearn-color-text-muted: #666;\n",
       "  --sklearn-color-line: gray;\n",
       "  /* Definition of color scheme for unfitted estimators */\n",
       "  --sklearn-color-unfitted-level-0: #fff5e6;\n",
       "  --sklearn-color-unfitted-level-1: #f6e4d2;\n",
       "  --sklearn-color-unfitted-level-2: #ffe0b3;\n",
       "  --sklearn-color-unfitted-level-3: chocolate;\n",
       "  /* Definition of color scheme for fitted estimators */\n",
       "  --sklearn-color-fitted-level-0: #f0f8ff;\n",
       "  --sklearn-color-fitted-level-1: #d4ebff;\n",
       "  --sklearn-color-fitted-level-2: #b3dbfd;\n",
       "  --sklearn-color-fitted-level-3: cornflowerblue;\n",
       "\n",
       "  /* Specific color for light theme */\n",
       "  --sklearn-color-text-on-default-background: var(--sg-text-color, var(--theme-code-foreground, var(--jp-content-font-color1, black)));\n",
       "  --sklearn-color-background: var(--sg-background-color, var(--theme-background, var(--jp-layout-color0, white)));\n",
       "  --sklearn-color-border-box: var(--sg-text-color, var(--theme-code-foreground, var(--jp-content-font-color1, black)));\n",
       "  --sklearn-color-icon: #696969;\n",
       "\n",
       "  @media (prefers-color-scheme: dark) {\n",
       "    /* Redefinition of color scheme for dark theme */\n",
       "    --sklearn-color-text-on-default-background: var(--sg-text-color, var(--theme-code-foreground, var(--jp-content-font-color1, white)));\n",
       "    --sklearn-color-background: var(--sg-background-color, var(--theme-background, var(--jp-layout-color0, #111)));\n",
       "    --sklearn-color-border-box: var(--sg-text-color, var(--theme-code-foreground, var(--jp-content-font-color1, white)));\n",
       "    --sklearn-color-icon: #878787;\n",
       "  }\n",
       "}\n",
       "\n",
       "#sk-container-id-1 {\n",
       "  color: var(--sklearn-color-text);\n",
       "}\n",
       "\n",
       "#sk-container-id-1 pre {\n",
       "  padding: 0;\n",
       "}\n",
       "\n",
       "#sk-container-id-1 input.sk-hidden--visually {\n",
       "  border: 0;\n",
       "  clip: rect(1px 1px 1px 1px);\n",
       "  clip: rect(1px, 1px, 1px, 1px);\n",
       "  height: 1px;\n",
       "  margin: -1px;\n",
       "  overflow: hidden;\n",
       "  padding: 0;\n",
       "  position: absolute;\n",
       "  width: 1px;\n",
       "}\n",
       "\n",
       "#sk-container-id-1 div.sk-dashed-wrapped {\n",
       "  border: 1px dashed var(--sklearn-color-line);\n",
       "  margin: 0 0.4em 0.5em 0.4em;\n",
       "  box-sizing: border-box;\n",
       "  padding-bottom: 0.4em;\n",
       "  background-color: var(--sklearn-color-background);\n",
       "}\n",
       "\n",
       "#sk-container-id-1 div.sk-container {\n",
       "  /* jupyter's `normalize.less` sets `[hidden] { display: none; }`\n",
       "     but bootstrap.min.css set `[hidden] { display: none !important; }`\n",
       "     so we also need the `!important` here to be able to override the\n",
       "     default hidden behavior on the sphinx rendered scikit-learn.org.\n",
       "     See: https://github.com/scikit-learn/scikit-learn/issues/21755 */\n",
       "  display: inline-block !important;\n",
       "  position: relative;\n",
       "}\n",
       "\n",
       "#sk-container-id-1 div.sk-text-repr-fallback {\n",
       "  display: none;\n",
       "}\n",
       "\n",
       "div.sk-parallel-item,\n",
       "div.sk-serial,\n",
       "div.sk-item {\n",
       "  /* draw centered vertical line to link estimators */\n",
       "  background-image: linear-gradient(var(--sklearn-color-text-on-default-background), var(--sklearn-color-text-on-default-background));\n",
       "  background-size: 2px 100%;\n",
       "  background-repeat: no-repeat;\n",
       "  background-position: center center;\n",
       "}\n",
       "\n",
       "/* Parallel-specific style estimator block */\n",
       "\n",
       "#sk-container-id-1 div.sk-parallel-item::after {\n",
       "  content: \"\";\n",
       "  width: 100%;\n",
       "  border-bottom: 2px solid var(--sklearn-color-text-on-default-background);\n",
       "  flex-grow: 1;\n",
       "}\n",
       "\n",
       "#sk-container-id-1 div.sk-parallel {\n",
       "  display: flex;\n",
       "  align-items: stretch;\n",
       "  justify-content: center;\n",
       "  background-color: var(--sklearn-color-background);\n",
       "  position: relative;\n",
       "}\n",
       "\n",
       "#sk-container-id-1 div.sk-parallel-item {\n",
       "  display: flex;\n",
       "  flex-direction: column;\n",
       "}\n",
       "\n",
       "#sk-container-id-1 div.sk-parallel-item:first-child::after {\n",
       "  align-self: flex-end;\n",
       "  width: 50%;\n",
       "}\n",
       "\n",
       "#sk-container-id-1 div.sk-parallel-item:last-child::after {\n",
       "  align-self: flex-start;\n",
       "  width: 50%;\n",
       "}\n",
       "\n",
       "#sk-container-id-1 div.sk-parallel-item:only-child::after {\n",
       "  width: 0;\n",
       "}\n",
       "\n",
       "/* Serial-specific style estimator block */\n",
       "\n",
       "#sk-container-id-1 div.sk-serial {\n",
       "  display: flex;\n",
       "  flex-direction: column;\n",
       "  align-items: center;\n",
       "  background-color: var(--sklearn-color-background);\n",
       "  padding-right: 1em;\n",
       "  padding-left: 1em;\n",
       "}\n",
       "\n",
       "\n",
       "/* Toggleable style: style used for estimator/Pipeline/ColumnTransformer box that is\n",
       "clickable and can be expanded/collapsed.\n",
       "- Pipeline and ColumnTransformer use this feature and define the default style\n",
       "- Estimators will overwrite some part of the style using the `sk-estimator` class\n",
       "*/\n",
       "\n",
       "/* Pipeline and ColumnTransformer style (default) */\n",
       "\n",
       "#sk-container-id-1 div.sk-toggleable {\n",
       "  /* Default theme specific background. It is overwritten whether we have a\n",
       "  specific estimator or a Pipeline/ColumnTransformer */\n",
       "  background-color: var(--sklearn-color-background);\n",
       "}\n",
       "\n",
       "/* Toggleable label */\n",
       "#sk-container-id-1 label.sk-toggleable__label {\n",
       "  cursor: pointer;\n",
       "  display: flex;\n",
       "  width: 100%;\n",
       "  margin-bottom: 0;\n",
       "  padding: 0.5em;\n",
       "  box-sizing: border-box;\n",
       "  text-align: center;\n",
       "  align-items: start;\n",
       "  justify-content: space-between;\n",
       "  gap: 0.5em;\n",
       "}\n",
       "\n",
       "#sk-container-id-1 label.sk-toggleable__label .caption {\n",
       "  font-size: 0.6rem;\n",
       "  font-weight: lighter;\n",
       "  color: var(--sklearn-color-text-muted);\n",
       "}\n",
       "\n",
       "#sk-container-id-1 label.sk-toggleable__label-arrow:before {\n",
       "  /* Arrow on the left of the label */\n",
       "  content: \"▸\";\n",
       "  float: left;\n",
       "  margin-right: 0.25em;\n",
       "  color: var(--sklearn-color-icon);\n",
       "}\n",
       "\n",
       "#sk-container-id-1 label.sk-toggleable__label-arrow:hover:before {\n",
       "  color: var(--sklearn-color-text);\n",
       "}\n",
       "\n",
       "/* Toggleable content - dropdown */\n",
       "\n",
       "#sk-container-id-1 div.sk-toggleable__content {\n",
       "  display: none;\n",
       "  text-align: left;\n",
       "  /* unfitted */\n",
       "  background-color: var(--sklearn-color-unfitted-level-0);\n",
       "}\n",
       "\n",
       "#sk-container-id-1 div.sk-toggleable__content.fitted {\n",
       "  /* fitted */\n",
       "  background-color: var(--sklearn-color-fitted-level-0);\n",
       "}\n",
       "\n",
       "#sk-container-id-1 div.sk-toggleable__content pre {\n",
       "  margin: 0.2em;\n",
       "  border-radius: 0.25em;\n",
       "  color: var(--sklearn-color-text);\n",
       "  /* unfitted */\n",
       "  background-color: var(--sklearn-color-unfitted-level-0);\n",
       "}\n",
       "\n",
       "#sk-container-id-1 div.sk-toggleable__content.fitted pre {\n",
       "  /* unfitted */\n",
       "  background-color: var(--sklearn-color-fitted-level-0);\n",
       "}\n",
       "\n",
       "#sk-container-id-1 input.sk-toggleable__control:checked~div.sk-toggleable__content {\n",
       "  /* Expand drop-down */\n",
       "  display: block;\n",
       "  width: 100%;\n",
       "  overflow: visible;\n",
       "}\n",
       "\n",
       "#sk-container-id-1 input.sk-toggleable__control:checked~label.sk-toggleable__label-arrow:before {\n",
       "  content: \"▾\";\n",
       "}\n",
       "\n",
       "/* Pipeline/ColumnTransformer-specific style */\n",
       "\n",
       "#sk-container-id-1 div.sk-label input.sk-toggleable__control:checked~label.sk-toggleable__label {\n",
       "  color: var(--sklearn-color-text);\n",
       "  background-color: var(--sklearn-color-unfitted-level-2);\n",
       "}\n",
       "\n",
       "#sk-container-id-1 div.sk-label.fitted input.sk-toggleable__control:checked~label.sk-toggleable__label {\n",
       "  background-color: var(--sklearn-color-fitted-level-2);\n",
       "}\n",
       "\n",
       "/* Estimator-specific style */\n",
       "\n",
       "/* Colorize estimator box */\n",
       "#sk-container-id-1 div.sk-estimator input.sk-toggleable__control:checked~label.sk-toggleable__label {\n",
       "  /* unfitted */\n",
       "  background-color: var(--sklearn-color-unfitted-level-2);\n",
       "}\n",
       "\n",
       "#sk-container-id-1 div.sk-estimator.fitted input.sk-toggleable__control:checked~label.sk-toggleable__label {\n",
       "  /* fitted */\n",
       "  background-color: var(--sklearn-color-fitted-level-2);\n",
       "}\n",
       "\n",
       "#sk-container-id-1 div.sk-label label.sk-toggleable__label,\n",
       "#sk-container-id-1 div.sk-label label {\n",
       "  /* The background is the default theme color */\n",
       "  color: var(--sklearn-color-text-on-default-background);\n",
       "}\n",
       "\n",
       "/* On hover, darken the color of the background */\n",
       "#sk-container-id-1 div.sk-label:hover label.sk-toggleable__label {\n",
       "  color: var(--sklearn-color-text);\n",
       "  background-color: var(--sklearn-color-unfitted-level-2);\n",
       "}\n",
       "\n",
       "/* Label box, darken color on hover, fitted */\n",
       "#sk-container-id-1 div.sk-label.fitted:hover label.sk-toggleable__label.fitted {\n",
       "  color: var(--sklearn-color-text);\n",
       "  background-color: var(--sklearn-color-fitted-level-2);\n",
       "}\n",
       "\n",
       "/* Estimator label */\n",
       "\n",
       "#sk-container-id-1 div.sk-label label {\n",
       "  font-family: monospace;\n",
       "  font-weight: bold;\n",
       "  display: inline-block;\n",
       "  line-height: 1.2em;\n",
       "}\n",
       "\n",
       "#sk-container-id-1 div.sk-label-container {\n",
       "  text-align: center;\n",
       "}\n",
       "\n",
       "/* Estimator-specific */\n",
       "#sk-container-id-1 div.sk-estimator {\n",
       "  font-family: monospace;\n",
       "  border: 1px dotted var(--sklearn-color-border-box);\n",
       "  border-radius: 0.25em;\n",
       "  box-sizing: border-box;\n",
       "  margin-bottom: 0.5em;\n",
       "  /* unfitted */\n",
       "  background-color: var(--sklearn-color-unfitted-level-0);\n",
       "}\n",
       "\n",
       "#sk-container-id-1 div.sk-estimator.fitted {\n",
       "  /* fitted */\n",
       "  background-color: var(--sklearn-color-fitted-level-0);\n",
       "}\n",
       "\n",
       "/* on hover */\n",
       "#sk-container-id-1 div.sk-estimator:hover {\n",
       "  /* unfitted */\n",
       "  background-color: var(--sklearn-color-unfitted-level-2);\n",
       "}\n",
       "\n",
       "#sk-container-id-1 div.sk-estimator.fitted:hover {\n",
       "  /* fitted */\n",
       "  background-color: var(--sklearn-color-fitted-level-2);\n",
       "}\n",
       "\n",
       "/* Specification for estimator info (e.g. \"i\" and \"?\") */\n",
       "\n",
       "/* Common style for \"i\" and \"?\" */\n",
       "\n",
       ".sk-estimator-doc-link,\n",
       "a:link.sk-estimator-doc-link,\n",
       "a:visited.sk-estimator-doc-link {\n",
       "  float: right;\n",
       "  font-size: smaller;\n",
       "  line-height: 1em;\n",
       "  font-family: monospace;\n",
       "  background-color: var(--sklearn-color-background);\n",
       "  border-radius: 1em;\n",
       "  height: 1em;\n",
       "  width: 1em;\n",
       "  text-decoration: none !important;\n",
       "  margin-left: 0.5em;\n",
       "  text-align: center;\n",
       "  /* unfitted */\n",
       "  border: var(--sklearn-color-unfitted-level-1) 1pt solid;\n",
       "  color: var(--sklearn-color-unfitted-level-1);\n",
       "}\n",
       "\n",
       ".sk-estimator-doc-link.fitted,\n",
       "a:link.sk-estimator-doc-link.fitted,\n",
       "a:visited.sk-estimator-doc-link.fitted {\n",
       "  /* fitted */\n",
       "  border: var(--sklearn-color-fitted-level-1) 1pt solid;\n",
       "  color: var(--sklearn-color-fitted-level-1);\n",
       "}\n",
       "\n",
       "/* On hover */\n",
       "div.sk-estimator:hover .sk-estimator-doc-link:hover,\n",
       ".sk-estimator-doc-link:hover,\n",
       "div.sk-label-container:hover .sk-estimator-doc-link:hover,\n",
       ".sk-estimator-doc-link:hover {\n",
       "  /* unfitted */\n",
       "  background-color: var(--sklearn-color-unfitted-level-3);\n",
       "  color: var(--sklearn-color-background);\n",
       "  text-decoration: none;\n",
       "}\n",
       "\n",
       "div.sk-estimator.fitted:hover .sk-estimator-doc-link.fitted:hover,\n",
       ".sk-estimator-doc-link.fitted:hover,\n",
       "div.sk-label-container:hover .sk-estimator-doc-link.fitted:hover,\n",
       ".sk-estimator-doc-link.fitted:hover {\n",
       "  /* fitted */\n",
       "  background-color: var(--sklearn-color-fitted-level-3);\n",
       "  color: var(--sklearn-color-background);\n",
       "  text-decoration: none;\n",
       "}\n",
       "\n",
       "/* Span, style for the box shown on hovering the info icon */\n",
       ".sk-estimator-doc-link span {\n",
       "  display: none;\n",
       "  z-index: 9999;\n",
       "  position: relative;\n",
       "  font-weight: normal;\n",
       "  right: .2ex;\n",
       "  padding: .5ex;\n",
       "  margin: .5ex;\n",
       "  width: min-content;\n",
       "  min-width: 20ex;\n",
       "  max-width: 50ex;\n",
       "  color: var(--sklearn-color-text);\n",
       "  box-shadow: 2pt 2pt 4pt #999;\n",
       "  /* unfitted */\n",
       "  background: var(--sklearn-color-unfitted-level-0);\n",
       "  border: .5pt solid var(--sklearn-color-unfitted-level-3);\n",
       "}\n",
       "\n",
       ".sk-estimator-doc-link.fitted span {\n",
       "  /* fitted */\n",
       "  background: var(--sklearn-color-fitted-level-0);\n",
       "  border: var(--sklearn-color-fitted-level-3);\n",
       "}\n",
       "\n",
       ".sk-estimator-doc-link:hover span {\n",
       "  display: block;\n",
       "}\n",
       "\n",
       "/* \"?\"-specific style due to the `<a>` HTML tag */\n",
       "\n",
       "#sk-container-id-1 a.estimator_doc_link {\n",
       "  float: right;\n",
       "  font-size: 1rem;\n",
       "  line-height: 1em;\n",
       "  font-family: monospace;\n",
       "  background-color: var(--sklearn-color-background);\n",
       "  border-radius: 1rem;\n",
       "  height: 1rem;\n",
       "  width: 1rem;\n",
       "  text-decoration: none;\n",
       "  /* unfitted */\n",
       "  color: var(--sklearn-color-unfitted-level-1);\n",
       "  border: var(--sklearn-color-unfitted-level-1) 1pt solid;\n",
       "}\n",
       "\n",
       "#sk-container-id-1 a.estimator_doc_link.fitted {\n",
       "  /* fitted */\n",
       "  border: var(--sklearn-color-fitted-level-1) 1pt solid;\n",
       "  color: var(--sklearn-color-fitted-level-1);\n",
       "}\n",
       "\n",
       "/* On hover */\n",
       "#sk-container-id-1 a.estimator_doc_link:hover {\n",
       "  /* unfitted */\n",
       "  background-color: var(--sklearn-color-unfitted-level-3);\n",
       "  color: var(--sklearn-color-background);\n",
       "  text-decoration: none;\n",
       "}\n",
       "\n",
       "#sk-container-id-1 a.estimator_doc_link.fitted:hover {\n",
       "  /* fitted */\n",
       "  background-color: var(--sklearn-color-fitted-level-3);\n",
       "}\n",
       "\n",
       ".estimator-table summary {\n",
       "    padding: .5rem;\n",
       "    font-family: monospace;\n",
       "    cursor: pointer;\n",
       "}\n",
       "\n",
       ".estimator-table details[open] {\n",
       "    padding-left: 0.1rem;\n",
       "    padding-right: 0.1rem;\n",
       "    padding-bottom: 0.3rem;\n",
       "}\n",
       "\n",
       ".estimator-table .parameters-table {\n",
       "    margin-left: auto !important;\n",
       "    margin-right: auto !important;\n",
       "}\n",
       "\n",
       ".estimator-table .parameters-table tr:nth-child(odd) {\n",
       "    background-color: #fff;\n",
       "}\n",
       "\n",
       ".estimator-table .parameters-table tr:nth-child(even) {\n",
       "    background-color: #f6f6f6;\n",
       "}\n",
       "\n",
       ".estimator-table .parameters-table tr:hover {\n",
       "    background-color: #e0e0e0;\n",
       "}\n",
       "\n",
       ".estimator-table table td {\n",
       "    border: 1px solid rgba(106, 105, 104, 0.232);\n",
       "}\n",
       "\n",
       ".user-set td {\n",
       "    color:rgb(255, 94, 0);\n",
       "    text-align: left;\n",
       "}\n",
       "\n",
       ".user-set td.value pre {\n",
       "    color:rgb(255, 94, 0) !important;\n",
       "    background-color: transparent !important;\n",
       "}\n",
       "\n",
       ".default td {\n",
       "    color: black;\n",
       "    text-align: left;\n",
       "}\n",
       "\n",
       ".user-set td i,\n",
       ".default td i {\n",
       "    color: black;\n",
       "}\n",
       "\n",
       ".copy-paste-icon {\n",
       "    background-image: url(data:image/svg+xml;base64,PHN2ZyB4bWxucz0iaHR0cDovL3d3dy53My5vcmcvMjAwMC9zdmciIHZpZXdCb3g9IjAgMCA0NDggNTEyIj48IS0tIUZvbnQgQXdlc29tZSBGcmVlIDYuNy4yIGJ5IEBmb250YXdlc29tZSAtIGh0dHBzOi8vZm9udGF3ZXNvbWUuY29tIExpY2Vuc2UgLSBodHRwczovL2ZvbnRhd2Vzb21lLmNvbS9saWNlbnNlL2ZyZWUgQ29weXJpZ2h0IDIwMjUgRm9udGljb25zLCBJbmMuLS0+PHBhdGggZD0iTTIwOCAwTDMzMi4xIDBjMTIuNyAwIDI0LjkgNS4xIDMzLjkgMTQuMWw2Ny45IDY3LjljOSA5IDE0LjEgMjEuMiAxNC4xIDMzLjlMNDQ4IDMzNmMwIDI2LjUtMjEuNSA0OC00OCA0OGwtMTkyIDBjLTI2LjUgMC00OC0yMS41LTQ4LTQ4bDAtMjg4YzAtMjYuNSAyMS41LTQ4IDQ4LTQ4ek00OCAxMjhsODAgMCAwIDY0LTY0IDAgMCAyNTYgMTkyIDAgMC0zMiA2NCAwIDAgNDhjMCAyNi41LTIxLjUgNDgtNDggNDhMNDggNTEyYy0yNi41IDAtNDgtMjEuNS00OC00OEwwIDE3NmMwLTI2LjUgMjEuNS00OCA0OC00OHoiLz48L3N2Zz4=);\n",
       "    background-repeat: no-repeat;\n",
       "    background-size: 14px 14px;\n",
       "    background-position: 0;\n",
       "    display: inline-block;\n",
       "    width: 14px;\n",
       "    height: 14px;\n",
       "    cursor: pointer;\n",
       "}\n",
       "</style><body><div id=\"sk-container-id-1\" class=\"sk-top-container\"><div class=\"sk-text-repr-fallback\"><pre>MinMaxScaler()</pre><b>In a Jupyter environment, please rerun this cell to show the HTML representation or trust the notebook. <br />On GitHub, the HTML representation is unable to render, please try loading this page with nbviewer.org.</b></div><div class=\"sk-container\" hidden><div class=\"sk-item\"><div class=\"sk-estimator fitted sk-toggleable\"><input class=\"sk-toggleable__control sk-hidden--visually\" id=\"sk-estimator-id-1\" type=\"checkbox\" checked><label for=\"sk-estimator-id-1\" class=\"sk-toggleable__label fitted sk-toggleable__label-arrow\"><div><div>MinMaxScaler</div></div><div><a class=\"sk-estimator-doc-link fitted\" rel=\"noreferrer\" target=\"_blank\" href=\"https://scikit-learn.org/1.7/modules/generated/sklearn.preprocessing.MinMaxScaler.html\">?<span>Documentation for MinMaxScaler</span></a><span class=\"sk-estimator-doc-link fitted\">i<span>Fitted</span></span></div></label><div class=\"sk-toggleable__content fitted\" data-param-prefix=\"\">\n",
       "        <div class=\"estimator-table\">\n",
       "            <details>\n",
       "                <summary>Parameters</summary>\n",
       "                <table class=\"parameters-table\">\n",
       "                  <tbody>\n",
       "                    \n",
       "        <tr class=\"default\">\n",
       "            <td><i class=\"copy-paste-icon\"\n",
       "                 onclick=\"copyToClipboard('feature_range',\n",
       "                          this.parentElement.nextElementSibling)\"\n",
       "            ></i></td>\n",
       "            <td class=\"param\">feature_range&nbsp;</td>\n",
       "            <td class=\"value\">(0, ...)</td>\n",
       "        </tr>\n",
       "    \n",
       "\n",
       "        <tr class=\"default\">\n",
       "            <td><i class=\"copy-paste-icon\"\n",
       "                 onclick=\"copyToClipboard('copy',\n",
       "                          this.parentElement.nextElementSibling)\"\n",
       "            ></i></td>\n",
       "            <td class=\"param\">copy&nbsp;</td>\n",
       "            <td class=\"value\">True</td>\n",
       "        </tr>\n",
       "    \n",
       "\n",
       "        <tr class=\"default\">\n",
       "            <td><i class=\"copy-paste-icon\"\n",
       "                 onclick=\"copyToClipboard('clip',\n",
       "                          this.parentElement.nextElementSibling)\"\n",
       "            ></i></td>\n",
       "            <td class=\"param\">clip&nbsp;</td>\n",
       "            <td class=\"value\">False</td>\n",
       "        </tr>\n",
       "    \n",
       "                  </tbody>\n",
       "                </table>\n",
       "            </details>\n",
       "        </div>\n",
       "    </div></div></div></div></div><script>function copyToClipboard(text, element) {\n",
       "    // Get the parameter prefix from the closest toggleable content\n",
       "    const toggleableContent = element.closest('.sk-toggleable__content');\n",
       "    const paramPrefix = toggleableContent ? toggleableContent.dataset.paramPrefix : '';\n",
       "    const fullParamName = paramPrefix ? `${paramPrefix}${text}` : text;\n",
       "\n",
       "    const originalStyle = element.style;\n",
       "    const computedStyle = window.getComputedStyle(element);\n",
       "    const originalWidth = computedStyle.width;\n",
       "    const originalHTML = element.innerHTML.replace('Copied!', '');\n",
       "\n",
       "    navigator.clipboard.writeText(fullParamName)\n",
       "        .then(() => {\n",
       "            element.style.width = originalWidth;\n",
       "            element.style.color = 'green';\n",
       "            element.innerHTML = \"Copied!\";\n",
       "\n",
       "            setTimeout(() => {\n",
       "                element.innerHTML = originalHTML;\n",
       "                element.style = originalStyle;\n",
       "            }, 2000);\n",
       "        })\n",
       "        .catch(err => {\n",
       "            console.error('Failed to copy:', err);\n",
       "            element.style.color = 'red';\n",
       "            element.innerHTML = \"Failed!\";\n",
       "            setTimeout(() => {\n",
       "                element.innerHTML = originalHTML;\n",
       "                element.style = originalStyle;\n",
       "            }, 2000);\n",
       "        });\n",
       "    return false;\n",
       "}\n",
       "\n",
       "document.querySelectorAll('.fa-regular.fa-copy').forEach(function(element) {\n",
       "    const toggleableContent = element.closest('.sk-toggleable__content');\n",
       "    const paramPrefix = toggleableContent ? toggleableContent.dataset.paramPrefix : '';\n",
       "    const paramName = element.parentElement.nextElementSibling.textContent.trim();\n",
       "    const fullParamName = paramPrefix ? `${paramPrefix}${paramName}` : paramName;\n",
       "\n",
       "    element.setAttribute('title', fullParamName);\n",
       "});\n",
       "</script></body>"
      ],
      "text/plain": [
       "MinMaxScaler()"
      ]
     },
     "execution_count": 58,
     "metadata": {},
     "output_type": "execute_result"
    }
   ],
   "source": [
    "scaler"
   ]
  },
  {
   "cell_type": "code",
   "execution_count": 59,
   "id": "2758961d",
   "metadata": {
    "pycharm": {
     "name": "#%%\n"
    }
   },
   "outputs": [
    {
     "data": {
      "text/plain": [
       "(70080, 14)"
      ]
     },
     "execution_count": 59,
     "metadata": {},
     "output_type": "execute_result"
    }
   ],
   "source": [
    "train_result.shape"
   ]
  },
  {
   "cell_type": "markdown",
   "id": "aed7a6a6",
   "metadata": {
    "pycharm": {
     "name": "#%% md\n"
    }
   },
   "source": [
    "生成训练数据"
   ]
  },
  {
   "cell_type": "code",
   "execution_count": 60,
   "id": "5a5be234",
   "metadata": {
    "pycharm": {
     "name": "#%%\n"
    }
   },
   "outputs": [],
   "source": [
    "#  将预测时刻的气象数据也作为输入，为了保证输入序列的特征数一致，将预测时刻输入的负荷设为1\n",
    "#  可以做个比较，有预测时刻的气象信息与没有预测时刻的气象信息。感觉有预测时刻的气象信息作为输入，模型预测准确性会受到天气预报准确性的影响。\n",
    "#  生成的样本起始时刻依次相差15分钟\n",
    "def create_inout_sequences(input_data, tw):\n",
    "    inout_seq = []\n",
    "    L = len(input_data)\n",
    "    for i in range(L-tw+1):\n",
    "        train_seq = copy.deepcopy(input_data[i:i+tw])\n",
    "        train_seq[96:tw, 0] = 1\n",
    "        train_label = input_data[i+96:i+tw, 0]\n",
    "        inout_seq.append((torch.tensor(train_seq) ,torch.tensor(train_label)))\n",
    "    return inout_seq"
   ]
  },
  {
   "cell_type": "code",
   "execution_count": 61,
   "id": "5f0521a5",
   "metadata": {
    "pycharm": {
     "name": "#%%\n"
    }
   },
   "outputs": [],
   "source": [
    "train_inout_seq = create_inout_sequences(train_result, 192)"
   ]
  },
  {
   "cell_type": "code",
   "execution_count": 62,
   "id": "6c11e64a",
   "metadata": {
    "pycharm": {
     "name": "#%%\n"
    }
   },
   "outputs": [
    {
     "data": {
      "text/plain": [
       "69889"
      ]
     },
     "execution_count": 62,
     "metadata": {},
     "output_type": "execute_result"
    }
   ],
   "source": [
    "len(train_inout_seq)"
   ]
  },
  {
   "cell_type": "markdown",
   "id": "578e333e",
   "metadata": {
    "pycharm": {
     "name": "#%% md\n"
    }
   },
   "source": [
    "训练样本的数量为69889，每个训练样本包括特征和标签，其中特征为前96个时刻和后96个时刻的气象数据和负荷值（后96个时刻的负荷值用1代替，只是占个位置，保证输入序列的特征数一致，没有实际含义），标签为后96个时刻的负荷值。"
   ]
  },
  {
   "cell_type": "markdown",
   "id": "65529538",
   "metadata": {
    "pycharm": {
     "name": "#%% md\n"
    }
   },
   "source": [
    "使用前24小时和未来24小时的数据预测未来24小时的负荷"
   ]
  },
  {
   "cell_type": "markdown",
   "id": "239a7fee",
   "metadata": {
    "pycharm": {
     "name": "#%% md\n"
    }
   },
   "source": [
    "设置批量大小为96"
   ]
  },
  {
   "cell_type": "code",
   "execution_count": 63,
   "id": "4e2bac91",
   "metadata": {
    "pycharm": {
     "name": "#%%\n"
    }
   },
   "outputs": [],
   "source": [
    "trainloader = torch.utils.data.DataLoader(train_inout_seq, batch_size=96, shuffle=True)"
   ]
  },
  {
   "cell_type": "code",
   "execution_count": 64,
   "id": "cab7339b",
   "metadata": {
    "pycharm": {
     "name": "#%%\n"
    }
   },
   "outputs": [
    {
     "data": {
      "text/plain": [
       "729"
      ]
     },
     "execution_count": 64,
     "metadata": {},
     "output_type": "execute_result"
    }
   ],
   "source": [
    "len(trainloader)"
   ]
  },
  {
   "cell_type": "code",
   "execution_count": 65,
   "id": "9513c86f",
   "metadata": {
    "pycharm": {
     "name": "#%%\n"
    }
   },
   "outputs": [
    {
     "name": "stdout",
     "output_type": "stream",
     "text": [
      "torch.Size([96, 192, 14])\n",
      "torch.Size([96, 96])\n",
      "torch.Size([96, 192, 14])\n",
      "torch.Size([96, 96])\n",
      "torch.Size([96, 192, 14])\n",
      "torch.Size([96, 96])\n",
      "torch.Size([96, 192, 14])\n",
      "torch.Size([96, 96])\n",
      "torch.Size([96, 192, 14])\n",
      "torch.Size([96, 96])\n",
      "torch.Size([96, 192, 14])\n",
      "torch.Size([96, 96])\n",
      "torch.Size([96, 192, 14])\n",
      "torch.Size([96, 96])\n",
      "torch.Size([96, 192, 14])\n",
      "torch.Size([96, 96])\n",
      "torch.Size([96, 192, 14])\n",
      "torch.Size([96, 96])\n",
      "torch.Size([96, 192, 14])\n",
      "torch.Size([96, 96])\n",
      "torch.Size([96, 192, 14])\n",
      "torch.Size([96, 96])\n",
      "torch.Size([96, 192, 14])\n",
      "torch.Size([96, 96])\n",
      "torch.Size([96, 192, 14])\n",
      "torch.Size([96, 96])\n",
      "torch.Size([96, 192, 14])\n",
      "torch.Size([96, 96])\n",
      "torch.Size([96, 192, 14])\n",
      "torch.Size([96, 96])\n",
      "torch.Size([96, 192, 14])\n",
      "torch.Size([96, 96])\n",
      "torch.Size([96, 192, 14])\n",
      "torch.Size([96, 96])\n",
      "torch.Size([96, 192, 14])\n",
      "torch.Size([96, 96])\n",
      "torch.Size([96, 192, 14])\n",
      "torch.Size([96, 96])\n",
      "torch.Size([96, 192, 14])\n",
      "torch.Size([96, 96])\n",
      "torch.Size([96, 192, 14])\n",
      "torch.Size([96, 96])\n",
      "torch.Size([96, 192, 14])\n",
      "torch.Size([96, 96])\n",
      "torch.Size([96, 192, 14])\n",
      "torch.Size([96, 96])\n",
      "torch.Size([96, 192, 14])\n",
      "torch.Size([96, 96])\n",
      "torch.Size([96, 192, 14])\n",
      "torch.Size([96, 96])\n",
      "torch.Size([96, 192, 14])\n",
      "torch.Size([96, 96])\n",
      "torch.Size([96, 192, 14])\n",
      "torch.Size([96, 96])\n",
      "torch.Size([96, 192, 14])\n",
      "torch.Size([96, 96])\n",
      "torch.Size([96, 192, 14])\n",
      "torch.Size([96, 96])\n",
      "torch.Size([96, 192, 14])\n",
      "torch.Size([96, 96])\n",
      "torch.Size([96, 192, 14])\n",
      "torch.Size([96, 96])\n",
      "torch.Size([96, 192, 14])\n",
      "torch.Size([96, 96])\n",
      "torch.Size([96, 192, 14])\n",
      "torch.Size([96, 96])\n",
      "torch.Size([96, 192, 14])\n",
      "torch.Size([96, 96])\n",
      "torch.Size([96, 192, 14])\n",
      "torch.Size([96, 96])\n",
      "torch.Size([96, 192, 14])\n",
      "torch.Size([96, 96])\n",
      "torch.Size([96, 192, 14])\n",
      "torch.Size([96, 96])\n",
      "torch.Size([96, 192, 14])\n",
      "torch.Size([96, 96])\n",
      "torch.Size([96, 192, 14])\n",
      "torch.Size([96, 96])\n",
      "torch.Size([96, 192, 14])\n",
      "torch.Size([96, 96])\n",
      "torch.Size([96, 192, 14])\n",
      "torch.Size([96, 96])\n",
      "torch.Size([96, 192, 14])\n",
      "torch.Size([96, 96])\n",
      "torch.Size([96, 192, 14])\n",
      "torch.Size([96, 96])\n",
      "torch.Size([96, 192, 14])\n",
      "torch.Size([96, 96])\n",
      "torch.Size([96, 192, 14])\n",
      "torch.Size([96, 96])\n",
      "torch.Size([96, 192, 14])\n",
      "torch.Size([96, 96])\n",
      "torch.Size([96, 192, 14])\n",
      "torch.Size([96, 96])\n",
      "torch.Size([96, 192, 14])\n",
      "torch.Size([96, 96])\n",
      "torch.Size([96, 192, 14])\n",
      "torch.Size([96, 96])\n",
      "torch.Size([96, 192, 14])\n",
      "torch.Size([96, 96])\n",
      "torch.Size([96, 192, 14])\n",
      "torch.Size([96, 96])\n",
      "torch.Size([96, 192, 14])\n",
      "torch.Size([96, 96])\n",
      "torch.Size([96, 192, 14])\n",
      "torch.Size([96, 96])\n",
      "torch.Size([96, 192, 14])\n",
      "torch.Size([96, 96])\n",
      "torch.Size([96, 192, 14])\n",
      "torch.Size([96, 96])\n",
      "torch.Size([96, 192, 14])\n",
      "torch.Size([96, 96])\n",
      "torch.Size([96, 192, 14])\n",
      "torch.Size([96, 96])\n",
      "torch.Size([96, 192, 14])\n",
      "torch.Size([96, 96])\n",
      "torch.Size([96, 192, 14])\n",
      "torch.Size([96, 96])\n",
      "torch.Size([96, 192, 14])\n",
      "torch.Size([96, 96])\n",
      "torch.Size([96, 192, 14])\n",
      "torch.Size([96, 96])\n",
      "torch.Size([96, 192, 14])\n",
      "torch.Size([96, 96])\n",
      "torch.Size([96, 192, 14])\n",
      "torch.Size([96, 96])\n",
      "torch.Size([96, 192, 14])\n",
      "torch.Size([96, 96])\n",
      "torch.Size([96, 192, 14])\n",
      "torch.Size([96, 96])\n",
      "torch.Size([96, 192, 14])\n",
      "torch.Size([96, 96])\n",
      "torch.Size([96, 192, 14])\n",
      "torch.Size([96, 96])\n",
      "torch.Size([96, 192, 14])\n",
      "torch.Size([96, 96])\n",
      "torch.Size([96, 192, 14])\n",
      "torch.Size([96, 96])\n",
      "torch.Size([96, 192, 14])\n",
      "torch.Size([96, 96])\n",
      "torch.Size([96, 192, 14])\n",
      "torch.Size([96, 96])\n",
      "torch.Size([96, 192, 14])\n",
      "torch.Size([96, 96])\n",
      "torch.Size([96, 192, 14])\n",
      "torch.Size([96, 96])\n",
      "torch.Size([96, 192, 14])\n",
      "torch.Size([96, 96])\n",
      "torch.Size([96, 192, 14])\n",
      "torch.Size([96, 96])\n",
      "torch.Size([96, 192, 14])\n",
      "torch.Size([96, 96])\n",
      "torch.Size([96, 192, 14])\n",
      "torch.Size([96, 96])\n",
      "torch.Size([96, 192, 14])\n",
      "torch.Size([96, 96])\n",
      "torch.Size([96, 192, 14])\n",
      "torch.Size([96, 96])\n",
      "torch.Size([96, 192, 14])\n",
      "torch.Size([96, 96])\n",
      "torch.Size([96, 192, 14])\n",
      "torch.Size([96, 96])\n",
      "torch.Size([96, 192, 14])\n",
      "torch.Size([96, 96])\n",
      "torch.Size([96, 192, 14])\n",
      "torch.Size([96, 96])\n",
      "torch.Size([96, 192, 14])\n",
      "torch.Size([96, 96])\n",
      "torch.Size([96, 192, 14])\n",
      "torch.Size([96, 96])\n",
      "torch.Size([96, 192, 14])\n",
      "torch.Size([96, 96])\n",
      "torch.Size([96, 192, 14])\n",
      "torch.Size([96, 96])\n",
      "torch.Size([96, 192, 14])\n",
      "torch.Size([96, 96])\n",
      "torch.Size([96, 192, 14])\n",
      "torch.Size([96, 96])\n",
      "torch.Size([96, 192, 14])\n",
      "torch.Size([96, 96])\n",
      "torch.Size([96, 192, 14])\n",
      "torch.Size([96, 96])\n",
      "torch.Size([96, 192, 14])\n",
      "torch.Size([96, 96])\n",
      "torch.Size([96, 192, 14])\n",
      "torch.Size([96, 96])\n",
      "torch.Size([96, 192, 14])\n",
      "torch.Size([96, 96])\n",
      "torch.Size([96, 192, 14])\n",
      "torch.Size([96, 96])\n",
      "torch.Size([96, 192, 14])\n",
      "torch.Size([96, 96])\n",
      "torch.Size([96, 192, 14])\n",
      "torch.Size([96, 96])\n",
      "torch.Size([96, 192, 14])\n",
      "torch.Size([96, 96])\n",
      "torch.Size([96, 192, 14])\n",
      "torch.Size([96, 96])\n",
      "torch.Size([96, 192, 14])\n",
      "torch.Size([96, 96])\n",
      "torch.Size([96, 192, 14])\n",
      "torch.Size([96, 96])\n",
      "torch.Size([96, 192, 14])\n",
      "torch.Size([96, 96])\n",
      "torch.Size([96, 192, 14])\n",
      "torch.Size([96, 96])\n",
      "torch.Size([96, 192, 14])\n",
      "torch.Size([96, 96])\n",
      "torch.Size([96, 192, 14])\n",
      "torch.Size([96, 96])\n",
      "torch.Size([96, 192, 14])\n",
      "torch.Size([96, 96])\n",
      "torch.Size([96, 192, 14])\n",
      "torch.Size([96, 96])\n",
      "torch.Size([96, 192, 14])\n",
      "torch.Size([96, 96])\n",
      "torch.Size([96, 192, 14])\n",
      "torch.Size([96, 96])\n",
      "torch.Size([96, 192, 14])\n",
      "torch.Size([96, 96])\n",
      "torch.Size([96, 192, 14])\n",
      "torch.Size([96, 96])\n",
      "torch.Size([96, 192, 14])\n",
      "torch.Size([96, 96])\n",
      "torch.Size([96, 192, 14])\n",
      "torch.Size([96, 96])\n",
      "torch.Size([96, 192, 14])\n",
      "torch.Size([96, 96])\n",
      "torch.Size([96, 192, 14])\n",
      "torch.Size([96, 96])\n",
      "torch.Size([96, 192, 14])\n",
      "torch.Size([96, 96])\n",
      "torch.Size([96, 192, 14])\n",
      "torch.Size([96, 96])\n",
      "torch.Size([96, 192, 14])\n",
      "torch.Size([96, 96])\n",
      "torch.Size([96, 192, 14])\n",
      "torch.Size([96, 96])\n",
      "torch.Size([96, 192, 14])\n",
      "torch.Size([96, 96])\n",
      "torch.Size([96, 192, 14])\n",
      "torch.Size([96, 96])\n",
      "torch.Size([96, 192, 14])\n",
      "torch.Size([96, 96])\n",
      "torch.Size([96, 192, 14])\n",
      "torch.Size([96, 96])\n",
      "torch.Size([96, 192, 14])\n",
      "torch.Size([96, 96])\n",
      "torch.Size([96, 192, 14])\n",
      "torch.Size([96, 96])\n",
      "torch.Size([96, 192, 14])\n",
      "torch.Size([96, 96])\n",
      "torch.Size([96, 192, 14])\n",
      "torch.Size([96, 96])\n",
      "torch.Size([96, 192, 14])\n",
      "torch.Size([96, 96])\n",
      "torch.Size([96, 192, 14])\n",
      "torch.Size([96, 96])\n",
      "torch.Size([96, 192, 14])\n",
      "torch.Size([96, 96])\n",
      "torch.Size([96, 192, 14])\n",
      "torch.Size([96, 96])\n",
      "torch.Size([96, 192, 14])\n",
      "torch.Size([96, 96])\n",
      "torch.Size([96, 192, 14])\n",
      "torch.Size([96, 96])\n",
      "torch.Size([96, 192, 14])\n",
      "torch.Size([96, 96])\n",
      "torch.Size([96, 192, 14])\n",
      "torch.Size([96, 96])\n",
      "torch.Size([96, 192, 14])\n",
      "torch.Size([96, 96])\n",
      "torch.Size([96, 192, 14])\n",
      "torch.Size([96, 96])\n",
      "torch.Size([96, 192, 14])\n",
      "torch.Size([96, 96])\n",
      "torch.Size([96, 192, 14])\n",
      "torch.Size([96, 96])\n",
      "torch.Size([96, 192, 14])\n",
      "torch.Size([96, 96])\n",
      "torch.Size([96, 192, 14])\n",
      "torch.Size([96, 96])\n",
      "torch.Size([96, 192, 14])\n",
      "torch.Size([96, 96])\n",
      "torch.Size([96, 192, 14])\n",
      "torch.Size([96, 96])\n",
      "torch.Size([96, 192, 14])\n",
      "torch.Size([96, 96])\n",
      "torch.Size([96, 192, 14])\n",
      "torch.Size([96, 96])\n",
      "torch.Size([96, 192, 14])\n",
      "torch.Size([96, 96])\n",
      "torch.Size([96, 192, 14])\n",
      "torch.Size([96, 96])\n",
      "torch.Size([96, 192, 14])\n",
      "torch.Size([96, 96])\n",
      "torch.Size([96, 192, 14])\n",
      "torch.Size([96, 96])\n",
      "torch.Size([96, 192, 14])\n",
      "torch.Size([96, 96])\n",
      "torch.Size([96, 192, 14])\n",
      "torch.Size([96, 96])\n",
      "torch.Size([96, 192, 14])\n",
      "torch.Size([96, 96])\n",
      "torch.Size([96, 192, 14])\n",
      "torch.Size([96, 96])\n",
      "torch.Size([96, 192, 14])\n",
      "torch.Size([96, 96])\n",
      "torch.Size([96, 192, 14])\n",
      "torch.Size([96, 96])\n",
      "torch.Size([96, 192, 14])\n",
      "torch.Size([96, 96])\n",
      "torch.Size([96, 192, 14])\n",
      "torch.Size([96, 96])\n",
      "torch.Size([96, 192, 14])\n",
      "torch.Size([96, 96])\n",
      "torch.Size([96, 192, 14])\n",
      "torch.Size([96, 96])\n",
      "torch.Size([96, 192, 14])\n",
      "torch.Size([96, 96])\n",
      "torch.Size([96, 192, 14])\n",
      "torch.Size([96, 96])\n",
      "torch.Size([96, 192, 14])\n",
      "torch.Size([96, 96])\n",
      "torch.Size([96, 192, 14])\n",
      "torch.Size([96, 96])\n",
      "torch.Size([96, 192, 14])\n",
      "torch.Size([96, 96])\n",
      "torch.Size([96, 192, 14])\n",
      "torch.Size([96, 96])\n",
      "torch.Size([96, 192, 14])\n",
      "torch.Size([96, 96])\n",
      "torch.Size([96, 192, 14])\n",
      "torch.Size([96, 96])\n",
      "torch.Size([96, 192, 14])\n",
      "torch.Size([96, 96])\n",
      "torch.Size([96, 192, 14])\n",
      "torch.Size([96, 96])\n",
      "torch.Size([96, 192, 14])\n",
      "torch.Size([96, 96])\n",
      "torch.Size([96, 192, 14])\n",
      "torch.Size([96, 96])\n",
      "torch.Size([96, 192, 14])\n",
      "torch.Size([96, 96])\n",
      "torch.Size([96, 192, 14])\n",
      "torch.Size([96, 96])\n",
      "torch.Size([96, 192, 14])\n",
      "torch.Size([96, 96])\n",
      "torch.Size([96, 192, 14])\n",
      "torch.Size([96, 96])\n",
      "torch.Size([96, 192, 14])\n",
      "torch.Size([96, 96])\n",
      "torch.Size([96, 192, 14])\n",
      "torch.Size([96, 96])\n",
      "torch.Size([96, 192, 14])\n",
      "torch.Size([96, 96])\n",
      "torch.Size([96, 192, 14])\n",
      "torch.Size([96, 96])\n",
      "torch.Size([96, 192, 14])\n",
      "torch.Size([96, 96])\n",
      "torch.Size([96, 192, 14])\n",
      "torch.Size([96, 96])\n",
      "torch.Size([96, 192, 14])\n",
      "torch.Size([96, 96])\n",
      "torch.Size([96, 192, 14])\n",
      "torch.Size([96, 96])\n",
      "torch.Size([96, 192, 14])\n",
      "torch.Size([96, 96])\n",
      "torch.Size([96, 192, 14])\n",
      "torch.Size([96, 96])\n",
      "torch.Size([96, 192, 14])\n",
      "torch.Size([96, 96])\n",
      "torch.Size([96, 192, 14])\n",
      "torch.Size([96, 96])\n",
      "torch.Size([96, 192, 14])\n",
      "torch.Size([96, 96])\n",
      "torch.Size([96, 192, 14])\n",
      "torch.Size([96, 96])\n",
      "torch.Size([96, 192, 14])\n",
      "torch.Size([96, 96])\n",
      "torch.Size([96, 192, 14])\n",
      "torch.Size([96, 96])\n",
      "torch.Size([96, 192, 14])\n",
      "torch.Size([96, 96])\n",
      "torch.Size([96, 192, 14])\n",
      "torch.Size([96, 96])\n",
      "torch.Size([96, 192, 14])\n",
      "torch.Size([96, 96])\n",
      "torch.Size([96, 192, 14])\n",
      "torch.Size([96, 96])\n",
      "torch.Size([96, 192, 14])\n",
      "torch.Size([96, 96])\n",
      "torch.Size([96, 192, 14])\n",
      "torch.Size([96, 96])\n",
      "torch.Size([96, 192, 14])\n",
      "torch.Size([96, 96])\n",
      "torch.Size([96, 192, 14])\n",
      "torch.Size([96, 96])\n",
      "torch.Size([96, 192, 14])\n",
      "torch.Size([96, 96])\n",
      "torch.Size([96, 192, 14])\n",
      "torch.Size([96, 96])\n",
      "torch.Size([96, 192, 14])\n",
      "torch.Size([96, 96])\n",
      "torch.Size([96, 192, 14])\n",
      "torch.Size([96, 96])\n",
      "torch.Size([96, 192, 14])\n",
      "torch.Size([96, 96])\n",
      "torch.Size([96, 192, 14])\n",
      "torch.Size([96, 96])\n",
      "torch.Size([96, 192, 14])\n",
      "torch.Size([96, 96])\n",
      "torch.Size([96, 192, 14])\n",
      "torch.Size([96, 96])\n",
      "torch.Size([96, 192, 14])\n",
      "torch.Size([96, 96])\n",
      "torch.Size([96, 192, 14])\n",
      "torch.Size([96, 96])\n",
      "torch.Size([96, 192, 14])\n",
      "torch.Size([96, 96])\n",
      "torch.Size([96, 192, 14])\n",
      "torch.Size([96, 96])\n",
      "torch.Size([96, 192, 14])\n",
      "torch.Size([96, 96])\n",
      "torch.Size([96, 192, 14])\n",
      "torch.Size([96, 96])\n",
      "torch.Size([96, 192, 14])\n",
      "torch.Size([96, 96])\n",
      "torch.Size([96, 192, 14])\n",
      "torch.Size([96, 96])\n",
      "torch.Size([96, 192, 14])\n",
      "torch.Size([96, 96])\n",
      "torch.Size([96, 192, 14])\n",
      "torch.Size([96, 96])\n",
      "torch.Size([96, 192, 14])\n",
      "torch.Size([96, 96])\n",
      "torch.Size([96, 192, 14])\n",
      "torch.Size([96, 96])\n",
      "torch.Size([96, 192, 14])\n",
      "torch.Size([96, 96])\n",
      "torch.Size([96, 192, 14])\n",
      "torch.Size([96, 96])\n",
      "torch.Size([96, 192, 14])\n",
      "torch.Size([96, 96])\n",
      "torch.Size([96, 192, 14])\n",
      "torch.Size([96, 96])\n",
      "torch.Size([96, 192, 14])\n",
      "torch.Size([96, 96])\n",
      "torch.Size([96, 192, 14])\n",
      "torch.Size([96, 96])\n",
      "torch.Size([96, 192, 14])\n",
      "torch.Size([96, 96])\n",
      "torch.Size([96, 192, 14])\n",
      "torch.Size([96, 96])\n",
      "torch.Size([96, 192, 14])\n",
      "torch.Size([96, 96])\n",
      "torch.Size([96, 192, 14])\n",
      "torch.Size([96, 96])\n",
      "torch.Size([96, 192, 14])\n",
      "torch.Size([96, 96])\n",
      "torch.Size([96, 192, 14])\n",
      "torch.Size([96, 96])\n",
      "torch.Size([96, 192, 14])\n",
      "torch.Size([96, 96])\n",
      "torch.Size([96, 192, 14])\n",
      "torch.Size([96, 96])\n",
      "torch.Size([96, 192, 14])\n",
      "torch.Size([96, 96])\n",
      "torch.Size([96, 192, 14])\n",
      "torch.Size([96, 96])\n",
      "torch.Size([96, 192, 14])\n",
      "torch.Size([96, 96])\n",
      "torch.Size([96, 192, 14])\n",
      "torch.Size([96, 96])\n",
      "torch.Size([96, 192, 14])\n",
      "torch.Size([96, 96])\n",
      "torch.Size([96, 192, 14])\n",
      "torch.Size([96, 96])\n",
      "torch.Size([96, 192, 14])\n",
      "torch.Size([96, 96])\n",
      "torch.Size([96, 192, 14])\n",
      "torch.Size([96, 96])\n",
      "torch.Size([96, 192, 14])\n",
      "torch.Size([96, 96])\n",
      "torch.Size([96, 192, 14])\n",
      "torch.Size([96, 96])\n",
      "torch.Size([96, 192, 14])\n",
      "torch.Size([96, 96])\n",
      "torch.Size([96, 192, 14])\n",
      "torch.Size([96, 96])\n",
      "torch.Size([96, 192, 14])\n",
      "torch.Size([96, 96])\n",
      "torch.Size([96, 192, 14])\n",
      "torch.Size([96, 96])\n",
      "torch.Size([96, 192, 14])\n",
      "torch.Size([96, 96])\n",
      "torch.Size([96, 192, 14])\n",
      "torch.Size([96, 96])\n",
      "torch.Size([96, 192, 14])\n",
      "torch.Size([96, 96])\n",
      "torch.Size([96, 192, 14])\n",
      "torch.Size([96, 96])\n",
      "torch.Size([96, 192, 14])\n",
      "torch.Size([96, 96])\n",
      "torch.Size([96, 192, 14])\n",
      "torch.Size([96, 96])\n",
      "torch.Size([96, 192, 14])\n",
      "torch.Size([96, 96])\n",
      "torch.Size([96, 192, 14])\n",
      "torch.Size([96, 96])\n",
      "torch.Size([96, 192, 14])\n",
      "torch.Size([96, 96])\n",
      "torch.Size([96, 192, 14])\n",
      "torch.Size([96, 96])\n",
      "torch.Size([96, 192, 14])\n",
      "torch.Size([96, 96])\n",
      "torch.Size([96, 192, 14])\n",
      "torch.Size([96, 96])\n",
      "torch.Size([96, 192, 14])\n",
      "torch.Size([96, 96])\n",
      "torch.Size([96, 192, 14])\n",
      "torch.Size([96, 96])\n",
      "torch.Size([96, 192, 14])\n",
      "torch.Size([96, 96])\n",
      "torch.Size([96, 192, 14])\n",
      "torch.Size([96, 96])\n",
      "torch.Size([96, 192, 14])\n",
      "torch.Size([96, 96])\n",
      "torch.Size([96, 192, 14])\n",
      "torch.Size([96, 96])\n",
      "torch.Size([96, 192, 14])\n",
      "torch.Size([96, 96])\n",
      "torch.Size([96, 192, 14])\n",
      "torch.Size([96, 96])\n",
      "torch.Size([96, 192, 14])\n",
      "torch.Size([96, 96])\n",
      "torch.Size([96, 192, 14])\n",
      "torch.Size([96, 96])\n",
      "torch.Size([96, 192, 14])\n",
      "torch.Size([96, 96])\n",
      "torch.Size([96, 192, 14])\n",
      "torch.Size([96, 96])\n",
      "torch.Size([96, 192, 14])\n",
      "torch.Size([96, 96])\n",
      "torch.Size([96, 192, 14])\n",
      "torch.Size([96, 96])\n",
      "torch.Size([96, 192, 14])\n",
      "torch.Size([96, 96])\n",
      "torch.Size([96, 192, 14])\n",
      "torch.Size([96, 96])\n",
      "torch.Size([96, 192, 14])\n",
      "torch.Size([96, 96])\n",
      "torch.Size([96, 192, 14])\n",
      "torch.Size([96, 96])\n",
      "torch.Size([96, 192, 14])\n",
      "torch.Size([96, 96])\n",
      "torch.Size([96, 192, 14])\n",
      "torch.Size([96, 96])\n",
      "torch.Size([96, 192, 14])\n",
      "torch.Size([96, 96])\n",
      "torch.Size([96, 192, 14])\n",
      "torch.Size([96, 96])\n",
      "torch.Size([96, 192, 14])\n",
      "torch.Size([96, 96])\n",
      "torch.Size([96, 192, 14])\n",
      "torch.Size([96, 96])\n",
      "torch.Size([96, 192, 14])\n",
      "torch.Size([96, 96])\n",
      "torch.Size([96, 192, 14])\n",
      "torch.Size([96, 96])\n",
      "torch.Size([96, 192, 14])\n",
      "torch.Size([96, 96])\n",
      "torch.Size([96, 192, 14])\n",
      "torch.Size([96, 96])\n",
      "torch.Size([96, 192, 14])\n",
      "torch.Size([96, 96])\n",
      "torch.Size([96, 192, 14])\n",
      "torch.Size([96, 96])\n",
      "torch.Size([96, 192, 14])\n",
      "torch.Size([96, 96])\n",
      "torch.Size([96, 192, 14])\n",
      "torch.Size([96, 96])\n",
      "torch.Size([96, 192, 14])\n",
      "torch.Size([96, 96])\n",
      "torch.Size([96, 192, 14])\n",
      "torch.Size([96, 96])\n",
      "torch.Size([96, 192, 14])\n",
      "torch.Size([96, 96])\n",
      "torch.Size([96, 192, 14])\n",
      "torch.Size([96, 96])\n",
      "torch.Size([96, 192, 14])\n",
      "torch.Size([96, 96])\n",
      "torch.Size([96, 192, 14])\n",
      "torch.Size([96, 96])\n",
      "torch.Size([96, 192, 14])\n",
      "torch.Size([96, 96])\n",
      "torch.Size([96, 192, 14])\n",
      "torch.Size([96, 96])\n",
      "torch.Size([96, 192, 14])\n",
      "torch.Size([96, 96])\n",
      "torch.Size([96, 192, 14])\n",
      "torch.Size([96, 96])\n",
      "torch.Size([96, 192, 14])\n",
      "torch.Size([96, 96])\n",
      "torch.Size([96, 192, 14])\n",
      "torch.Size([96, 96])\n",
      "torch.Size([96, 192, 14])\n",
      "torch.Size([96, 96])\n",
      "torch.Size([96, 192, 14])\n",
      "torch.Size([96, 96])\n",
      "torch.Size([96, 192, 14])\n",
      "torch.Size([96, 96])\n",
      "torch.Size([96, 192, 14])\n",
      "torch.Size([96, 96])\n",
      "torch.Size([96, 192, 14])\n",
      "torch.Size([96, 96])\n",
      "torch.Size([96, 192, 14])\n",
      "torch.Size([96, 96])\n",
      "torch.Size([96, 192, 14])\n",
      "torch.Size([96, 96])\n",
      "torch.Size([96, 192, 14])\n",
      "torch.Size([96, 96])\n",
      "torch.Size([96, 192, 14])\n",
      "torch.Size([96, 96])\n",
      "torch.Size([96, 192, 14])\n",
      "torch.Size([96, 96])\n",
      "torch.Size([96, 192, 14])\n",
      "torch.Size([96, 96])\n",
      "torch.Size([96, 192, 14])\n",
      "torch.Size([96, 96])\n",
      "torch.Size([96, 192, 14])\n",
      "torch.Size([96, 96])\n",
      "torch.Size([96, 192, 14])\n",
      "torch.Size([96, 96])\n",
      "torch.Size([96, 192, 14])\n",
      "torch.Size([96, 96])\n",
      "torch.Size([96, 192, 14])\n",
      "torch.Size([96, 96])\n",
      "torch.Size([96, 192, 14])\n",
      "torch.Size([96, 96])\n",
      "torch.Size([96, 192, 14])\n",
      "torch.Size([96, 96])\n",
      "torch.Size([96, 192, 14])\n",
      "torch.Size([96, 96])\n",
      "torch.Size([96, 192, 14])\n",
      "torch.Size([96, 96])\n",
      "torch.Size([96, 192, 14])\n",
      "torch.Size([96, 96])\n",
      "torch.Size([96, 192, 14])\n",
      "torch.Size([96, 96])\n",
      "torch.Size([96, 192, 14])\n",
      "torch.Size([96, 96])\n",
      "torch.Size([96, 192, 14])\n",
      "torch.Size([96, 96])\n",
      "torch.Size([96, 192, 14])\n",
      "torch.Size([96, 96])\n",
      "torch.Size([96, 192, 14])\n",
      "torch.Size([96, 96])\n",
      "torch.Size([96, 192, 14])\n",
      "torch.Size([96, 96])\n",
      "torch.Size([96, 192, 14])\n",
      "torch.Size([96, 96])\n",
      "torch.Size([96, 192, 14])\n",
      "torch.Size([96, 96])\n",
      "torch.Size([96, 192, 14])\n",
      "torch.Size([96, 96])\n",
      "torch.Size([96, 192, 14])\n",
      "torch.Size([96, 96])\n",
      "torch.Size([96, 192, 14])\n",
      "torch.Size([96, 96])\n",
      "torch.Size([96, 192, 14])\n",
      "torch.Size([96, 96])\n",
      "torch.Size([96, 192, 14])\n",
      "torch.Size([96, 96])\n",
      "torch.Size([96, 192, 14])\n",
      "torch.Size([96, 96])\n",
      "torch.Size([96, 192, 14])\n",
      "torch.Size([96, 96])\n",
      "torch.Size([96, 192, 14])\n",
      "torch.Size([96, 96])\n",
      "torch.Size([96, 192, 14])\n",
      "torch.Size([96, 96])\n",
      "torch.Size([96, 192, 14])\n",
      "torch.Size([96, 96])\n",
      "torch.Size([96, 192, 14])\n",
      "torch.Size([96, 96])\n",
      "torch.Size([96, 192, 14])\n",
      "torch.Size([96, 96])\n",
      "torch.Size([96, 192, 14])\n",
      "torch.Size([96, 96])\n",
      "torch.Size([96, 192, 14])\n",
      "torch.Size([96, 96])\n",
      "torch.Size([96, 192, 14])\n",
      "torch.Size([96, 96])\n",
      "torch.Size([96, 192, 14])\n",
      "torch.Size([96, 96])\n",
      "torch.Size([96, 192, 14])\n",
      "torch.Size([96, 96])\n",
      "torch.Size([96, 192, 14])\n",
      "torch.Size([96, 96])\n",
      "torch.Size([96, 192, 14])\n",
      "torch.Size([96, 96])\n",
      "torch.Size([96, 192, 14])\n",
      "torch.Size([96, 96])\n",
      "torch.Size([96, 192, 14])\n",
      "torch.Size([96, 96])\n",
      "torch.Size([96, 192, 14])\n",
      "torch.Size([96, 96])\n",
      "torch.Size([96, 192, 14])\n",
      "torch.Size([96, 96])\n",
      "torch.Size([96, 192, 14])\n",
      "torch.Size([96, 96])\n",
      "torch.Size([96, 192, 14])\n",
      "torch.Size([96, 96])\n",
      "torch.Size([96, 192, 14])\n",
      "torch.Size([96, 96])\n",
      "torch.Size([96, 192, 14])\n",
      "torch.Size([96, 96])\n",
      "torch.Size([96, 192, 14])\n",
      "torch.Size([96, 96])\n",
      "torch.Size([96, 192, 14])\n",
      "torch.Size([96, 96])\n",
      "torch.Size([96, 192, 14])\n",
      "torch.Size([96, 96])\n",
      "torch.Size([96, 192, 14])\n",
      "torch.Size([96, 96])\n",
      "torch.Size([96, 192, 14])\n",
      "torch.Size([96, 96])\n",
      "torch.Size([96, 192, 14])\n",
      "torch.Size([96, 96])\n",
      "torch.Size([96, 192, 14])\n",
      "torch.Size([96, 96])\n",
      "torch.Size([96, 192, 14])\n",
      "torch.Size([96, 96])\n",
      "torch.Size([96, 192, 14])\n",
      "torch.Size([96, 96])\n",
      "torch.Size([96, 192, 14])\n",
      "torch.Size([96, 96])\n",
      "torch.Size([96, 192, 14])\n",
      "torch.Size([96, 96])\n",
      "torch.Size([96, 192, 14])\n",
      "torch.Size([96, 96])\n",
      "torch.Size([96, 192, 14])\n",
      "torch.Size([96, 96])\n",
      "torch.Size([96, 192, 14])\n",
      "torch.Size([96, 96])\n",
      "torch.Size([96, 192, 14])\n",
      "torch.Size([96, 96])\n",
      "torch.Size([96, 192, 14])\n",
      "torch.Size([96, 96])\n",
      "torch.Size([96, 192, 14])\n",
      "torch.Size([96, 96])\n",
      "torch.Size([96, 192, 14])\n",
      "torch.Size([96, 96])\n",
      "torch.Size([96, 192, 14])\n",
      "torch.Size([96, 96])\n",
      "torch.Size([96, 192, 14])\n",
      "torch.Size([96, 96])\n",
      "torch.Size([96, 192, 14])\n",
      "torch.Size([96, 96])\n",
      "torch.Size([96, 192, 14])\n",
      "torch.Size([96, 96])\n",
      "torch.Size([96, 192, 14])\n",
      "torch.Size([96, 96])\n",
      "torch.Size([96, 192, 14])\n",
      "torch.Size([96, 96])\n",
      "torch.Size([96, 192, 14])\n",
      "torch.Size([96, 96])\n",
      "torch.Size([96, 192, 14])\n",
      "torch.Size([96, 96])\n",
      "torch.Size([96, 192, 14])\n",
      "torch.Size([96, 96])\n",
      "torch.Size([96, 192, 14])\n",
      "torch.Size([96, 96])\n",
      "torch.Size([96, 192, 14])\n",
      "torch.Size([96, 96])\n",
      "torch.Size([96, 192, 14])\n",
      "torch.Size([96, 96])\n",
      "torch.Size([96, 192, 14])\n",
      "torch.Size([96, 96])\n",
      "torch.Size([96, 192, 14])\n",
      "torch.Size([96, 96])\n",
      "torch.Size([96, 192, 14])\n",
      "torch.Size([96, 96])\n",
      "torch.Size([96, 192, 14])\n",
      "torch.Size([96, 96])\n",
      "torch.Size([96, 192, 14])\n",
      "torch.Size([96, 96])\n",
      "torch.Size([96, 192, 14])\n",
      "torch.Size([96, 96])\n",
      "torch.Size([96, 192, 14])\n",
      "torch.Size([96, 96])\n",
      "torch.Size([96, 192, 14])\n",
      "torch.Size([96, 96])\n",
      "torch.Size([96, 192, 14])\n",
      "torch.Size([96, 96])\n",
      "torch.Size([96, 192, 14])\n",
      "torch.Size([96, 96])\n",
      "torch.Size([96, 192, 14])\n",
      "torch.Size([96, 96])\n",
      "torch.Size([96, 192, 14])\n",
      "torch.Size([96, 96])\n",
      "torch.Size([96, 192, 14])\n",
      "torch.Size([96, 96])\n",
      "torch.Size([96, 192, 14])\n",
      "torch.Size([96, 96])\n",
      "torch.Size([96, 192, 14])\n",
      "torch.Size([96, 96])\n",
      "torch.Size([96, 192, 14])\n",
      "torch.Size([96, 96])\n",
      "torch.Size([96, 192, 14])\n",
      "torch.Size([96, 96])\n",
      "torch.Size([96, 192, 14])\n",
      "torch.Size([96, 96])\n",
      "torch.Size([96, 192, 14])\n",
      "torch.Size([96, 96])\n",
      "torch.Size([96, 192, 14])\n",
      "torch.Size([96, 96])\n",
      "torch.Size([96, 192, 14])\n",
      "torch.Size([96, 96])\n",
      "torch.Size([96, 192, 14])\n",
      "torch.Size([96, 96])\n",
      "torch.Size([96, 192, 14])\n",
      "torch.Size([96, 96])\n",
      "torch.Size([96, 192, 14])\n",
      "torch.Size([96, 96])\n",
      "torch.Size([96, 192, 14])\n",
      "torch.Size([96, 96])\n",
      "torch.Size([96, 192, 14])\n",
      "torch.Size([96, 96])\n",
      "torch.Size([96, 192, 14])\n",
      "torch.Size([96, 96])\n",
      "torch.Size([96, 192, 14])\n",
      "torch.Size([96, 96])\n",
      "torch.Size([96, 192, 14])\n",
      "torch.Size([96, 96])\n",
      "torch.Size([96, 192, 14])\n",
      "torch.Size([96, 96])\n",
      "torch.Size([96, 192, 14])\n",
      "torch.Size([96, 96])\n",
      "torch.Size([96, 192, 14])\n",
      "torch.Size([96, 96])\n",
      "torch.Size([96, 192, 14])\n",
      "torch.Size([96, 96])\n",
      "torch.Size([96, 192, 14])\n",
      "torch.Size([96, 96])\n",
      "torch.Size([96, 192, 14])\n",
      "torch.Size([96, 96])\n",
      "torch.Size([96, 192, 14])\n",
      "torch.Size([96, 96])\n",
      "torch.Size([96, 192, 14])\n",
      "torch.Size([96, 96])\n",
      "torch.Size([96, 192, 14])\n",
      "torch.Size([96, 96])\n",
      "torch.Size([96, 192, 14])\n",
      "torch.Size([96, 96])\n",
      "torch.Size([96, 192, 14])\n",
      "torch.Size([96, 96])\n",
      "torch.Size([96, 192, 14])\n",
      "torch.Size([96, 96])\n",
      "torch.Size([96, 192, 14])\n",
      "torch.Size([96, 96])\n",
      "torch.Size([96, 192, 14])\n",
      "torch.Size([96, 96])\n",
      "torch.Size([96, 192, 14])\n",
      "torch.Size([96, 96])\n",
      "torch.Size([96, 192, 14])\n",
      "torch.Size([96, 96])\n",
      "torch.Size([96, 192, 14])\n",
      "torch.Size([96, 96])\n",
      "torch.Size([96, 192, 14])\n",
      "torch.Size([96, 96])\n",
      "torch.Size([96, 192, 14])\n",
      "torch.Size([96, 96])\n",
      "torch.Size([96, 192, 14])\n",
      "torch.Size([96, 96])\n",
      "torch.Size([96, 192, 14])\n",
      "torch.Size([96, 96])\n",
      "torch.Size([96, 192, 14])\n",
      "torch.Size([96, 96])\n",
      "torch.Size([96, 192, 14])\n",
      "torch.Size([96, 96])\n",
      "torch.Size([96, 192, 14])\n",
      "torch.Size([96, 96])\n",
      "torch.Size([96, 192, 14])\n",
      "torch.Size([96, 96])\n",
      "torch.Size([96, 192, 14])\n",
      "torch.Size([96, 96])\n",
      "torch.Size([96, 192, 14])\n",
      "torch.Size([96, 96])\n",
      "torch.Size([96, 192, 14])\n",
      "torch.Size([96, 96])\n",
      "torch.Size([96, 192, 14])\n",
      "torch.Size([96, 96])\n",
      "torch.Size([96, 192, 14])\n",
      "torch.Size([96, 96])\n",
      "torch.Size([96, 192, 14])\n",
      "torch.Size([96, 96])\n",
      "torch.Size([96, 192, 14])\n",
      "torch.Size([96, 96])\n",
      "torch.Size([96, 192, 14])\n",
      "torch.Size([96, 96])\n",
      "torch.Size([96, 192, 14])\n",
      "torch.Size([96, 96])\n",
      "torch.Size([96, 192, 14])\n",
      "torch.Size([96, 96])\n",
      "torch.Size([96, 192, 14])\n",
      "torch.Size([96, 96])\n",
      "torch.Size([96, 192, 14])\n",
      "torch.Size([96, 96])\n",
      "torch.Size([96, 192, 14])\n",
      "torch.Size([96, 96])\n",
      "torch.Size([96, 192, 14])\n",
      "torch.Size([96, 96])\n",
      "torch.Size([96, 192, 14])\n",
      "torch.Size([96, 96])\n",
      "torch.Size([96, 192, 14])\n",
      "torch.Size([96, 96])\n",
      "torch.Size([96, 192, 14])\n",
      "torch.Size([96, 96])\n",
      "torch.Size([96, 192, 14])\n",
      "torch.Size([96, 96])\n",
      "torch.Size([96, 192, 14])\n",
      "torch.Size([96, 96])\n",
      "torch.Size([96, 192, 14])\n",
      "torch.Size([96, 96])\n",
      "torch.Size([96, 192, 14])\n",
      "torch.Size([96, 96])\n",
      "torch.Size([96, 192, 14])\n",
      "torch.Size([96, 96])\n",
      "torch.Size([96, 192, 14])\n",
      "torch.Size([96, 96])\n",
      "torch.Size([96, 192, 14])\n",
      "torch.Size([96, 96])\n",
      "torch.Size([96, 192, 14])\n",
      "torch.Size([96, 96])\n",
      "torch.Size([96, 192, 14])\n",
      "torch.Size([96, 96])\n",
      "torch.Size([96, 192, 14])\n",
      "torch.Size([96, 96])\n",
      "torch.Size([96, 192, 14])\n",
      "torch.Size([96, 96])\n",
      "torch.Size([96, 192, 14])\n",
      "torch.Size([96, 96])\n",
      "torch.Size([96, 192, 14])\n",
      "torch.Size([96, 96])\n",
      "torch.Size([96, 192, 14])\n",
      "torch.Size([96, 96])\n",
      "torch.Size([96, 192, 14])\n",
      "torch.Size([96, 96])\n",
      "torch.Size([96, 192, 14])\n",
      "torch.Size([96, 96])\n",
      "torch.Size([96, 192, 14])\n",
      "torch.Size([96, 96])\n",
      "torch.Size([96, 192, 14])\n",
      "torch.Size([96, 96])\n",
      "torch.Size([96, 192, 14])\n",
      "torch.Size([96, 96])\n",
      "torch.Size([96, 192, 14])\n",
      "torch.Size([96, 96])\n",
      "torch.Size([96, 192, 14])\n",
      "torch.Size([96, 96])\n",
      "torch.Size([96, 192, 14])\n",
      "torch.Size([96, 96])\n",
      "torch.Size([96, 192, 14])\n",
      "torch.Size([96, 96])\n",
      "torch.Size([96, 192, 14])\n",
      "torch.Size([96, 96])\n",
      "torch.Size([96, 192, 14])\n",
      "torch.Size([96, 96])\n",
      "torch.Size([96, 192, 14])\n",
      "torch.Size([96, 96])\n",
      "torch.Size([96, 192, 14])\n",
      "torch.Size([96, 96])\n",
      "torch.Size([96, 192, 14])\n",
      "torch.Size([96, 96])\n",
      "torch.Size([96, 192, 14])\n",
      "torch.Size([96, 96])\n",
      "torch.Size([96, 192, 14])\n",
      "torch.Size([96, 96])\n",
      "torch.Size([96, 192, 14])\n",
      "torch.Size([96, 96])\n",
      "torch.Size([96, 192, 14])\n",
      "torch.Size([96, 96])\n",
      "torch.Size([96, 192, 14])\n",
      "torch.Size([96, 96])\n",
      "torch.Size([96, 192, 14])\n",
      "torch.Size([96, 96])\n",
      "torch.Size([96, 192, 14])\n",
      "torch.Size([96, 96])\n",
      "torch.Size([96, 192, 14])\n",
      "torch.Size([96, 96])\n",
      "torch.Size([96, 192, 14])\n",
      "torch.Size([96, 96])\n",
      "torch.Size([96, 192, 14])\n",
      "torch.Size([96, 96])\n",
      "torch.Size([96, 192, 14])\n",
      "torch.Size([96, 96])\n",
      "torch.Size([96, 192, 14])\n",
      "torch.Size([96, 96])\n",
      "torch.Size([96, 192, 14])\n",
      "torch.Size([96, 96])\n",
      "torch.Size([96, 192, 14])\n",
      "torch.Size([96, 96])\n",
      "torch.Size([96, 192, 14])\n",
      "torch.Size([96, 96])\n",
      "torch.Size([96, 192, 14])\n",
      "torch.Size([96, 96])\n",
      "torch.Size([96, 192, 14])\n",
      "torch.Size([96, 96])\n",
      "torch.Size([96, 192, 14])\n",
      "torch.Size([96, 96])\n",
      "torch.Size([96, 192, 14])\n",
      "torch.Size([96, 96])\n",
      "torch.Size([96, 192, 14])\n",
      "torch.Size([96, 96])\n",
      "torch.Size([96, 192, 14])\n",
      "torch.Size([96, 96])\n",
      "torch.Size([96, 192, 14])\n",
      "torch.Size([96, 96])\n",
      "torch.Size([96, 192, 14])\n",
      "torch.Size([96, 96])\n",
      "torch.Size([96, 192, 14])\n",
      "torch.Size([96, 96])\n",
      "torch.Size([96, 192, 14])\n",
      "torch.Size([96, 96])\n",
      "torch.Size([96, 192, 14])\n",
      "torch.Size([96, 96])\n",
      "torch.Size([96, 192, 14])\n",
      "torch.Size([96, 96])\n",
      "torch.Size([96, 192, 14])\n",
      "torch.Size([96, 96])\n",
      "torch.Size([96, 192, 14])\n",
      "torch.Size([96, 96])\n",
      "torch.Size([96, 192, 14])\n",
      "torch.Size([96, 96])\n",
      "torch.Size([96, 192, 14])\n",
      "torch.Size([96, 96])\n",
      "torch.Size([96, 192, 14])\n",
      "torch.Size([96, 96])\n",
      "torch.Size([96, 192, 14])\n",
      "torch.Size([96, 96])\n",
      "torch.Size([96, 192, 14])\n",
      "torch.Size([96, 96])\n",
      "torch.Size([96, 192, 14])\n",
      "torch.Size([96, 96])\n",
      "torch.Size([96, 192, 14])\n",
      "torch.Size([96, 96])\n",
      "torch.Size([96, 192, 14])\n",
      "torch.Size([96, 96])\n",
      "torch.Size([96, 192, 14])\n",
      "torch.Size([96, 96])\n",
      "torch.Size([96, 192, 14])\n",
      "torch.Size([96, 96])\n",
      "torch.Size([96, 192, 14])\n",
      "torch.Size([96, 96])\n",
      "torch.Size([96, 192, 14])\n",
      "torch.Size([96, 96])\n",
      "torch.Size([96, 192, 14])\n",
      "torch.Size([96, 96])\n",
      "torch.Size([96, 192, 14])\n",
      "torch.Size([96, 96])\n",
      "torch.Size([96, 192, 14])\n",
      "torch.Size([96, 96])\n",
      "torch.Size([96, 192, 14])\n",
      "torch.Size([96, 96])\n",
      "torch.Size([96, 192, 14])\n",
      "torch.Size([96, 96])\n",
      "torch.Size([96, 192, 14])\n",
      "torch.Size([96, 96])\n",
      "torch.Size([96, 192, 14])\n",
      "torch.Size([96, 96])\n",
      "torch.Size([96, 192, 14])\n",
      "torch.Size([96, 96])\n",
      "torch.Size([96, 192, 14])\n",
      "torch.Size([96, 96])\n",
      "torch.Size([96, 192, 14])\n",
      "torch.Size([96, 96])\n",
      "torch.Size([96, 192, 14])\n",
      "torch.Size([96, 96])\n",
      "torch.Size([96, 192, 14])\n",
      "torch.Size([96, 96])\n",
      "torch.Size([96, 192, 14])\n",
      "torch.Size([96, 96])\n",
      "torch.Size([96, 192, 14])\n",
      "torch.Size([96, 96])\n",
      "torch.Size([96, 192, 14])\n",
      "torch.Size([96, 96])\n",
      "torch.Size([96, 192, 14])\n",
      "torch.Size([96, 96])\n",
      "torch.Size([96, 192, 14])\n",
      "torch.Size([96, 96])\n",
      "torch.Size([96, 192, 14])\n",
      "torch.Size([96, 96])\n",
      "torch.Size([96, 192, 14])\n",
      "torch.Size([96, 96])\n",
      "torch.Size([96, 192, 14])\n",
      "torch.Size([96, 96])\n",
      "torch.Size([96, 192, 14])\n",
      "torch.Size([96, 96])\n",
      "torch.Size([96, 192, 14])\n",
      "torch.Size([96, 96])\n",
      "torch.Size([96, 192, 14])\n",
      "torch.Size([96, 96])\n",
      "torch.Size([96, 192, 14])\n",
      "torch.Size([96, 96])\n",
      "torch.Size([96, 192, 14])\n",
      "torch.Size([96, 96])\n",
      "torch.Size([96, 192, 14])\n",
      "torch.Size([96, 96])\n",
      "torch.Size([96, 192, 14])\n",
      "torch.Size([96, 96])\n",
      "torch.Size([96, 192, 14])\n",
      "torch.Size([96, 96])\n",
      "torch.Size([96, 192, 14])\n",
      "torch.Size([96, 96])\n",
      "torch.Size([96, 192, 14])\n",
      "torch.Size([96, 96])\n",
      "torch.Size([96, 192, 14])\n",
      "torch.Size([96, 96])\n",
      "torch.Size([96, 192, 14])\n",
      "torch.Size([96, 96])\n",
      "torch.Size([96, 192, 14])\n",
      "torch.Size([96, 96])\n",
      "torch.Size([96, 192, 14])\n",
      "torch.Size([96, 96])\n",
      "torch.Size([96, 192, 14])\n",
      "torch.Size([96, 96])\n",
      "torch.Size([96, 192, 14])\n",
      "torch.Size([96, 96])\n",
      "torch.Size([96, 192, 14])\n",
      "torch.Size([96, 96])\n",
      "torch.Size([96, 192, 14])\n",
      "torch.Size([96, 96])\n",
      "torch.Size([96, 192, 14])\n",
      "torch.Size([96, 96])\n",
      "torch.Size([96, 192, 14])\n",
      "torch.Size([96, 96])\n",
      "torch.Size([96, 192, 14])\n",
      "torch.Size([96, 96])\n",
      "torch.Size([96, 192, 14])\n",
      "torch.Size([96, 96])\n",
      "torch.Size([96, 192, 14])\n",
      "torch.Size([96, 96])\n",
      "torch.Size([96, 192, 14])\n",
      "torch.Size([96, 96])\n",
      "torch.Size([96, 192, 14])\n",
      "torch.Size([96, 96])\n",
      "torch.Size([96, 192, 14])\n",
      "torch.Size([96, 96])\n",
      "torch.Size([96, 192, 14])\n",
      "torch.Size([96, 96])\n",
      "torch.Size([96, 192, 14])\n",
      "torch.Size([96, 96])\n",
      "torch.Size([96, 192, 14])\n",
      "torch.Size([96, 96])\n",
      "torch.Size([96, 192, 14])\n",
      "torch.Size([96, 96])\n",
      "torch.Size([96, 192, 14])\n",
      "torch.Size([96, 96])\n",
      "torch.Size([96, 192, 14])\n",
      "torch.Size([96, 96])\n",
      "torch.Size([96, 192, 14])\n",
      "torch.Size([96, 96])\n",
      "torch.Size([96, 192, 14])\n",
      "torch.Size([96, 96])\n",
      "torch.Size([96, 192, 14])\n",
      "torch.Size([96, 96])\n",
      "torch.Size([96, 192, 14])\n",
      "torch.Size([96, 96])\n",
      "torch.Size([96, 192, 14])\n",
      "torch.Size([96, 96])\n",
      "torch.Size([96, 192, 14])\n",
      "torch.Size([96, 96])\n",
      "torch.Size([96, 192, 14])\n",
      "torch.Size([96, 96])\n",
      "torch.Size([96, 192, 14])\n",
      "torch.Size([96, 96])\n",
      "torch.Size([96, 192, 14])\n",
      "torch.Size([96, 96])\n",
      "torch.Size([96, 192, 14])\n",
      "torch.Size([96, 96])\n",
      "torch.Size([96, 192, 14])\n",
      "torch.Size([96, 96])\n",
      "torch.Size([96, 192, 14])\n",
      "torch.Size([96, 96])\n",
      "torch.Size([96, 192, 14])\n",
      "torch.Size([96, 96])\n",
      "torch.Size([96, 192, 14])\n",
      "torch.Size([96, 96])\n",
      "torch.Size([96, 192, 14])\n",
      "torch.Size([96, 96])\n",
      "torch.Size([96, 192, 14])\n",
      "torch.Size([96, 96])\n",
      "torch.Size([96, 192, 14])\n",
      "torch.Size([96, 96])\n",
      "torch.Size([96, 192, 14])\n",
      "torch.Size([96, 96])\n",
      "torch.Size([96, 192, 14])\n",
      "torch.Size([96, 96])\n",
      "torch.Size([96, 192, 14])\n",
      "torch.Size([96, 96])\n",
      "torch.Size([96, 192, 14])\n",
      "torch.Size([96, 96])\n",
      "torch.Size([96, 192, 14])\n",
      "torch.Size([96, 96])\n",
      "torch.Size([96, 192, 14])\n",
      "torch.Size([96, 96])\n",
      "torch.Size([96, 192, 14])\n",
      "torch.Size([96, 96])\n",
      "torch.Size([96, 192, 14])\n",
      "torch.Size([96, 96])\n",
      "torch.Size([96, 192, 14])\n",
      "torch.Size([96, 96])\n",
      "torch.Size([96, 192, 14])\n",
      "torch.Size([96, 96])\n",
      "torch.Size([96, 192, 14])\n",
      "torch.Size([96, 96])\n",
      "torch.Size([96, 192, 14])\n",
      "torch.Size([96, 96])\n",
      "torch.Size([96, 192, 14])\n",
      "torch.Size([96, 96])\n",
      "torch.Size([96, 192, 14])\n",
      "torch.Size([96, 96])\n",
      "torch.Size([96, 192, 14])\n",
      "torch.Size([96, 96])\n",
      "torch.Size([96, 192, 14])\n",
      "torch.Size([96, 96])\n",
      "torch.Size([96, 192, 14])\n",
      "torch.Size([96, 96])\n",
      "torch.Size([96, 192, 14])\n",
      "torch.Size([96, 96])\n",
      "torch.Size([96, 192, 14])\n",
      "torch.Size([96, 96])\n",
      "torch.Size([96, 192, 14])\n",
      "torch.Size([96, 96])\n",
      "torch.Size([96, 192, 14])\n",
      "torch.Size([96, 96])\n",
      "torch.Size([96, 192, 14])\n",
      "torch.Size([96, 96])\n",
      "torch.Size([96, 192, 14])\n",
      "torch.Size([96, 96])\n",
      "torch.Size([96, 192, 14])\n",
      "torch.Size([96, 96])\n",
      "torch.Size([96, 192, 14])\n",
      "torch.Size([96, 96])\n",
      "torch.Size([96, 192, 14])\n",
      "torch.Size([96, 96])\n",
      "torch.Size([96, 192, 14])\n",
      "torch.Size([96, 96])\n",
      "torch.Size([96, 192, 14])\n",
      "torch.Size([96, 96])\n",
      "torch.Size([96, 192, 14])\n",
      "torch.Size([96, 96])\n",
      "torch.Size([96, 192, 14])\n",
      "torch.Size([96, 96])\n",
      "torch.Size([96, 192, 14])\n",
      "torch.Size([96, 96])\n",
      "torch.Size([96, 192, 14])\n",
      "torch.Size([96, 96])\n",
      "torch.Size([96, 192, 14])\n",
      "torch.Size([96, 96])\n",
      "torch.Size([96, 192, 14])\n",
      "torch.Size([96, 96])\n",
      "torch.Size([96, 192, 14])\n",
      "torch.Size([96, 96])\n",
      "torch.Size([96, 192, 14])\n",
      "torch.Size([96, 96])\n",
      "torch.Size([96, 192, 14])\n",
      "torch.Size([96, 96])\n",
      "torch.Size([96, 192, 14])\n",
      "torch.Size([96, 96])\n",
      "torch.Size([96, 192, 14])\n",
      "torch.Size([96, 96])\n",
      "torch.Size([96, 192, 14])\n",
      "torch.Size([96, 96])\n",
      "torch.Size([96, 192, 14])\n",
      "torch.Size([96, 96])\n",
      "torch.Size([96, 192, 14])\n",
      "torch.Size([96, 96])\n",
      "torch.Size([96, 192, 14])\n",
      "torch.Size([96, 96])\n",
      "torch.Size([96, 192, 14])\n",
      "torch.Size([96, 96])\n",
      "torch.Size([96, 192, 14])\n",
      "torch.Size([96, 96])\n",
      "torch.Size([96, 192, 14])\n",
      "torch.Size([96, 96])\n",
      "torch.Size([96, 192, 14])\n",
      "torch.Size([96, 96])\n",
      "torch.Size([96, 192, 14])\n",
      "torch.Size([96, 96])\n",
      "torch.Size([96, 192, 14])\n",
      "torch.Size([96, 96])\n",
      "torch.Size([96, 192, 14])\n",
      "torch.Size([96, 96])\n",
      "torch.Size([96, 192, 14])\n",
      "torch.Size([96, 96])\n",
      "torch.Size([96, 192, 14])\n",
      "torch.Size([96, 96])\n",
      "torch.Size([96, 192, 14])\n",
      "torch.Size([96, 96])\n",
      "torch.Size([96, 192, 14])\n",
      "torch.Size([96, 96])\n",
      "torch.Size([96, 192, 14])\n",
      "torch.Size([96, 96])\n",
      "torch.Size([96, 192, 14])\n",
      "torch.Size([96, 96])\n",
      "torch.Size([96, 192, 14])\n",
      "torch.Size([96, 96])\n",
      "torch.Size([96, 192, 14])\n",
      "torch.Size([96, 96])\n",
      "torch.Size([96, 192, 14])\n",
      "torch.Size([96, 96])\n",
      "torch.Size([96, 192, 14])\n",
      "torch.Size([96, 96])\n",
      "torch.Size([96, 192, 14])\n",
      "torch.Size([96, 96])\n",
      "torch.Size([96, 192, 14])\n",
      "torch.Size([96, 96])\n",
      "torch.Size([96, 192, 14])\n",
      "torch.Size([96, 96])\n",
      "torch.Size([96, 192, 14])\n",
      "torch.Size([96, 96])\n",
      "torch.Size([96, 192, 14])\n",
      "torch.Size([96, 96])\n",
      "torch.Size([96, 192, 14])\n",
      "torch.Size([96, 96])\n",
      "torch.Size([96, 192, 14])\n",
      "torch.Size([96, 96])\n",
      "torch.Size([96, 192, 14])\n",
      "torch.Size([96, 96])\n",
      "torch.Size([96, 192, 14])\n",
      "torch.Size([96, 96])\n",
      "torch.Size([96, 192, 14])\n",
      "torch.Size([96, 96])\n",
      "torch.Size([96, 192, 14])\n",
      "torch.Size([96, 96])\n",
      "torch.Size([96, 192, 14])\n",
      "torch.Size([96, 96])\n",
      "torch.Size([96, 192, 14])\n",
      "torch.Size([96, 96])\n",
      "torch.Size([96, 192, 14])\n",
      "torch.Size([96, 96])\n",
      "torch.Size([96, 192, 14])\n",
      "torch.Size([96, 96])\n",
      "torch.Size([96, 192, 14])\n",
      "torch.Size([96, 96])\n",
      "torch.Size([96, 192, 14])\n",
      "torch.Size([96, 96])\n",
      "torch.Size([96, 192, 14])\n",
      "torch.Size([96, 96])\n",
      "torch.Size([96, 192, 14])\n",
      "torch.Size([96, 96])\n",
      "torch.Size([96, 192, 14])\n",
      "torch.Size([96, 96])\n",
      "torch.Size([96, 192, 14])\n",
      "torch.Size([96, 96])\n",
      "torch.Size([96, 192, 14])\n",
      "torch.Size([96, 96])\n",
      "torch.Size([96, 192, 14])\n",
      "torch.Size([96, 96])\n",
      "torch.Size([96, 192, 14])\n",
      "torch.Size([96, 96])\n",
      "torch.Size([96, 192, 14])\n",
      "torch.Size([96, 96])\n",
      "torch.Size([96, 192, 14])\n",
      "torch.Size([96, 96])\n",
      "torch.Size([96, 192, 14])\n",
      "torch.Size([96, 96])\n",
      "torch.Size([96, 192, 14])\n",
      "torch.Size([96, 96])\n",
      "torch.Size([96, 192, 14])\n",
      "torch.Size([96, 96])\n",
      "torch.Size([96, 192, 14])\n",
      "torch.Size([96, 96])\n",
      "torch.Size([96, 192, 14])\n",
      "torch.Size([96, 96])\n",
      "torch.Size([96, 192, 14])\n",
      "torch.Size([96, 96])\n",
      "torch.Size([96, 192, 14])\n",
      "torch.Size([96, 96])\n",
      "torch.Size([96, 192, 14])\n",
      "torch.Size([96, 96])\n",
      "torch.Size([96, 192, 14])\n",
      "torch.Size([96, 96])\n",
      "torch.Size([96, 192, 14])\n",
      "torch.Size([96, 96])\n",
      "torch.Size([96, 192, 14])\n",
      "torch.Size([96, 96])\n",
      "torch.Size([96, 192, 14])\n",
      "torch.Size([96, 96])\n",
      "torch.Size([96, 192, 14])\n",
      "torch.Size([96, 96])\n",
      "torch.Size([96, 192, 14])\n",
      "torch.Size([96, 96])\n",
      "torch.Size([96, 192, 14])\n",
      "torch.Size([96, 96])\n",
      "torch.Size([96, 192, 14])\n",
      "torch.Size([96, 96])\n",
      "torch.Size([96, 192, 14])\n",
      "torch.Size([96, 96])\n",
      "torch.Size([96, 192, 14])\n",
      "torch.Size([96, 96])\n",
      "torch.Size([96, 192, 14])\n",
      "torch.Size([96, 96])\n",
      "torch.Size([96, 192, 14])\n",
      "torch.Size([96, 96])\n",
      "torch.Size([96, 192, 14])\n",
      "torch.Size([96, 96])\n",
      "torch.Size([96, 192, 14])\n",
      "torch.Size([96, 96])\n",
      "torch.Size([96, 192, 14])\n",
      "torch.Size([96, 96])\n",
      "torch.Size([96, 192, 14])\n",
      "torch.Size([96, 96])\n",
      "torch.Size([96, 192, 14])\n",
      "torch.Size([96, 96])\n",
      "torch.Size([96, 192, 14])\n",
      "torch.Size([96, 96])\n",
      "torch.Size([96, 192, 14])\n",
      "torch.Size([96, 96])\n",
      "torch.Size([96, 192, 14])\n",
      "torch.Size([96, 96])\n",
      "torch.Size([96, 192, 14])\n",
      "torch.Size([96, 96])\n",
      "torch.Size([96, 192, 14])\n",
      "torch.Size([96, 96])\n",
      "torch.Size([96, 192, 14])\n",
      "torch.Size([96, 96])\n",
      "torch.Size([96, 192, 14])\n",
      "torch.Size([96, 96])\n",
      "torch.Size([96, 192, 14])\n",
      "torch.Size([96, 96])\n",
      "torch.Size([96, 192, 14])\n",
      "torch.Size([96, 96])\n",
      "torch.Size([96, 192, 14])\n",
      "torch.Size([96, 96])\n",
      "torch.Size([96, 192, 14])\n",
      "torch.Size([96, 96])\n",
      "torch.Size([96, 192, 14])\n",
      "torch.Size([96, 96])\n",
      "torch.Size([96, 192, 14])\n",
      "torch.Size([96, 96])\n",
      "torch.Size([96, 192, 14])\n",
      "torch.Size([96, 96])\n",
      "torch.Size([96, 192, 14])\n",
      "torch.Size([96, 96])\n",
      "torch.Size([96, 192, 14])\n",
      "torch.Size([96, 96])\n",
      "torch.Size([96, 192, 14])\n",
      "torch.Size([96, 96])\n",
      "torch.Size([96, 192, 14])\n",
      "torch.Size([96, 96])\n",
      "torch.Size([96, 192, 14])\n",
      "torch.Size([96, 96])\n",
      "torch.Size([1, 192, 14])\n",
      "torch.Size([1, 96])\n"
     ]
    }
   ],
   "source": [
    "for i ,j in trainloader:\n",
    "    print(i.shape)\n",
    "    print(j.shape)"
   ]
  },
  {
   "cell_type": "markdown",
   "id": "ea4558a2",
   "metadata": {
    "pycharm": {
     "name": "#%% md\n"
    }
   },
   "source": [
    "### 建立LSTM模型并训练"
   ]
  },
  {
   "cell_type": "code",
   "execution_count": 66,
   "id": "d30bb919",
   "metadata": {
    "pycharm": {
     "name": "#%%\n"
    }
   },
   "outputs": [],
   "source": [
    "class LstmNet(nn.Module):\n",
    "    def __init__(self):\n",
    "        super().__init__()\n",
    "        \n",
    "        self.layer1 = nn.LSTM(14, 60, 1, batch_first=True)  # 这个lstm的输入为15个神经元，隐藏层的输出为50个神经元，每个训练样本一次训练这个lstm被重复执行了49次，\n",
    "        self.layer2 = nn.Linear(60, 1)  # 或者形象地说这个lstm结构在时间上的长度为49。\n",
    "        \n",
    "    def forward(self, x):\n",
    "        y1, _ = self.layer1(x)\n",
    "        y1 = y1[:, -96:, :]\n",
    "        y2 = self.layer2(y1)\n",
    "        return y2.reshape(-1, 96)"
   ]
  },
  {
   "cell_type": "code",
   "execution_count": 67,
   "id": "b94d15ef",
   "metadata": {
    "pycharm": {
     "name": "#%%\n"
    }
   },
   "outputs": [
    {
     "data": {
      "text/plain": [
       "96"
      ]
     },
     "execution_count": 67,
     "metadata": {},
     "output_type": "execute_result"
    }
   ],
   "source": [
    "49*1*15; 15*50; 49*1*50; 49*50; 50*1; 49*1  # 批量大小为1\n",
    "49*64*15; 15*50; 49*64*50; 50*1; 49*64*1  # 批量大小为64\n",
    "192*1*15; 15*50; 192*1*50; 96*1*50; 96*50; 50*1; 96*1"
   ]
  },
  {
   "cell_type": "code",
   "execution_count": 68,
   "id": "e3ce748c",
   "metadata": {
    "pycharm": {
     "name": "#%%\n"
    }
   },
   "outputs": [
    {
     "data": {
      "text/plain": [
       "9216"
      ]
     },
     "execution_count": 68,
     "metadata": {},
     "output_type": "execute_result"
    }
   ],
   "source": [
    "96*192*15\n",
    "15*50\n",
    "96*192*50\n",
    "96*96*50\n",
    "50*1\n",
    "96*96*1\n",
    "96*96  # 批量大小为96，batch_first=True"
   ]
  },
  {
   "cell_type": "code",
   "execution_count": 69,
   "id": "72fa3432",
   "metadata": {
    "pycharm": {
     "name": "#%%\n"
    }
   },
   "outputs": [],
   "source": [
    "lstmnet = LstmNet()"
   ]
  },
  {
   "cell_type": "code",
   "execution_count": 70,
   "id": "767fc975",
   "metadata": {
    "pycharm": {
     "name": "#%%\n"
    }
   },
   "outputs": [],
   "source": [
    "lr = 0.001\n",
    "opt = optim.Adam(lstmnet.parameters(), lr=lr)"
   ]
  },
  {
   "cell_type": "code",
   "execution_count": 71,
   "id": "cdf10e65",
   "metadata": {
    "pycharm": {
     "name": "#%%\n"
    }
   },
   "outputs": [],
   "source": [
    "loss_function = nn.MSELoss()  # 方差/平均平方误差"
   ]
  },
  {
   "cell_type": "code",
   "execution_count": 72,
   "id": "4edbfb23",
   "metadata": {
    "pycharm": {
     "name": "#%%\n"
    }
   },
   "outputs": [],
   "source": [
    "# 刚开始使用学习率为0.01训练，损失下降到0.001左右时，开始波动比较大，损失没有什么下降，然后使用学习率为0.003训练，然后使用学习率0.001训练。\n",
    "# 得到的损失最小值为0.0003左右。"
   ]
  },
  {
   "cell_type": "code",
   "execution_count": 73,
   "id": "45e5bfb9",
   "metadata": {
    "pycharm": {
     "name": "#%%\n"
    }
   },
   "outputs": [
    {
     "name": "stdout",
     "output_type": "stream",
     "text": [
      "tensor(0.0544)\n",
      "tensor(0.0347)\n",
      "tensor(0.0302)\n",
      "tensor(0.0304)\n",
      "tensor(0.0282)\n",
      "tensor(0.0198)\n",
      "tensor(0.0224)\n",
      "tensor(0.0238)\n",
      "tensor(0.0181)\n",
      "tensor(0.0182)\n",
      "tensor(0.0177)\n",
      "tensor(0.0177)\n",
      "tensor(0.0179)\n",
      "tensor(0.0214)\n",
      "tensor(0.0194)\n",
      "tensor(0.0201)\n",
      "tensor(0.0131)\n",
      "tensor(0.0166)\n",
      "tensor(0.0162)\n",
      "tensor(0.0213)\n",
      "tensor(0.0169)\n",
      "tensor(0.0170)\n",
      "tensor(0.0173)\n",
      "tensor(0.0161)\n",
      "tensor(0.0144)\n",
      "tensor(0.0131)\n",
      "tensor(0.0182)\n",
      "tensor(0.0143)\n",
      "tensor(0.0149)\n",
      "tensor(0.0135)\n",
      "tensor(0.0166)\n",
      "tensor(0.0142)\n",
      "tensor(0.0162)\n",
      "tensor(0.0142)\n",
      "tensor(0.0096)\n",
      "tensor(0.0166)\n",
      "tensor(0.0187)\n",
      "tensor(0.0112)\n",
      "tensor(0.0133)\n",
      "tensor(0.0129)\n",
      "tensor(0.0164)\n",
      "tensor(0.0135)\n",
      "tensor(0.0120)\n",
      "tensor(0.0115)\n",
      "tensor(0.0181)\n",
      "tensor(0.0153)\n",
      "tensor(0.0108)\n",
      "tensor(0.0132)\n",
      "tensor(0.0172)\n",
      "tensor(0.0137)\n",
      "tensor(0.0091)\n",
      "tensor(0.0129)\n",
      "tensor(0.0148)\n",
      "tensor(0.0114)\n",
      "tensor(0.0125)\n",
      "tensor(0.0121)\n",
      "tensor(0.0087)\n",
      "tensor(0.0131)\n",
      "tensor(0.0112)\n",
      "tensor(0.0098)\n",
      "tensor(0.0096)\n",
      "tensor(0.0111)\n",
      "tensor(0.0112)\n",
      "tensor(0.0112)\n",
      "tensor(0.0134)\n",
      "tensor(0.0111)\n",
      "tensor(0.0113)\n",
      "tensor(0.0073)\n",
      "tensor(0.0106)\n",
      "tensor(0.0074)\n",
      "tensor(0.0096)\n",
      "tensor(0.0079)\n",
      "损失:\n",
      "tensor(0.0174)\n"
     ]
    }
   ],
   "source": [
    "epochs = 1\n",
    "for epoch in range(epochs):\n",
    "    i = 0\n",
    "    all_loss = 0\n",
    "    for xb, yb in trainloader:\n",
    "        y = lstmnet(xb)\n",
    "        loss = loss_function(y, yb)\n",
    "        loss.backward()\n",
    "        opt.step()\n",
    "        opt.zero_grad()\n",
    "        i += 1\n",
    "        all_loss += loss.data\n",
    "        if i%10 == 0:\n",
    "            print(loss.data)\n",
    "    print('损失:')\n",
    "    print(all_loss / len(trainloader))"
   ]
  },
  {
   "cell_type": "markdown",
   "id": "758b7903",
   "metadata": {
    "pycharm": {
     "name": "#%% md\n"
    }
   },
   "source": [
    "### 预测"
   ]
  },
  {
   "cell_type": "markdown",
   "id": "02ce1c5b",
   "metadata": {},
   "source": [
    "解决v_max v_min 未定义问题"
   ]
  },
  {
   "cell_type": "code",
   "execution_count": 74,
   "id": "8f365a27",
   "metadata": {},
   "outputs": [],
   "source": [
    "v_max = max(train['value'])\n",
    "v_min = min(train['value'])"
   ]
  },
  {
   "cell_type": "code",
   "execution_count": 75,
   "id": "4460d89d",
   "metadata": {
    "pycharm": {
     "name": "#%%\n"
    }
   },
   "outputs": [
    {
     "data": {
      "text/plain": [
       "0.0011182993634812012"
      ]
     },
     "execution_count": 75,
     "metadata": {},
     "output_type": "execute_result"
    }
   ],
   "source": [
    "(300 / (v_max - v_min)) ** 2"
   ]
  },
  {
   "cell_type": "code",
   "execution_count": 76,
   "id": "121eee7a",
   "metadata": {
    "pycharm": {
     "name": "#%%\n"
    }
   },
   "outputs": [
    {
     "data": {
      "text/plain": [
       "0.00012425548483124458"
      ]
     },
     "execution_count": 76,
     "metadata": {},
     "output_type": "execute_result"
    }
   ],
   "source": [
    "(100 / (v_max - v_min)) ** 2"
   ]
  },
  {
   "cell_type": "code",
   "execution_count": 77,
   "id": "12cded6c",
   "metadata": {
    "pycharm": {
     "name": "#%%\n"
    }
   },
   "outputs": [],
   "source": [
    "test_result = scaler.transform(test)"
   ]
  },
  {
   "cell_type": "markdown",
   "id": "a2ac8a16",
   "metadata": {
    "pycharm": {
     "name": "#%% md\n"
    }
   },
   "source": [
    "生成测试数据"
   ]
  },
  {
   "cell_type": "code",
   "execution_count": 78,
   "id": "fb8cdd39",
   "metadata": {
    "pycharm": {
     "name": "#%%\n"
    }
   },
   "outputs": [],
   "source": [
    "test_seq = create_inout_sequences(test_result, 192)"
   ]
  },
  {
   "cell_type": "code",
   "execution_count": 79,
   "id": "da550a2a",
   "metadata": {
    "pycharm": {
     "name": "#%%\n"
    }
   },
   "outputs": [
    {
     "data": {
      "text/plain": [
       "5281"
      ]
     },
     "execution_count": 79,
     "metadata": {},
     "output_type": "execute_result"
    }
   ],
   "source": [
    "len(test_seq)"
   ]
  },
  {
   "cell_type": "markdown",
   "id": "2a74ffc8",
   "metadata": {
    "pycharm": {
     "name": "#%% md\n"
    }
   },
   "source": [
    "预测测试集里的某一样本"
   ]
  },
  {
   "cell_type": "code",
   "execution_count": 80,
   "id": "2bb989fa",
   "metadata": {
    "pycharm": {
     "name": "#%%\n"
    }
   },
   "outputs": [],
   "source": [
    "v_max = max(train['value'])\n",
    "v_min = min(train['value'])"
   ]
  },
  {
   "cell_type": "code",
   "execution_count": 81,
   "id": "08ff8ef8",
   "metadata": {
    "pycharm": {
     "name": "#%%\n"
    }
   },
   "outputs": [],
   "source": [
    "pred = lstmnet(test_seq[1000][0].reshape(1, 192, 14))"
   ]
  },
  {
   "cell_type": "code",
   "execution_count": 82,
   "id": "d4ea803f",
   "metadata": {
    "pycharm": {
     "name": "#%%\n"
    }
   },
   "outputs": [
    {
     "data": {
      "text/plain": [
       "tensor([[0.6392, 0.6440, 0.6442, 0.6420, 0.6429, 0.6412, 0.6391, 0.6377, 0.6423,\n",
       "         0.6482, 0.6533, 0.6581, 0.6603, 0.6621, 0.6654, 0.6697, 0.6744, 0.6749,\n",
       "         0.6760, 0.6777, 0.6756, 0.6758, 0.6764, 0.6767, 0.6675, 0.6655, 0.6650,\n",
       "         0.6645, 0.6623, 0.6564, 0.6519, 0.6485, 0.6449, 0.6429, 0.6413, 0.6397,\n",
       "         0.6325, 0.6294, 0.6258, 0.6214, 0.6171, 0.6120, 0.6066, 0.6011, 0.5946,\n",
       "         0.5890, 0.5836, 0.5784, 0.5743, 0.5717, 0.5678, 0.5629, 0.5571, 0.5513,\n",
       "         0.5456, 0.5400, 0.4787, 0.4504, 0.4335, 0.4218, 0.4119, 0.4041, 0.3968,\n",
       "         0.3897, 0.3830, 0.3762, 0.3693, 0.3624, 0.3544, 0.3486, 0.3441, 0.3405,\n",
       "         0.3453, 0.3460, 0.3480, 0.3522, 0.3586, 0.3668, 0.3768, 0.3886, 0.4015,\n",
       "         0.4165, 0.4340, 0.4544, 0.4747, 0.4991, 0.5255, 0.5527, 0.5834, 0.6110,\n",
       "         0.6355, 0.6564, 0.6795, 0.6949, 0.7044, 0.7087]],\n",
       "       grad_fn=<ViewBackward0>)"
      ]
     },
     "execution_count": 82,
     "metadata": {},
     "output_type": "execute_result"
    }
   ],
   "source": [
    "pred"
   ]
  },
  {
   "cell_type": "code",
   "execution_count": 83,
   "id": "82a15a53",
   "metadata": {
    "pycharm": {
     "name": "#%%\n"
    }
   },
   "outputs": [
    {
     "data": {
      "text/plain": [
       "tensor([0.7438, 0.7479, 0.7525, 0.7546, 0.7566, 0.7574, 0.7340, 0.6965, 0.6058,\n",
       "        0.5454, 0.5497, 0.5459, 0.5520, 0.5751, 0.6282, 0.6901, 0.7053, 0.7180,\n",
       "        0.7231, 0.7245, 0.7289, 0.7326, 0.7373, 0.7423, 0.7494, 0.7569, 0.7621,\n",
       "        0.7644, 0.7519, 0.7399, 0.6878, 0.6572, 0.6601, 0.6830, 0.7160, 0.7424,\n",
       "        0.7512, 0.7533, 0.7480, 0.7448, 0.7371, 0.7361, 0.7352, 0.7323, 0.7238,\n",
       "        0.7156, 0.7050, 0.6902, 0.6684, 0.6499, 0.6277, 0.6015, 0.5719, 0.5347,\n",
       "        0.5085, 0.4784, 0.4558, 0.4380, 0.4276, 0.4187, 0.4123, 0.4054, 0.4012,\n",
       "        0.3985, 0.3931, 0.3883, 0.3853, 0.3809, 0.3779, 0.3724, 0.3692, 0.3671,\n",
       "        0.3663, 0.3658, 0.3635, 0.3650, 0.3642, 0.3646, 0.3648, 0.3666, 0.3673,\n",
       "        0.3725, 0.3763, 0.3835, 0.3991, 0.4210, 0.4496, 0.4904, 0.5608, 0.6409,\n",
       "        0.6738, 0.6920, 0.7003, 0.7079, 0.7155, 0.7194])"
      ]
     },
     "execution_count": 83,
     "metadata": {},
     "output_type": "execute_result"
    }
   ],
   "source": [
    "test_seq[1000][1]"
   ]
  },
  {
   "cell_type": "code",
   "execution_count": 84,
   "id": "f14d733d",
   "metadata": {
    "pycharm": {
     "name": "#%%\n"
    }
   },
   "outputs": [],
   "source": [
    "true_label = test_seq[1000][1] * (v_max - v_min) + v_min\n",
    "true_label = true_label.detach().numpy()"
   ]
  },
  {
   "cell_type": "code",
   "execution_count": 85,
   "id": "471a0d0a",
   "metadata": {
    "pycharm": {
     "name": "#%%\n"
    }
   },
   "outputs": [],
   "source": [
    "true_pred = pred * (v_max - v_min) + v_min\n",
    "true_pred = true_pred.reshape(96)\n",
    "true_pred = true_pred.detach().numpy()"
   ]
  },
  {
   "cell_type": "code",
   "execution_count": 86,
   "id": "df694830",
   "metadata": {
    "pycharm": {
     "name": "#%%\n"
    }
   },
   "outputs": [
    {
     "data": {
      "image/png": "[encoded data removed]",
      "text/plain": [
       "<Figure size 1200x400 with 1 Axes>"
      ]
     },
     "metadata": {},
     "output_type": "display_data"
    }
   ],
   "source": [
    "plt.rc('font',family='DengXian')\n",
    "plt.figure(figsize=(15, 5), dpi=80)\n",
    "\n",
    "X = np.linspace(0, 24, 96, endpoint=True)\n",
    "C,S = true_pred, true_label\n",
    "plt.plot(X, C, color='blue', label='预测')\n",
    "plt.plot(X, S, color='green', label='真实')\n",
    "plt.legend(loc='upper left')\n",
    "plt.show()"
   ]
  },
  {
   "cell_type": "markdown",
   "id": "b5cadb1c",
   "metadata": {
    "pycharm": {
     "name": "#%% md\n"
    }
   },
   "source": [
    "采用绝对百分比误差（APE）对模型的预测准确度进行评价"
   ]
  },
  {
   "cell_type": "markdown",
   "id": "abc38cbc",
   "metadata": {
    "pycharm": {
     "name": "#%% md\n"
    }
   },
   "source": [
    "单个样本的APE：|y预测 - y真实| ÷ y真实 × 100%"
   ]
  },
  {
   "cell_type": "code",
   "execution_count": 87,
   "id": "116b8ba8",
   "metadata": {
    "pycharm": {
     "name": "#%%\n"
    }
   },
   "outputs": [],
   "source": [
    "def APE_list(test_seq):  # 预测的每个24小时的平均APE组成的列表\n",
    "    list1 = []\n",
    "    for i in test_seq:\n",
    "        pred = lstmnet(i[0].reshape(1, 192, 14))\n",
    "        true_label = i[1] * (v_max - v_min) + v_min\n",
    "        true_label = true_label.detach().numpy()\n",
    "        true_pred = pred * (v_max - v_min) + v_min\n",
    "        true_pred = true_pred.reshape(96)\n",
    "        true_pred = true_pred.detach().numpy()\n",
    "        num = sum(abs(true_pred - true_label) / true_label) / 96\n",
    "        list1.append(num)\n",
    "\n",
    "    return list1\n",
    "#max(list1), min(list1)，list1.index()"
   ]
  },
  {
   "cell_type": "markdown",
   "id": "e6b222a9",
   "metadata": {
    "pycharm": {
     "name": "#%% md\n"
    }
   },
   "source": [
    "在训练数据上的APE(随机选取5000个样本)"
   ]
  },
  {
   "cell_type": "code",
   "execution_count": 88,
   "id": "8a7664f1",
   "metadata": {
    "pycharm": {
     "name": "#%%\n"
    }
   },
   "outputs": [
    {
     "data": {
      "text/plain": [
       "'14.898702260749754%'"
      ]
     },
     "execution_count": 88,
     "metadata": {},
     "output_type": "execute_result"
    }
   ],
   "source": [
    "train_samples = random.sample(train_inout_seq, 5000)\n",
    "list1 = APE_list(train_samples)\n",
    "str(sum(list1) / len(list1) * 100) + '%'"
   ]
  },
  {
   "cell_type": "code",
   "execution_count": 89,
   "id": "89f62986",
   "metadata": {
    "pycharm": {
     "name": "#%%\n"
    }
   },
   "outputs": [
    {
     "name": "stdout",
     "output_type": "stream",
     "text": [
      "2.2772615524194593%\n",
      "2.206285492008685%\n"
     ]
    }
   ],
   "source": [
    "print(\"2.2772615524194593%\")\n",
    "print(\"2.206285492008685%\")"
   ]
  },
  {
   "cell_type": "markdown",
   "id": "a04031bb",
   "metadata": {
    "pycharm": {
     "name": "#%% md\n"
    }
   },
   "source": [
    "训练数据5000个样本的APE分布的箱线图"
   ]
  },
  {
   "cell_type": "code",
   "execution_count": 90,
   "id": "647b2f09",
   "metadata": {
    "pycharm": {
     "name": "#%%\n"
    }
   },
   "outputs": [
    {
     "data": {
      "text/plain": [
       "<Axes: >"
      ]
     },
     "execution_count": 90,
     "metadata": {},
     "output_type": "execute_result"
    },
    {
     "data": {
      "image/png": "[encoded data removed]",
      "text/plain": [
       "<Figure size 640x480 with 1 Axes>"
      ]
     },
     "metadata": {},
     "output_type": "display_data"
    }
   ],
   "source": [
    "sns.boxplot(data=list1)"
   ]
  },
  {
   "cell_type": "code",
   "execution_count": 91,
   "id": "46538e11",
   "metadata": {
    "pycharm": {
     "name": "#%%\n"
    }
   },
   "outputs": [
    {
     "data": {
      "text/plain": [
       "(0.0, 0.1)"
      ]
     },
     "execution_count": 91,
     "metadata": {},
     "output_type": "execute_result"
    },
    {
     "data": {
      "image/png": "[encoded data removed]",
      "text/plain": [
       "<Figure size 640x480 with 1 Axes>"
      ]
     },
     "metadata": {},
     "output_type": "display_data"
    }
   ],
   "source": [
    "sns.boxplot(data=list1)\n",
    "plt.ylim(0, 0.1)"
   ]
  },
  {
   "cell_type": "markdown",
   "id": "08886a88",
   "metadata": {
    "pycharm": {
     "name": "#%% md\n"
    }
   },
   "source": [
    "在测试数据上的APE"
   ]
  },
  {
   "cell_type": "code",
   "execution_count": 92,
   "id": "1499a336",
   "metadata": {
    "pycharm": {
     "name": "#%%\n"
    }
   },
   "outputs": [
    {
     "data": {
      "text/plain": [
       "'44.98145177531002%'"
      ]
     },
     "execution_count": 92,
     "metadata": {},
     "output_type": "execute_result"
    }
   ],
   "source": [
    "list2 = APE_list(test_seq)\n",
    "str(sum(list2) / len(list2) * 100) + '%'"
   ]
  },
  {
   "cell_type": "code",
   "execution_count": 93,
   "id": "5b6c8027",
   "metadata": {
    "pycharm": {
     "name": "#%%\n"
    }
   },
   "outputs": [],
   "source": [
    "# 12.82968216754979%\n",
    "# 11.554603512965041%\n",
    "# 10.827513699236222%  保存了模型参数\n",
    "# 12.067778039869548%\n",
    "# 11.134349473801382%\n",
    "# 12.187801521781639%\n",
    "# 13.075773991825642%\n",
    "# 11.319367309684035%\n",
    "# 12.772845299314422%\n",
    "# 12.93004775791501%\n",
    "# 12.542951042622278%"
   ]
  },
  {
   "cell_type": "markdown",
   "id": "33bb9be0",
   "metadata": {
    "pycharm": {
     "name": "#%% md\n"
    }
   },
   "source": [
    "测试数据的APE分布的箱线图"
   ]
  },
  {
   "cell_type": "code",
   "execution_count": 94,
   "id": "a14fdd8a",
   "metadata": {
    "pycharm": {
     "name": "#%%\n"
    }
   },
   "outputs": [
    {
     "data": {
      "text/plain": [
       "<Axes: >"
      ]
     },
     "execution_count": 94,
     "metadata": {},
     "output_type": "execute_result"
    },
    {
     "data": {
      "image/png": "[encoded data removed]",
      "text/plain": [
       "<Figure size 640x480 with 1 Axes>"
      ]
     },
     "metadata": {},
     "output_type": "display_data"
    }
   ],
   "source": [
    "sns.boxplot(data=list2)"
   ]
  },
  {
   "cell_type": "code",
   "execution_count": 95,
   "id": "4ca38705",
   "metadata": {
    "pycharm": {
     "name": "#%%\n"
    }
   },
   "outputs": [
    {
     "data": {
      "text/plain": [
       "(0.0, 0.4)"
      ]
     },
     "execution_count": 95,
     "metadata": {},
     "output_type": "execute_result"
    },
    {
     "data": {
      "image/png": "[encoded data removed]",
      "text/plain": [
       "<Figure size 640x480 with 1 Axes>"
      ]
     },
     "metadata": {},
     "output_type": "display_data"
    }
   ],
   "source": [
    "sns.boxplot(data=list2)\n",
    "plt.ylim(0, 0.4)"
   ]
  },
  {
   "cell_type": "code",
   "execution_count": 96,
   "id": "900a09a7",
   "metadata": {
    "pycharm": {
     "name": "#%%\n"
    }
   },
   "outputs": [
    {
     "data": {
      "text/plain": [
       "0.037486181985210955"
      ]
     },
     "execution_count": 96,
     "metadata": {},
     "output_type": "execute_result"
    }
   ],
   "source": [
    "min(list2)"
   ]
  },
  {
   "cell_type": "code",
   "execution_count": 97,
   "id": "8abe4171",
   "metadata": {
    "pycharm": {
     "name": "#%%\n"
    }
   },
   "outputs": [
    {
     "data": {
      "text/plain": [
       "2.5983755898972354"
      ]
     },
     "execution_count": 97,
     "metadata": {},
     "output_type": "execute_result"
    }
   ],
   "source": [
    "max(list2)"
   ]
  },
  {
   "cell_type": "code",
   "execution_count": 98,
   "id": "f7d75310",
   "metadata": {
    "pycharm": {
     "name": "#%%\n"
    }
   },
   "outputs": [],
   "source": [
    "torch.save(lstmnet.state_dict(), 'lstmnet_2_5_1.pt')"
   ]
  },
  {
   "cell_type": "markdown",
   "id": "271e1c09",
   "metadata": {
    "pycharm": {
     "name": "#%%\n"
    }
   },
   "source": [
    "之后可和全连接神经网络的性能做个对比"
   ]
  }
 ],
 "metadata": {
  "kernelspec": {
   "display_name": "pytorch",
   "language": "python",
   "name": "python3"
  },
  "language_info": {
   "codemirror_mode": {
    "name": "ipython",
    "version": 3
   },
   "file_extension": ".py",
   "mimetype": "text/x-python",
   "name": "python",
   "nbconvert_exporter": "python",
   "pygments_lexer": "ipython3",
   "version": "3.12.9"
  }
 },
 "nbformat": 4,
 "nbformat_minor": 5
}
